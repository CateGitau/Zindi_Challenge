{
 "cells": [
  {
   "cell_type": "markdown",
   "metadata": {
    "colab_type": "text",
    "id": "aBJaE--wKYOJ"
   },
   "source": [
    "# Starter Notebook - StatsSA\n",
    "\n",
    "This notebook introduces the Zindi competition **Women in Big Data South Africa - Women-Headed Households in South Africa**. We'll take a quick look at the data, show how to create a model, estimate the score you'll get on Zindi, prepare your submission and get onto the leaderboard. I've also given some hints as to how to get a better score - once you have your first submission in, these might give you some ideas for what to try next."
   ]
  },
  {
   "cell_type": "markdown",
   "metadata": {
    "colab_type": "text",
    "id": "g6T5r-RjKYON"
   },
   "source": [
    "# Loading the data\n",
    "Make sure the CSV files provided by Zindi are in the same folder as this notebook. If it's running on Google Colab, you can use the 'files' tab on the left to upload them. We load the training data from Train.csv, and print out the variable descriptions here for easy reference. "
   ]
  },
  {
   "cell_type": "code",
   "execution_count": 1,
   "metadata": {
    "colab": {},
    "colab_type": "code",
    "id": "gV8Fpz7vKYOP",
    "scrolled": true
   },
   "outputs": [],
   "source": [
    "import pandas as pd\n",
    "import numpy as np\n",
    "import os, random, math, glob\n",
    "from IPython.display import Image as IM\n",
    "from IPython.display import clear_output\n",
    "from matplotlib import pyplot as plt\n",
    "from xgboost import XGBRegressor\n",
    "import lightgbm as lgb\n",
    "%matplotlib inline\n",
    "plt.rcParams['figure.figsize'] = [16, 10]\n"
   ]
  },
  {
   "cell_type": "code",
   "execution_count": 2,
   "metadata": {
    "scrolled": true
   },
   "outputs": [
    {
     "name": "stdout",
     "output_type": "stream",
     "text": [
      "Requirement already satisfied: lightgbm in /home/aims/.local/lib/python3.7/site-packages (2.3.1)\n",
      "Requirement already satisfied: scikit-learn in /usr/lib/python3/dist-packages (from lightgbm) (0.20.2)\n",
      "Requirement already satisfied: numpy in /usr/lib/python3/dist-packages (from lightgbm) (1.16.2)\n",
      "Requirement already satisfied: scipy in /usr/lib/python3/dist-packages (from lightgbm) (1.1.0)\n"
     ]
    }
   ],
   "source": [
    "!pip3 install lightgbm"
   ]
  },
  {
   "cell_type": "code",
   "execution_count": 3,
   "metadata": {
    "colab": {
     "base_uri": "https://localhost:8080/",
     "height": 309
    },
    "colab_type": "code",
    "id": "gfGrrqGlKYOV",
    "outputId": "c918b49a-67a7-4b1b-81bf-918684a2ca9b"
   },
   "outputs": [
    {
     "data": {
      "text/html": [
       "<div>\n",
       "<style scoped>\n",
       "    .dataframe tbody tr th:only-of-type {\n",
       "        vertical-align: middle;\n",
       "    }\n",
       "\n",
       "    .dataframe tbody tr th {\n",
       "        vertical-align: top;\n",
       "    }\n",
       "\n",
       "    .dataframe thead th {\n",
       "        text-align: right;\n",
       "    }\n",
       "</style>\n",
       "<table border=\"1\" class=\"dataframe\">\n",
       "  <thead>\n",
       "    <tr style=\"text-align: right;\">\n",
       "      <th></th>\n",
       "      <th>ward</th>\n",
       "      <th>total_households</th>\n",
       "      <th>total_individuals</th>\n",
       "      <th>target</th>\n",
       "      <th>dw_00</th>\n",
       "      <th>dw_01</th>\n",
       "      <th>dw_02</th>\n",
       "      <th>dw_03</th>\n",
       "      <th>dw_04</th>\n",
       "      <th>dw_05</th>\n",
       "      <th>...</th>\n",
       "      <th>pw_03</th>\n",
       "      <th>pw_04</th>\n",
       "      <th>pw_05</th>\n",
       "      <th>pw_06</th>\n",
       "      <th>pw_07</th>\n",
       "      <th>pw_08</th>\n",
       "      <th>ADM4_PCODE</th>\n",
       "      <th>lat</th>\n",
       "      <th>lon</th>\n",
       "      <th>NL</th>\n",
       "    </tr>\n",
       "  </thead>\n",
       "  <tbody>\n",
       "    <tr>\n",
       "      <td>0</td>\n",
       "      <td>41601001: Ward 1</td>\n",
       "      <td>1674.45058</td>\n",
       "      <td>5888.20750</td>\n",
       "      <td>16.773757</td>\n",
       "      <td>0.933841</td>\n",
       "      <td>0.000846</td>\n",
       "      <td>0.005490</td>\n",
       "      <td>0.000676</td>\n",
       "      <td>0.000000</td>\n",
       "      <td>0.001372</td>\n",
       "      <td>...</td>\n",
       "      <td>0.002848</td>\n",
       "      <td>0.007537</td>\n",
       "      <td>0.000000</td>\n",
       "      <td>0.012928</td>\n",
       "      <td>0</td>\n",
       "      <td>0</td>\n",
       "      <td>ZA4161001</td>\n",
       "      <td>-29.682270</td>\n",
       "      <td>24.734743</td>\n",
       "      <td>0.292039</td>\n",
       "    </tr>\n",
       "    <tr>\n",
       "      <td>1</td>\n",
       "      <td>41601002: Ward 2</td>\n",
       "      <td>1736.99230</td>\n",
       "      <td>6735.33812</td>\n",
       "      <td>21.496661</td>\n",
       "      <td>0.696940</td>\n",
       "      <td>0.001253</td>\n",
       "      <td>0.004402</td>\n",
       "      <td>0.000000</td>\n",
       "      <td>0.002301</td>\n",
       "      <td>0.001323</td>\n",
       "      <td>...</td>\n",
       "      <td>0.014566</td>\n",
       "      <td>0.057127</td>\n",
       "      <td>0.019092</td>\n",
       "      <td>0.004131</td>\n",
       "      <td>0</td>\n",
       "      <td>0</td>\n",
       "      <td>ZA4161002</td>\n",
       "      <td>-29.119311</td>\n",
       "      <td>24.757737</td>\n",
       "      <td>3.207775</td>\n",
       "    </tr>\n",
       "    <tr>\n",
       "      <td>2</td>\n",
       "      <td>41601003: Ward 3</td>\n",
       "      <td>2403.57591</td>\n",
       "      <td>7273.04995</td>\n",
       "      <td>10.931425</td>\n",
       "      <td>0.810545</td>\n",
       "      <td>0.004517</td>\n",
       "      <td>0.008891</td>\n",
       "      <td>0.003986</td>\n",
       "      <td>0.007735</td>\n",
       "      <td>0.000956</td>\n",
       "      <td>...</td>\n",
       "      <td>0.057560</td>\n",
       "      <td>0.010358</td>\n",
       "      <td>0.001421</td>\n",
       "      <td>0.040881</td>\n",
       "      <td>0</td>\n",
       "      <td>0</td>\n",
       "      <td>ZA4161003</td>\n",
       "      <td>-29.142276</td>\n",
       "      <td>25.094093</td>\n",
       "      <td>0.000000</td>\n",
       "    </tr>\n",
       "    <tr>\n",
       "      <td>3</td>\n",
       "      <td>41601004: Ward 4</td>\n",
       "      <td>1740.78737</td>\n",
       "      <td>5734.49046</td>\n",
       "      <td>23.119257</td>\n",
       "      <td>0.659914</td>\n",
       "      <td>0.000000</td>\n",
       "      <td>0.006129</td>\n",
       "      <td>0.000000</td>\n",
       "      <td>0.000813</td>\n",
       "      <td>0.037245</td>\n",
       "      <td>...</td>\n",
       "      <td>0.000000</td>\n",
       "      <td>0.000669</td>\n",
       "      <td>0.000000</td>\n",
       "      <td>0.005011</td>\n",
       "      <td>0</td>\n",
       "      <td>0</td>\n",
       "      <td>ZA4161004</td>\n",
       "      <td>-29.372052</td>\n",
       "      <td>24.942867</td>\n",
       "      <td>2.038778</td>\n",
       "    </tr>\n",
       "    <tr>\n",
       "      <td>4</td>\n",
       "      <td>41601005: Ward 5</td>\n",
       "      <td>1730.51451</td>\n",
       "      <td>6657.23835</td>\n",
       "      <td>13.652252</td>\n",
       "      <td>0.950575</td>\n",
       "      <td>0.000655</td>\n",
       "      <td>0.001473</td>\n",
       "      <td>0.000598</td>\n",
       "      <td>0.006999</td>\n",
       "      <td>0.000818</td>\n",
       "      <td>...</td>\n",
       "      <td>0.004859</td>\n",
       "      <td>0.001290</td>\n",
       "      <td>0.000673</td>\n",
       "      <td>0.017629</td>\n",
       "      <td>0</td>\n",
       "      <td>0</td>\n",
       "      <td>ZA4161005</td>\n",
       "      <td>-29.409381</td>\n",
       "      <td>25.290165</td>\n",
       "      <td>0.000000</td>\n",
       "    </tr>\n",
       "  </tbody>\n",
       "</table>\n",
       "<p>5 rows × 63 columns</p>\n",
       "</div>"
      ],
      "text/plain": [
       "               ward  total_households  total_individuals     target     dw_00  \\\n",
       "0  41601001: Ward 1        1674.45058         5888.20750  16.773757  0.933841   \n",
       "1  41601002: Ward 2        1736.99230         6735.33812  21.496661  0.696940   \n",
       "2  41601003: Ward 3        2403.57591         7273.04995  10.931425  0.810545   \n",
       "3  41601004: Ward 4        1740.78737         5734.49046  23.119257  0.659914   \n",
       "4  41601005: Ward 5        1730.51451         6657.23835  13.652252  0.950575   \n",
       "\n",
       "      dw_01     dw_02     dw_03     dw_04     dw_05  ...     pw_03     pw_04  \\\n",
       "0  0.000846  0.005490  0.000676  0.000000  0.001372  ...  0.002848  0.007537   \n",
       "1  0.001253  0.004402  0.000000  0.002301  0.001323  ...  0.014566  0.057127   \n",
       "2  0.004517  0.008891  0.003986  0.007735  0.000956  ...  0.057560  0.010358   \n",
       "3  0.000000  0.006129  0.000000  0.000813  0.037245  ...  0.000000  0.000669   \n",
       "4  0.000655  0.001473  0.000598  0.006999  0.000818  ...  0.004859  0.001290   \n",
       "\n",
       "      pw_05     pw_06  pw_07  pw_08  ADM4_PCODE        lat        lon  \\\n",
       "0  0.000000  0.012928      0      0   ZA4161001 -29.682270  24.734743   \n",
       "1  0.019092  0.004131      0      0   ZA4161002 -29.119311  24.757737   \n",
       "2  0.001421  0.040881      0      0   ZA4161003 -29.142276  25.094093   \n",
       "3  0.000000  0.005011      0      0   ZA4161004 -29.372052  24.942867   \n",
       "4  0.000673  0.017629      0      0   ZA4161005 -29.409381  25.290165   \n",
       "\n",
       "         NL  \n",
       "0  0.292039  \n",
       "1  3.207775  \n",
       "2  0.000000  \n",
       "3  2.038778  \n",
       "4  0.000000  \n",
       "\n",
       "[5 rows x 63 columns]"
      ]
     },
     "execution_count": 3,
     "metadata": {},
     "output_type": "execute_result"
    }
   ],
   "source": [
    "df = pd.read_csv('Train.csv')\n",
    "df.head()"
   ]
  },
  {
   "cell_type": "code",
   "execution_count": 4,
   "metadata": {},
   "outputs": [
    {
     "data": {
      "text/plain": [
       "(2822, 63)"
      ]
     },
     "execution_count": 4,
     "metadata": {},
     "output_type": "execute_result"
    }
   ],
   "source": [
    "df.shape"
   ]
  },
  {
   "cell_type": "code",
   "execution_count": 5,
   "metadata": {
    "colab": {
     "base_uri": "https://localhost:8080/",
     "height": 1000
    },
    "colab_type": "code",
    "id": "ytHU7Sh2KYOc",
    "outputId": "4233dd3a-0f6b-41e9-d494-2b3d98f883bf"
   },
   "outputs": [
    {
     "data": {
      "text/html": [
       "<div>\n",
       "<style scoped>\n",
       "    .dataframe tbody tr th:only-of-type {\n",
       "        vertical-align: middle;\n",
       "    }\n",
       "\n",
       "    .dataframe tbody tr th {\n",
       "        vertical-align: top;\n",
       "    }\n",
       "\n",
       "    .dataframe thead th {\n",
       "        text-align: right;\n",
       "    }\n",
       "</style>\n",
       "<table border=\"1\" class=\"dataframe\">\n",
       "  <thead>\n",
       "    <tr style=\"text-align: right;\">\n",
       "      <th></th>\n",
       "      <th>Column</th>\n",
       "      <th>Description</th>\n",
       "      <th>Unnamed: 2</th>\n",
       "      <th>Unnamed: 3</th>\n",
       "    </tr>\n",
       "  </thead>\n",
       "  <tbody>\n",
       "    <tr>\n",
       "      <td>0</td>\n",
       "      <td>dw_00</td>\n",
       "      <td>Percentage of dwellings of type: House or brick/concrete block structure on a separate stand or yard or on a farm</td>\n",
       "      <td>NaN</td>\n",
       "      <td>NaN</td>\n",
       "    </tr>\n",
       "    <tr>\n",
       "      <td>1</td>\n",
       "      <td>dw_01</td>\n",
       "      <td>Percentage of dwellings of type: Traditional dwelling/hut/structure made of traditional materials</td>\n",
       "      <td>NaN</td>\n",
       "      <td>NaN</td>\n",
       "    </tr>\n",
       "    <tr>\n",
       "      <td>2</td>\n",
       "      <td>dw_02</td>\n",
       "      <td>Percentage of dwellings of type: Flat or apartment in a block of flats</td>\n",
       "      <td>NaN</td>\n",
       "      <td>NaN</td>\n",
       "    </tr>\n",
       "    <tr>\n",
       "      <td>3</td>\n",
       "      <td>dw_03</td>\n",
       "      <td>Percentage of dwellings of type: Cluster house in complex</td>\n",
       "      <td>NaN</td>\n",
       "      <td>NaN</td>\n",
       "    </tr>\n",
       "    <tr>\n",
       "      <td>4</td>\n",
       "      <td>dw_04</td>\n",
       "      <td>Percentage of dwellings of type: Townhouse (semi-detached house in a complex)</td>\n",
       "      <td>NaN</td>\n",
       "      <td>NaN</td>\n",
       "    </tr>\n",
       "    <tr>\n",
       "      <td>5</td>\n",
       "      <td>dw_05</td>\n",
       "      <td>Percentage of dwellings of type: Semi-detached house</td>\n",
       "      <td>NaN</td>\n",
       "      <td>NaN</td>\n",
       "    </tr>\n",
       "    <tr>\n",
       "      <td>6</td>\n",
       "      <td>dw_06</td>\n",
       "      <td>Percentage of dwellings of type: House/flat/room in backyard</td>\n",
       "      <td>NaN</td>\n",
       "      <td>NaN</td>\n",
       "    </tr>\n",
       "    <tr>\n",
       "      <td>7</td>\n",
       "      <td>dw_07</td>\n",
       "      <td>Percentage of dwellings of type: Informal dwelling (shack</td>\n",
       "      <td>in backyard)</td>\n",
       "      <td>NaN</td>\n",
       "    </tr>\n",
       "    <tr>\n",
       "      <td>8</td>\n",
       "      <td>dw_08</td>\n",
       "      <td>Percentage of dwellings of type: Informal dwelling (shack</td>\n",
       "      <td>not in backyard</td>\n",
       "      <td>e.g. in an informal/squatter settlement or on a farm)</td>\n",
       "    </tr>\n",
       "    <tr>\n",
       "      <td>9</td>\n",
       "      <td>dw_09</td>\n",
       "      <td>Percentage of dwellings of type: Room/flatlet on a property or larger dwelling/servants quarters/granny flat</td>\n",
       "      <td>NaN</td>\n",
       "      <td>NaN</td>\n",
       "    </tr>\n",
       "    <tr>\n",
       "      <td>10</td>\n",
       "      <td>dw_10</td>\n",
       "      <td>Percentage of dwellings of type: Caravan/tent</td>\n",
       "      <td>NaN</td>\n",
       "      <td>NaN</td>\n",
       "    </tr>\n",
       "    <tr>\n",
       "      <td>11</td>\n",
       "      <td>dw_11</td>\n",
       "      <td>Percentage of dwellings of type: Other</td>\n",
       "      <td>NaN</td>\n",
       "      <td>NaN</td>\n",
       "    </tr>\n",
       "    <tr>\n",
       "      <td>12</td>\n",
       "      <td>dw_12</td>\n",
       "      <td>Percentage of dwellings of type: Unspecified</td>\n",
       "      <td>NaN</td>\n",
       "      <td>NaN</td>\n",
       "    </tr>\n",
       "    <tr>\n",
       "      <td>13</td>\n",
       "      <td>dw_13</td>\n",
       "      <td>Percentage of dwellings of type: Not applicable</td>\n",
       "      <td>NaN</td>\n",
       "      <td>NaN</td>\n",
       "    </tr>\n",
       "    <tr>\n",
       "      <td>14</td>\n",
       "      <td>psa_00</td>\n",
       "      <td>Percentage listing present school attendance as:  Yes</td>\n",
       "      <td>NaN</td>\n",
       "      <td>NaN</td>\n",
       "    </tr>\n",
       "    <tr>\n",
       "      <td>15</td>\n",
       "      <td>psa_01</td>\n",
       "      <td>Percentage listing present school attendance as:  No</td>\n",
       "      <td>NaN</td>\n",
       "      <td>NaN</td>\n",
       "    </tr>\n",
       "    <tr>\n",
       "      <td>16</td>\n",
       "      <td>psa_02</td>\n",
       "      <td>Percentage listing present school attendance as:  Do not know</td>\n",
       "      <td>NaN</td>\n",
       "      <td>NaN</td>\n",
       "    </tr>\n",
       "    <tr>\n",
       "      <td>17</td>\n",
       "      <td>psa_03</td>\n",
       "      <td>Percentage listing present school attendance as:  Unspecified</td>\n",
       "      <td>NaN</td>\n",
       "      <td>NaN</td>\n",
       "    </tr>\n",
       "    <tr>\n",
       "      <td>18</td>\n",
       "      <td>psa_04</td>\n",
       "      <td>Percentage listing present school attendance as:  Not applicable</td>\n",
       "      <td>NaN</td>\n",
       "      <td>NaN</td>\n",
       "    </tr>\n",
       "    <tr>\n",
       "      <td>19</td>\n",
       "      <td>stv_00</td>\n",
       "      <td>Percentage of households with Satellite TV:  Yes</td>\n",
       "      <td>NaN</td>\n",
       "      <td>NaN</td>\n",
       "    </tr>\n",
       "    <tr>\n",
       "      <td>20</td>\n",
       "      <td>stv_01</td>\n",
       "      <td>Percentage of households with Satellite TV:  No</td>\n",
       "      <td>NaN</td>\n",
       "      <td>NaN</td>\n",
       "    </tr>\n",
       "    <tr>\n",
       "      <td>21</td>\n",
       "      <td>car_00</td>\n",
       "      <td>Percentage of households with a car:  Yes</td>\n",
       "      <td>NaN</td>\n",
       "      <td>NaN</td>\n",
       "    </tr>\n",
       "    <tr>\n",
       "      <td>22</td>\n",
       "      <td>car_01</td>\n",
       "      <td>Percentage of households with a car:  No</td>\n",
       "      <td>NaN</td>\n",
       "      <td>NaN</td>\n",
       "    </tr>\n",
       "    <tr>\n",
       "      <td>23</td>\n",
       "      <td>lln_00</td>\n",
       "      <td>Percentage listing landline ownership as:  Yes</td>\n",
       "      <td>NaN</td>\n",
       "      <td>NaN</td>\n",
       "    </tr>\n",
       "    <tr>\n",
       "      <td>24</td>\n",
       "      <td>lln_01</td>\n",
       "      <td>Percentage listing landline ownership as:  No</td>\n",
       "      <td>NaN</td>\n",
       "      <td>NaN</td>\n",
       "    </tr>\n",
       "    <tr>\n",
       "      <td>25</td>\n",
       "      <td>lan_00</td>\n",
       "      <td>Percentage listing language as:  Afrikaans</td>\n",
       "      <td>NaN</td>\n",
       "      <td>NaN</td>\n",
       "    </tr>\n",
       "    <tr>\n",
       "      <td>26</td>\n",
       "      <td>lan_01</td>\n",
       "      <td>Percentage listing language as:  English</td>\n",
       "      <td>NaN</td>\n",
       "      <td>NaN</td>\n",
       "    </tr>\n",
       "    <tr>\n",
       "      <td>27</td>\n",
       "      <td>lan_02</td>\n",
       "      <td>Percentage listing language as:  IsiNdebele</td>\n",
       "      <td>NaN</td>\n",
       "      <td>NaN</td>\n",
       "    </tr>\n",
       "    <tr>\n",
       "      <td>28</td>\n",
       "      <td>lan_03</td>\n",
       "      <td>Percentage listing language as:  IsiXhosa</td>\n",
       "      <td>NaN</td>\n",
       "      <td>NaN</td>\n",
       "    </tr>\n",
       "    <tr>\n",
       "      <td>29</td>\n",
       "      <td>lan_04</td>\n",
       "      <td>Percentage listing language as:  IsiZulu</td>\n",
       "      <td>NaN</td>\n",
       "      <td>NaN</td>\n",
       "    </tr>\n",
       "    <tr>\n",
       "      <td>30</td>\n",
       "      <td>lan_05</td>\n",
       "      <td>Percentage listing language as:  Sepedi</td>\n",
       "      <td>NaN</td>\n",
       "      <td>NaN</td>\n",
       "    </tr>\n",
       "    <tr>\n",
       "      <td>31</td>\n",
       "      <td>lan_06</td>\n",
       "      <td>Percentage listing language as:  Sesotho</td>\n",
       "      <td>NaN</td>\n",
       "      <td>NaN</td>\n",
       "    </tr>\n",
       "    <tr>\n",
       "      <td>32</td>\n",
       "      <td>lan_07</td>\n",
       "      <td>Percentage listing language as:  Setswana</td>\n",
       "      <td>NaN</td>\n",
       "      <td>NaN</td>\n",
       "    </tr>\n",
       "    <tr>\n",
       "      <td>33</td>\n",
       "      <td>lan_08</td>\n",
       "      <td>Percentage listing language as:  Sign language</td>\n",
       "      <td>NaN</td>\n",
       "      <td>NaN</td>\n",
       "    </tr>\n",
       "    <tr>\n",
       "      <td>34</td>\n",
       "      <td>lan_09</td>\n",
       "      <td>Percentage listing language as:  SiSwati</td>\n",
       "      <td>NaN</td>\n",
       "      <td>NaN</td>\n",
       "    </tr>\n",
       "    <tr>\n",
       "      <td>35</td>\n",
       "      <td>lan_10</td>\n",
       "      <td>Percentage listing language as:  Tshivenda</td>\n",
       "      <td>NaN</td>\n",
       "      <td>NaN</td>\n",
       "    </tr>\n",
       "    <tr>\n",
       "      <td>36</td>\n",
       "      <td>lan_11</td>\n",
       "      <td>Percentage listing language as:  Xitsonga</td>\n",
       "      <td>NaN</td>\n",
       "      <td>NaN</td>\n",
       "    </tr>\n",
       "    <tr>\n",
       "      <td>37</td>\n",
       "      <td>lan_12</td>\n",
       "      <td>Percentage listing language as:  Other</td>\n",
       "      <td>NaN</td>\n",
       "      <td>NaN</td>\n",
       "    </tr>\n",
       "    <tr>\n",
       "      <td>38</td>\n",
       "      <td>lan_13</td>\n",
       "      <td>Percentage listing language as:  Unspecified</td>\n",
       "      <td>NaN</td>\n",
       "      <td>NaN</td>\n",
       "    </tr>\n",
       "    <tr>\n",
       "      <td>39</td>\n",
       "      <td>lan_14</td>\n",
       "      <td>Percentage listing language as:  Not applicable</td>\n",
       "      <td>NaN</td>\n",
       "      <td>NaN</td>\n",
       "    </tr>\n",
       "    <tr>\n",
       "      <td>40</td>\n",
       "      <td>pg_00</td>\n",
       "      <td>Percentage in population group:  Black African</td>\n",
       "      <td>NaN</td>\n",
       "      <td>NaN</td>\n",
       "    </tr>\n",
       "    <tr>\n",
       "      <td>41</td>\n",
       "      <td>pg_01</td>\n",
       "      <td>Percentage in population group:  Coloured</td>\n",
       "      <td>NaN</td>\n",
       "      <td>NaN</td>\n",
       "    </tr>\n",
       "    <tr>\n",
       "      <td>42</td>\n",
       "      <td>pg_02</td>\n",
       "      <td>Percentage in population group:  Indian or Asian</td>\n",
       "      <td>NaN</td>\n",
       "      <td>NaN</td>\n",
       "    </tr>\n",
       "    <tr>\n",
       "      <td>43</td>\n",
       "      <td>pg_03</td>\n",
       "      <td>Percentage in population group:  White</td>\n",
       "      <td>NaN</td>\n",
       "      <td>NaN</td>\n",
       "    </tr>\n",
       "    <tr>\n",
       "      <td>44</td>\n",
       "      <td>pg_04</td>\n",
       "      <td>Percentage in population group:  Other</td>\n",
       "      <td>NaN</td>\n",
       "      <td>NaN</td>\n",
       "    </tr>\n",
       "    <tr>\n",
       "      <td>45</td>\n",
       "      <td>lgt_00</td>\n",
       "      <td>Percentage using electricity for lighting</td>\n",
       "      <td>NaN</td>\n",
       "      <td>NaN</td>\n",
       "    </tr>\n",
       "    <tr>\n",
       "      <td>46</td>\n",
       "      <td>pw_00</td>\n",
       "      <td>Percentage with piped water access:  Piped (tap) water inside dwelling/institution</td>\n",
       "      <td>NaN</td>\n",
       "      <td>NaN</td>\n",
       "    </tr>\n",
       "    <tr>\n",
       "      <td>47</td>\n",
       "      <td>pw_01</td>\n",
       "      <td>Percentage with piped water access:  Piped (tap) water inside yard</td>\n",
       "      <td>NaN</td>\n",
       "      <td>NaN</td>\n",
       "    </tr>\n",
       "    <tr>\n",
       "      <td>48</td>\n",
       "      <td>pw_02</td>\n",
       "      <td>Percentage with piped water access:  Piped (tap) water on community stand: distance less than 200m from dwelling/institution</td>\n",
       "      <td>NaN</td>\n",
       "      <td>NaN</td>\n",
       "    </tr>\n",
       "    <tr>\n",
       "      <td>49</td>\n",
       "      <td>pw_03</td>\n",
       "      <td>Percentage with piped water access:  Piped (tap) water on community stand: distance between 200m and 500m from dwelling/institution</td>\n",
       "      <td>NaN</td>\n",
       "      <td>NaN</td>\n",
       "    </tr>\n",
       "    <tr>\n",
       "      <td>50</td>\n",
       "      <td>pw_04</td>\n",
       "      <td>Percentage with piped water access:  Piped (tap) water on community stand: distance between 500m and 1000m (1km) from dwelling /institution</td>\n",
       "      <td>NaN</td>\n",
       "      <td>NaN</td>\n",
       "    </tr>\n",
       "    <tr>\n",
       "      <td>51</td>\n",
       "      <td>pw_05</td>\n",
       "      <td>Percentage with piped water access:  Piped (tap) water on community stand: distance greater than 1000m (1km) from dwelling/institution</td>\n",
       "      <td>NaN</td>\n",
       "      <td>NaN</td>\n",
       "    </tr>\n",
       "    <tr>\n",
       "      <td>52</td>\n",
       "      <td>pw_06</td>\n",
       "      <td>Percentage with piped water access:  No access to piped (tap) water</td>\n",
       "      <td>NaN</td>\n",
       "      <td>NaN</td>\n",
       "    </tr>\n",
       "    <tr>\n",
       "      <td>53</td>\n",
       "      <td>pw_07</td>\n",
       "      <td>Percentage with piped water access:  Unspecified</td>\n",
       "      <td>NaN</td>\n",
       "      <td>NaN</td>\n",
       "    </tr>\n",
       "    <tr>\n",
       "      <td>54</td>\n",
       "      <td>pw_08</td>\n",
       "      <td>Percentage with piped water access:  Not applicable</td>\n",
       "      <td>NaN</td>\n",
       "      <td>NaN</td>\n",
       "    </tr>\n",
       "    <tr>\n",
       "      <td>55</td>\n",
       "      <td>ADM4_PCODE</td>\n",
       "      <td>Code for linking row to ward in the wards shapefile</td>\n",
       "      <td>NaN</td>\n",
       "      <td>NaN</td>\n",
       "    </tr>\n",
       "    <tr>\n",
       "      <td>56</td>\n",
       "      <td>lat</td>\n",
       "      <td>Lattitude of the center point of the ward</td>\n",
       "      <td>NaN</td>\n",
       "      <td>NaN</td>\n",
       "    </tr>\n",
       "    <tr>\n",
       "      <td>57</td>\n",
       "      <td>lon</td>\n",
       "      <td>Longitude of the center point of the ward</td>\n",
       "      <td>NaN</td>\n",
       "      <td>NaN</td>\n",
       "    </tr>\n",
       "    <tr>\n",
       "      <td>58</td>\n",
       "      <td>NL</td>\n",
       "      <td>Nightlights value for the area arounf (lat, lon)</td>\n",
       "      <td>NaN</td>\n",
       "      <td>NaN</td>\n",
       "    </tr>\n",
       "    <tr>\n",
       "      <td>59</td>\n",
       "      <td>target</td>\n",
       "      <td>Percentage of women head households with income under R19.6k out of total number of households</td>\n",
       "      <td>NaN</td>\n",
       "      <td>NaN</td>\n",
       "    </tr>\n",
       "  </tbody>\n",
       "</table>\n",
       "</div>"
      ],
      "text/plain": [
       "        Column  \\\n",
       "0        dw_00   \n",
       "1        dw_01   \n",
       "2        dw_02   \n",
       "3        dw_03   \n",
       "4        dw_04   \n",
       "5        dw_05   \n",
       "6        dw_06   \n",
       "7        dw_07   \n",
       "8        dw_08   \n",
       "9        dw_09   \n",
       "10       dw_10   \n",
       "11       dw_11   \n",
       "12       dw_12   \n",
       "13       dw_13   \n",
       "14      psa_00   \n",
       "15      psa_01   \n",
       "16      psa_02   \n",
       "17      psa_03   \n",
       "18      psa_04   \n",
       "19      stv_00   \n",
       "20      stv_01   \n",
       "21      car_00   \n",
       "22      car_01   \n",
       "23      lln_00   \n",
       "24      lln_01   \n",
       "25      lan_00   \n",
       "26      lan_01   \n",
       "27      lan_02   \n",
       "28      lan_03   \n",
       "29      lan_04   \n",
       "30      lan_05   \n",
       "31      lan_06   \n",
       "32      lan_07   \n",
       "33      lan_08   \n",
       "34      lan_09   \n",
       "35      lan_10   \n",
       "36      lan_11   \n",
       "37      lan_12   \n",
       "38      lan_13   \n",
       "39      lan_14   \n",
       "40       pg_00   \n",
       "41       pg_01   \n",
       "42       pg_02   \n",
       "43       pg_03   \n",
       "44       pg_04   \n",
       "45      lgt_00   \n",
       "46       pw_00   \n",
       "47       pw_01   \n",
       "48       pw_02   \n",
       "49       pw_03   \n",
       "50       pw_04   \n",
       "51       pw_05   \n",
       "52       pw_06   \n",
       "53       pw_07   \n",
       "54       pw_08   \n",
       "55  ADM4_PCODE   \n",
       "56         lat   \n",
       "57         lon   \n",
       "58          NL   \n",
       "59      target   \n",
       "\n",
       "                                                                                                                                    Description  \\\n",
       "0                             Percentage of dwellings of type: House or brick/concrete block structure on a separate stand or yard or on a farm   \n",
       "1                                             Percentage of dwellings of type: Traditional dwelling/hut/structure made of traditional materials   \n",
       "2                                                                        Percentage of dwellings of type: Flat or apartment in a block of flats   \n",
       "3                                                                                     Percentage of dwellings of type: Cluster house in complex   \n",
       "4                                                                 Percentage of dwellings of type: Townhouse (semi-detached house in a complex)   \n",
       "5                                                                                          Percentage of dwellings of type: Semi-detached house   \n",
       "6                                                                                  Percentage of dwellings of type: House/flat/room in backyard   \n",
       "7                                                                                     Percentage of dwellings of type: Informal dwelling (shack   \n",
       "8                                                                                     Percentage of dwellings of type: Informal dwelling (shack   \n",
       "9                                  Percentage of dwellings of type: Room/flatlet on a property or larger dwelling/servants quarters/granny flat   \n",
       "10                                                                                                Percentage of dwellings of type: Caravan/tent   \n",
       "11                                                                                                       Percentage of dwellings of type: Other   \n",
       "12                                                                                                 Percentage of dwellings of type: Unspecified   \n",
       "13                                                                                              Percentage of dwellings of type: Not applicable   \n",
       "14                                                                                        Percentage listing present school attendance as:  Yes   \n",
       "15                                                                                         Percentage listing present school attendance as:  No   \n",
       "16                                                                                Percentage listing present school attendance as:  Do not know   \n",
       "17                                                                                Percentage listing present school attendance as:  Unspecified   \n",
       "18                                                                             Percentage listing present school attendance as:  Not applicable   \n",
       "19                                                                                             Percentage of households with Satellite TV:  Yes   \n",
       "20                                                                                              Percentage of households with Satellite TV:  No   \n",
       "21                                                                                                    Percentage of households with a car:  Yes   \n",
       "22                                                                                                     Percentage of households with a car:  No   \n",
       "23                                                                                               Percentage listing landline ownership as:  Yes   \n",
       "24                                                                                                Percentage listing landline ownership as:  No   \n",
       "25                                                                                                   Percentage listing language as:  Afrikaans   \n",
       "26                                                                                                     Percentage listing language as:  English   \n",
       "27                                                                                                  Percentage listing language as:  IsiNdebele   \n",
       "28                                                                                                    Percentage listing language as:  IsiXhosa   \n",
       "29                                                                                                     Percentage listing language as:  IsiZulu   \n",
       "30                                                                                                      Percentage listing language as:  Sepedi   \n",
       "31                                                                                                     Percentage listing language as:  Sesotho   \n",
       "32                                                                                                    Percentage listing language as:  Setswana   \n",
       "33                                                                                               Percentage listing language as:  Sign language   \n",
       "34                                                                                                     Percentage listing language as:  SiSwati   \n",
       "35                                                                                                   Percentage listing language as:  Tshivenda   \n",
       "36                                                                                                    Percentage listing language as:  Xitsonga   \n",
       "37                                                                                                       Percentage listing language as:  Other   \n",
       "38                                                                                                 Percentage listing language as:  Unspecified   \n",
       "39                                                                                              Percentage listing language as:  Not applicable   \n",
       "40                                                                                               Percentage in population group:  Black African   \n",
       "41                                                                                                    Percentage in population group:  Coloured   \n",
       "42                                                                                             Percentage in population group:  Indian or Asian   \n",
       "43                                                                                                       Percentage in population group:  White   \n",
       "44                                                                                                       Percentage in population group:  Other   \n",
       "45                                                                                                    Percentage using electricity for lighting   \n",
       "46                                                           Percentage with piped water access:  Piped (tap) water inside dwelling/institution   \n",
       "47                                                                           Percentage with piped water access:  Piped (tap) water inside yard   \n",
       "48                 Percentage with piped water access:  Piped (tap) water on community stand: distance less than 200m from dwelling/institution   \n",
       "49          Percentage with piped water access:  Piped (tap) water on community stand: distance between 200m and 500m from dwelling/institution   \n",
       "50  Percentage with piped water access:  Piped (tap) water on community stand: distance between 500m and 1000m (1km) from dwelling /institution   \n",
       "51       Percentage with piped water access:  Piped (tap) water on community stand: distance greater than 1000m (1km) from dwelling/institution   \n",
       "52                                                                          Percentage with piped water access:  No access to piped (tap) water   \n",
       "53                                                                                             Percentage with piped water access:  Unspecified   \n",
       "54                                                                                          Percentage with piped water access:  Not applicable   \n",
       "55                                                                                          Code for linking row to ward in the wards shapefile   \n",
       "56                                                                                                    Lattitude of the center point of the ward   \n",
       "57                                                                                                    Longitude of the center point of the ward   \n",
       "58                                                                                             Nightlights value for the area arounf (lat, lon)   \n",
       "59                                               Percentage of women head households with income under R19.6k out of total number of households   \n",
       "\n",
       "          Unnamed: 2                                              Unnamed: 3  \n",
       "0                NaN                                                     NaN  \n",
       "1                NaN                                                     NaN  \n",
       "2                NaN                                                     NaN  \n",
       "3                NaN                                                     NaN  \n",
       "4                NaN                                                     NaN  \n",
       "5                NaN                                                     NaN  \n",
       "6                NaN                                                     NaN  \n",
       "7       in backyard)                                                     NaN  \n",
       "8    not in backyard   e.g. in an informal/squatter settlement or on a farm)  \n",
       "9                NaN                                                     NaN  \n",
       "10               NaN                                                     NaN  \n",
       "11               NaN                                                     NaN  \n",
       "12               NaN                                                     NaN  \n",
       "13               NaN                                                     NaN  \n",
       "14               NaN                                                     NaN  \n",
       "15               NaN                                                     NaN  \n",
       "16               NaN                                                     NaN  \n",
       "17               NaN                                                     NaN  \n",
       "18               NaN                                                     NaN  \n",
       "19               NaN                                                     NaN  \n",
       "20               NaN                                                     NaN  \n",
       "21               NaN                                                     NaN  \n",
       "22               NaN                                                     NaN  \n",
       "23               NaN                                                     NaN  \n",
       "24               NaN                                                     NaN  \n",
       "25               NaN                                                     NaN  \n",
       "26               NaN                                                     NaN  \n",
       "27               NaN                                                     NaN  \n",
       "28               NaN                                                     NaN  \n",
       "29               NaN                                                     NaN  \n",
       "30               NaN                                                     NaN  \n",
       "31               NaN                                                     NaN  \n",
       "32               NaN                                                     NaN  \n",
       "33               NaN                                                     NaN  \n",
       "34               NaN                                                     NaN  \n",
       "35               NaN                                                     NaN  \n",
       "36               NaN                                                     NaN  \n",
       "37               NaN                                                     NaN  \n",
       "38               NaN                                                     NaN  \n",
       "39               NaN                                                     NaN  \n",
       "40               NaN                                                     NaN  \n",
       "41               NaN                                                     NaN  \n",
       "42               NaN                                                     NaN  \n",
       "43               NaN                                                     NaN  \n",
       "44               NaN                                                     NaN  \n",
       "45               NaN                                                     NaN  \n",
       "46               NaN                                                     NaN  \n",
       "47               NaN                                                     NaN  \n",
       "48               NaN                                                     NaN  \n",
       "49               NaN                                                     NaN  \n",
       "50               NaN                                                     NaN  \n",
       "51               NaN                                                     NaN  \n",
       "52               NaN                                                     NaN  \n",
       "53               NaN                                                     NaN  \n",
       "54               NaN                                                     NaN  \n",
       "55               NaN                                                     NaN  \n",
       "56               NaN                                                     NaN  \n",
       "57               NaN                                                     NaN  \n",
       "58               NaN                                                     NaN  \n",
       "59               NaN                                                     NaN  "
      ]
     },
     "execution_count": 5,
     "metadata": {},
     "output_type": "execute_result"
    }
   ],
   "source": [
    "var_desc = pd.read_csv('variable_descriptions.csv')\n",
    "pd.set_option('display.max_colwidth', 200) # So that we can see the full descriptions\n",
    "var_desc"
   ]
  },
  {
   "cell_type": "markdown",
   "metadata": {
    "colab_type": "text",
    "id": "5chJlQBxKYOi"
   },
   "source": [
    "# Quick EDA\n",
    "Before we dive into modelling, let's take a quick look at the data and see what we have to work with. "
   ]
  },
  {
   "cell_type": "markdown",
   "metadata": {
    "colab_type": "text",
    "id": "kO6UB7uQKYOj"
   },
   "source": [
    "## Looking at the target variable\n",
    "The purpose of this competition is to predict the percentage of households in a ward that are woman-headed and have an annual household income of <R19,600. To put that in context, that's less than 250USD per month. "
   ]
  },
  {
   "cell_type": "code",
   "execution_count": 6,
   "metadata": {
    "colab": {
     "base_uri": "https://localhost:8080/",
     "height": 623
    },
    "colab_type": "code",
    "id": "fhCt8mEIKYOl",
    "outputId": "9fb84b2e-74d7-42fd-c87b-b8099e2798d8"
   },
   "outputs": [
    {
     "data": {
      "text/plain": [
       "Text(0.5, 0, 'Percentage of households that are w-headed and have income under R19.6k/month')"
      ]
     },
     "execution_count": 6,
     "metadata": {},
     "output_type": "execute_result"
    },
    {
     "data": {
      "image/png": "[encoded data removed]",
      "text/plain": [
       "<Figure size 432x288 with 1 Axes>"
      ]
     },
     "metadata": {
      "needs_background": "light"
     },
     "output_type": "display_data"
    }
   ],
   "source": [
    "# Plot the distribution\n",
    "ax = df['target'].plot(kind='hist')\n",
    "plt.xlabel('Percentage of households that are w-headed and have income under R19.6k/month')"
   ]
  },
  {
   "cell_type": "markdown",
   "metadata": {
    "colab_type": "text",
    "id": "Y5898TVfKYOs"
   },
   "source": [
    "# Looking at a few interesting correlations"
   ]
  },
  {
   "cell_type": "code",
   "execution_count": 7,
   "metadata": {
    "colab": {
     "base_uri": "https://localhost:8080/",
     "height": 204
    },
    "colab_type": "code",
    "id": "fVMaahPiKYOv",
    "outputId": "5bdd7b41-98f9-423e-ee7d-9c849032035d"
   },
   "outputs": [
    {
     "data": {
      "text/plain": [
       "target    1.000000\n",
       "psa_00    0.782472\n",
       "car_01    0.702831\n",
       "stv_01    0.664181\n",
       "lln_01    0.637835\n",
       "pg_00     0.613346\n",
       "pw_06     0.470676\n",
       "dw_01     0.458206\n",
       "pw_02     0.442441\n",
       "pw_03     0.440941\n",
       "Name: target, dtype: float64"
      ]
     },
     "execution_count": 7,
     "metadata": {},
     "output_type": "execute_result"
    }
   ],
   "source": [
    "# Strong +ve correlations\n",
    "df.corr()['target'].sort_values(ascending=False).head(10)"
   ]
  },
  {
   "cell_type": "code",
   "execution_count": 8,
   "metadata": {
    "colab": {
     "base_uri": "https://localhost:8080/",
     "height": 204
    },
    "colab_type": "code",
    "id": "d61CC8IlKYO4",
    "outputId": "86e36bad-b955-4045-b6a7-e160b674fdab"
   },
   "outputs": [
    {
     "data": {
      "text/plain": [
       "pw_00    -0.754536\n",
       "psa_01   -0.707506\n",
       "car_00   -0.702831\n",
       "stv_00   -0.664181\n",
       "lln_00   -0.637835\n",
       "pg_03    -0.583908\n",
       "NL       -0.514398\n",
       "lan_00   -0.507942\n",
       "lan_01   -0.438704\n",
       "dw_04    -0.385533\n",
       "Name: target, dtype: float64"
      ]
     },
     "execution_count": 8,
     "metadata": {},
     "output_type": "execute_result"
    }
   ],
   "source": [
    "# And negative correlations\n",
    "df.corr()['target'].sort_values().head(10)"
   ]
  },
  {
   "cell_type": "markdown",
   "metadata": {
    "colab_type": "text",
    "id": "N15jY1v6KYPC"
   },
   "source": [
    "There are some high correlations here. Let's pick a few and investigate."
   ]
  },
  {
   "cell_type": "code",
   "execution_count": 9,
   "metadata": {
    "colab": {
     "base_uri": "https://localhost:8080/",
     "height": 623
    },
    "colab_type": "code",
    "id": "fDO5fVCRKYPF",
    "outputId": "7e3a9252-6169-4f1d-f788-a9c4fb53e753"
   },
   "outputs": [
    {
     "data": {
      "text/plain": [
       "<matplotlib.axes._subplots.AxesSubplot at 0x7fe179f70b50>"
      ]
     },
     "execution_count": 9,
     "metadata": {},
     "output_type": "execute_result"
    },
    {
     "data": {
      "image/png": "[encoded data removed]",
      "text/plain": [
       "<Figure size 432x288 with 1 Axes>"
      ]
     },
     "metadata": {
      "needs_background": "light"
     },
     "output_type": "display_data"
    }
   ],
   "source": [
    "# pw_00: running water in the home. Places where almost everyone has piped water tend to be more affluent.\n",
    "df.plot(x='pw_00', y='target', kind='scatter', alpha=0.3)"
   ]
  },
  {
   "cell_type": "code",
   "execution_count": 10,
   "metadata": {
    "colab": {
     "base_uri": "https://localhost:8080/",
     "height": 623
    },
    "colab_type": "code",
    "id": "29V9eKNLKYPM",
    "outputId": "81c2e014-496d-4c36-d824-9ed21bdcfa3a"
   },
   "outputs": [
    {
     "data": {
      "text/plain": [
       "<matplotlib.axes._subplots.AxesSubplot at 0x7fe179ee5550>"
      ]
     },
     "execution_count": 10,
     "metadata": {},
     "output_type": "execute_result"
    },
    {
     "data": {
      "image/png": "[encoded data removed]",
      "text/plain": [
       "<Figure size 432x288 with 1 Axes>"
      ]
     },
     "metadata": {
      "needs_background": "light"
     },
     "output_type": "display_data"
    }
   ],
   "source": [
    "# Nightlights (NL)\n",
    "df.plot(x='NL', y='target', kind='scatter', alpha=0.3)"
   ]
  },
  {
   "cell_type": "code",
   "execution_count": 11,
   "metadata": {
    "colab": {
     "base_uri": "https://localhost:8080/",
     "height": 623
    },
    "colab_type": "code",
    "id": "ZzFVZFX0KYPU",
    "outputId": "2a9e9d0b-5550-4b11-dc99-380759862fe8"
   },
   "outputs": [
    {
     "data": {
      "text/plain": [
       "<matplotlib.axes._subplots.AxesSubplot at 0x7fe178658150>"
      ]
     },
     "execution_count": 11,
     "metadata": {},
     "output_type": "execute_result"
    },
    {
     "data": {
      "image/png": "[encoded data removed]",
      "text/plain": [
       "<Figure size 432x288 with 1 Axes>"
      ]
     },
     "metadata": {
      "needs_background": "light"
     },
     "output_type": "display_data"
    }
   ],
   "source": [
    "# dw_01: Percentage of dwellings of type: Traditional dwelling/hut/structure made of traditional materials\n",
    "# Places where many of the buildings are 'traditional' tend to have more households \n",
    "# in the target category. \n",
    "df.plot(x='dw_01', y='target', kind='scatter', alpha=0.3)"
   ]
  },
  {
   "cell_type": "markdown",
   "metadata": {
    "colab_type": "text",
    "id": "5qsD6leVKYPb"
   },
   "source": [
    "Notice that for the dwelling type example above, the left hand side of the graph is chaotic. Fitting a straight line would tell part of the story, but to fully capture the trend we'd have to look at this data in conjunction with info on all the other dwelling types, and think about how trends might be different in rural vs urban areas. "
   ]
  },
  {
   "cell_type": "markdown",
   "metadata": {
    "colab_type": "text",
    "id": "cwqE14_oKYPe"
   },
   "source": [
    "### Tip - Take a look at more of these variables and explore their relationships further. This will give you some extra insight that may come in handy for feature engineering. It's also an interesting exercise on it's own - this is data about South Africa, and South African people. ..."
   ]
  },
  {
   "cell_type": "markdown",
   "metadata": {
    "colab_type": "text",
    "id": "88Ek8kY9KYPg"
   },
   "source": [
    "# Modelling\n",
    "At this stage, most tutorials/notebooks would go into feature engineering. But I like to do a quick model FIRST, to see how tough the problem is and give us a baseline to compare to. So, in this section we'll try a simple linear model and then a more complicated Random Forest regressor, and set up a means to score our models locally (so that we don't have to keep submitting on Zindi)."
   ]
  },
  {
   "cell_type": "code",
   "execution_count": 12,
   "metadata": {
    "colab": {
     "base_uri": "https://localhost:8080/",
     "height": 170
    },
    "colab_type": "code",
    "id": "sSFrqw2cKYPi",
    "outputId": "88925528-b011-4331-e30d-6fecfaa9ffe7"
   },
   "outputs": [
    {
     "data": {
      "text/plain": [
       "Index(['dw_00', 'dw_01', 'dw_02', 'dw_03', 'dw_04', 'dw_05', 'dw_06', 'dw_07',\n",
       "       'dw_08', 'dw_09', 'dw_10', 'dw_11', 'dw_12', 'dw_13', 'psa_00',\n",
       "       'psa_01', 'psa_02', 'psa_03', 'psa_04', 'stv_00', 'stv_01', 'car_00',\n",
       "       'car_01', 'lln_00', 'lln_01', 'lan_00', 'lan_01', 'lan_02', 'lan_03',\n",
       "       'lan_04', 'lan_05', 'lan_06', 'lan_07', 'lan_08', 'lan_09', 'lan_10',\n",
       "       'lan_11', 'lan_12', 'lan_13', 'lan_14', 'pg_00', 'pg_01', 'pg_02',\n",
       "       'pg_03', 'pg_04', 'lgt_00', 'pw_00', 'pw_01', 'pw_02', 'pw_03', 'pw_04',\n",
       "       'pw_05', 'pw_06', 'pw_07', 'pw_08', 'lat', 'lon', 'NL'],\n",
       "      dtype='object')"
      ]
     },
     "execution_count": 12,
     "metadata": {},
     "output_type": "execute_result"
    }
   ],
   "source": [
    "# Define our input columns.\n",
    "in_cols = df.drop('ADM4_PCODE', axis=1).columns[4:]\n",
    "in_cols"
   ]
  },
  {
   "cell_type": "code",
   "execution_count": 13,
   "metadata": {
    "colab": {},
    "colab_type": "code",
    "id": "IQEf2be-KYPp"
   },
   "outputs": [],
   "source": [
    "# Specify our target variable\n",
    "ycol = 'target'"
   ]
  },
  {
   "cell_type": "code",
   "execution_count": 14,
   "metadata": {
    "colab": {
     "base_uri": "https://localhost:8080/",
     "height": 34
    },
    "colab_type": "code",
    "id": "U9PLT6QxKYPw",
    "outputId": "e7fbd926-e138-478f-cdf6-bef4ecccc2cf"
   },
   "outputs": [
    {
     "data": {
      "text/plain": [
       "LinearRegression(copy_X=True, fit_intercept=True, n_jobs=None, normalize=False)"
      ]
     },
     "execution_count": 14,
     "metadata": {},
     "output_type": "execute_result"
    }
   ],
   "source": [
    "# Fit a basic linear regression model, keeping the last 1000 rows for scoring\n",
    "from sklearn.linear_model import LinearRegression\n",
    "lm = LinearRegression()\n",
    "lm.fit(df[in_cols][:-1000], df[ycol][:-1000])"
   ]
  },
  {
   "cell_type": "markdown",
   "metadata": {
    "colab_type": "text",
    "id": "wL09aomvQ-eC"
   },
   "source": [
    "### Evaluating Predictions\n",
    "\n",
    "How do we evaluate our predictions? if we run `lm.score(df[in_cols][-1000:], df[ycol][-1000:])`, we'll get something called the 'R-Squared Score', which is a measure of how well our model explains the variation in the target variable. The closer to 1, the better. But this can be hard to visualize, so I like to plot predictions vs true values to get a better idea of how close our model is coming.\n",
    "\n",
    "Neither of these tell us what our score on Zindi will look like. The metric used to evaluate submissions is RMSE - more info [here](https://www.statisticshowto.datasciencecentral.com/rmse/). \n",
    "\n",
    "Let's evaluate our first linear model:"
   ]
  },
  {
   "cell_type": "code",
   "execution_count": 15,
   "metadata": {
    "colab": {
     "base_uri": "https://localhost:8080/",
     "height": 34
    },
    "colab_type": "code",
    "id": "Wm9HFSAVQ8aD",
    "outputId": "3dfeb8a9-df1a-48b5-c82b-6d9534106f6c"
   },
   "outputs": [
    {
     "data": {
      "text/plain": [
       "-8.693367560749595"
      ]
     },
     "execution_count": 15,
     "metadata": {},
     "output_type": "execute_result"
    }
   ],
   "source": [
    "lm.score(df[in_cols][-1000:], df[ycol][-1000:]) # R2 score"
   ]
  },
  {
   "cell_type": "code",
   "execution_count": 16,
   "metadata": {
    "colab": {
     "base_uri": "https://localhost:8080/",
     "height": 34
    },
    "colab_type": "code",
    "id": "p3YGn8nfQ12S",
    "outputId": "88874b52-dac0-48e3-c848-44e49ae9b2a4"
   },
   "outputs": [
    {
     "name": "stdout",
     "output_type": "stream",
     "text": [
      "RMSE: 29.71510297130555\n"
     ]
    }
   ],
   "source": [
    "from sklearn.metrics import mean_squared_error\n",
    "from math import sqrt\n",
    "\n",
    "print(\"RMSE:\", sqrt(mean_squared_error(df[ycol][-1000:], lm.predict(df[in_cols][-1000:]))))"
   ]
  },
  {
   "cell_type": "markdown",
   "metadata": {
    "colab_type": "text",
    "id": "bruw_txzR3QW"
   },
   "source": [
    "Yikes! That seems bad? What is going on..."
   ]
  },
  {
   "cell_type": "code",
   "execution_count": 17,
   "metadata": {
    "colab": {
     "base_uri": "https://localhost:8080/",
     "height": 606
    },
    "colab_type": "code",
    "id": "xh-hhjgmKYP3",
    "outputId": "56316b78-1614-411b-f896-f5e6dd11e3b6"
   },
   "outputs": [
    {
     "data": {
      "image/png": "[encoded data removed]",
      "text/plain": [
       "<Figure size 432x288 with 1 Axes>"
      ]
     },
     "metadata": {
      "needs_background": "light"
     },
     "output_type": "display_data"
    }
   ],
   "source": [
    "# Plot predicted vs actual\n",
    "plt.scatter(df[ycol][-1000:], lm.predict(df[in_cols][-1000:]), alpha=0.3)\n",
    "plt.plot(df[ycol][-1000:], df[ycol][-1000:]) # A straight line - we want to be close to this\n",
    "plt.xlabel('True Value')\n",
    "plt.ylabel('Predicted Value')\n",
    "plt.savefig('pred_vs_actual_quick_rf_sequential_split.png')"
   ]
  },
  {
   "cell_type": "markdown",
   "metadata": {
    "colab_type": "text",
    "id": "vVS8W_V-SHW1"
   },
   "source": [
    "So the model is getting most predictions close to the mark, but some are waaaay off (causing the terrible score) and lots are negative! Let's move on to a better model."
   ]
  },
  {
   "cell_type": "code",
   "execution_count": 18,
   "metadata": {
    "colab": {},
    "colab_type": "code",
    "id": "qftcdJHbKYP-"
   },
   "outputs": [],
   "source": [
    "from sklearn.ensemble import RandomForestRegressor"
   ]
  },
  {
   "cell_type": "code",
   "execution_count": 19,
   "metadata": {
    "colab": {
     "base_uri": "https://localhost:8080/",
     "height": 136
    },
    "colab_type": "code",
    "id": "AMGHpSx6KYQF",
    "outputId": "a4e2ef1e-2204-482c-a3ff-501ba30fed31"
   },
   "outputs": [
    {
     "data": {
      "text/plain": [
       "RandomForestRegressor(bootstrap=True, criterion='mse', max_depth=None,\n",
       "                      max_features='auto', max_leaf_nodes=None,\n",
       "                      min_impurity_decrease=0.0, min_impurity_split=None,\n",
       "                      min_samples_leaf=1, min_samples_split=2,\n",
       "                      min_weight_fraction_leaf=0.0, n_estimators=100,\n",
       "                      n_jobs=None, oob_score=False, random_state=None,\n",
       "                      verbose=0, warm_start=False)"
      ]
     },
     "execution_count": 19,
     "metadata": {},
     "output_type": "execute_result"
    }
   ],
   "source": [
    "rf = RandomForestRegressor(n_estimators=100) # My go-to quick model for regression tasks.\n",
    "rf.fit(df[in_cols][:-1000], df[ycol][:-1000])"
   ]
  },
  {
   "cell_type": "code",
   "execution_count": 20,
   "metadata": {
    "colab": {
     "base_uri": "https://localhost:8080/",
     "height": 34
    },
    "colab_type": "code",
    "id": "TRz1aOC9KYQN",
    "outputId": "dc5c0808-35b6-4c50-ebc2-1b1d68f199a0"
   },
   "outputs": [
    {
     "data": {
      "text/plain": [
       "0.8126557936479877"
      ]
     },
     "execution_count": 20,
     "metadata": {},
     "output_type": "execute_result"
    }
   ],
   "source": [
    "rf.score(df[in_cols][-1000:], df[ycol][-1000:]) # Very good!"
   ]
  },
  {
   "cell_type": "code",
   "execution_count": 21,
   "metadata": {
    "colab": {
     "base_uri": "https://localhost:8080/",
     "height": 34
    },
    "colab_type": "code",
    "id": "lEt-eqg5Srpq",
    "outputId": "83867289-a186-49c0-d10c-9d21139e4c36"
   },
   "outputs": [
    {
     "name": "stdout",
     "output_type": "stream",
     "text": [
      "RMSE: 4.131046015376524\n"
     ]
    }
   ],
   "source": [
    "print(\"RMSE:\", sqrt(mean_squared_error(df[ycol][-1000:], rf.predict(df[in_cols][-1000:]))))"
   ]
  },
  {
   "cell_type": "code",
   "execution_count": 22,
   "metadata": {
    "colab": {
     "base_uri": "https://localhost:8080/",
     "height": 606
    },
    "colab_type": "code",
    "id": "qZD1mu7BKYQU",
    "outputId": "213bc947-ade8-420d-efa9-d9bf79393cef"
   },
   "outputs": [
    {
     "data": {
      "image/png": "[encoded data removed]",
      "text/plain": [
       "<Figure size 432x288 with 1 Axes>"
      ]
     },
     "metadata": {
      "needs_background": "light"
     },
     "output_type": "display_data"
    }
   ],
   "source": [
    "plt.scatter(df[ycol][-1000:], rf.predict(df[in_cols][-1000:]), alpha=0.3)\n",
    "plt.xlabel('True Value')\n",
    "plt.ylabel('Predicted Value')\n",
    "plt.savefig('pred_vs_actual_quick_rf_sequential_split.png')"
   ]
  },
  {
   "cell_type": "markdown",
   "metadata": {
    "colab_type": "text",
    "id": "2_cYOJ_hRyOf"
   },
   "source": [
    "Much better! We can see that the predicted values now line up fairly closely with the true values. \n",
    "\n",
    "A nice side-effect of this Random Forest model: We can see what features are most important to the model:"
   ]
  },
  {
   "cell_type": "code",
   "execution_count": 23,
   "metadata": {
    "colab": {
     "base_uri": "https://localhost:8080/",
     "height": 621
    },
    "colab_type": "code",
    "id": "9jwKfsO2KYQb",
    "outputId": "0793794d-b641-4086-8ff1-f6bdc42b1a8a",
    "scrolled": false
   },
   "outputs": [
    {
     "data": {
      "image/png": "[encoded data removed]",
      "text/plain": [
       "<Figure size 432x288 with 1 Axes>"
      ]
     },
     "metadata": {
      "needs_background": "light"
     },
     "output_type": "display_data"
    }
   ],
   "source": [
    "features = in_cols\n",
    "importances = rf.feature_importances_\n",
    "indices = np.argsort(importances)\n",
    "plt.title('Feature Importances')\n",
    "plt.barh(range(len(indices)), importances[indices], color='b', align='center')\n",
    "plt.yticks(range(len(indices)), [features[i] for i in indices])\n",
    "plt.xlabel('Relative Importance')\n",
    "plt.show()"
   ]
  },
  {
   "cell_type": "code",
   "execution_count": 24,
   "metadata": {
    "scrolled": true
   },
   "outputs": [
    {
     "data": {
      "text/plain": [
       "Index(['lan_13', 'pw_07', 'dw_12', 'dw_13', 'pw_08', 'dw_05', 'dw_09', 'dw_10',\n",
       "       'pw_05', 'dw_03', 'psa_02', 'lan_14', 'dw_04', 'pw_06', 'pw_03',\n",
       "       'lan_08', 'dw_11', 'psa_03', 'pw_02', 'pw_04', 'pg_02', 'stv_01',\n",
       "       'lan_12', 'lan_02', 'pg_04', 'dw_06', 'lan_00', 'pg_03', 'stv_00',\n",
       "       'lgt_00', 'dw_08', 'pg_01', 'lan_01', 'dw_07', 'dw_02', 'lan_04',\n",
       "       'dw_00', 'lan_06', 'pw_01', 'lan_03', 'lat', 'lln_01', 'lan_09',\n",
       "       'dw_01', 'psa_04', 'lln_00', 'psa_01', 'lan_07', 'NL', 'pg_00',\n",
       "       'lan_05', 'lan_11', 'lon', 'lan_10', 'car_00', 'car_01', 'pw_00',\n",
       "       'psa_00'],\n",
       "      dtype='object')"
      ]
     },
     "execution_count": 24,
     "metadata": {},
     "output_type": "execute_result"
    }
   ],
   "source": [
    "features[indices]"
   ]
  },
  {
   "cell_type": "code",
   "execution_count": 25,
   "metadata": {},
   "outputs": [
    {
     "data": {
      "text/plain": [
       "(58,)"
      ]
     },
     "execution_count": 25,
     "metadata": {},
     "output_type": "execute_result"
    }
   ],
   "source": [
    "in_cols.shape"
   ]
  },
  {
   "cell_type": "code",
   "execution_count": 26,
   "metadata": {},
   "outputs": [
    {
     "data": {
      "text/plain": [
       "(58,)"
      ]
     },
     "execution_count": 26,
     "metadata": {},
     "output_type": "execute_result"
    }
   ],
   "source": [
    "features.shape"
   ]
  },
  {
   "cell_type": "code",
   "execution_count": 27,
   "metadata": {},
   "outputs": [
    {
     "data": {
      "text/plain": [
       "Index(['pw_01', 'lan_03', 'lat', 'lln_01', 'lan_09', 'dw_01', 'psa_04',\n",
       "       'lln_00', 'psa_01', 'lan_07', 'NL', 'pg_00', 'lan_05', 'lan_11', 'lon',\n",
       "       'lan_10', 'car_00', 'car_01', 'pw_00', 'psa_00'],\n",
       "      dtype='object')"
      ]
     },
     "execution_count": 27,
     "metadata": {},
     "output_type": "execute_result"
    }
   ],
   "source": [
    "features[indices][-20:]"
   ]
  },
  {
   "cell_type": "code",
   "execution_count": 28,
   "metadata": {
    "colab": {
     "base_uri": "https://localhost:8080/",
     "height": 623
    },
    "colab_type": "code",
    "id": "tQNnFxhgKYQn",
    "outputId": "89e28554-8a9e-47e4-852d-adc63627604c"
   },
   "outputs": [
    {
     "data": {
      "text/plain": [
       "<matplotlib.axes._subplots.AxesSubplot at 0x7fe1712d9390>"
      ]
     },
     "execution_count": 28,
     "metadata": {},
     "output_type": "execute_result"
    },
    {
     "data": {
      "image/png": "[encoded data removed]",
      "text/plain": [
       "<Figure size 432x288 with 1 Axes>"
      ]
     },
     "metadata": {
      "needs_background": "light"
     },
     "output_type": "display_data"
    }
   ],
   "source": [
    "# It turns out school attendance is VERY informative!\n",
    "df.plot(x='psa_00', y='target', kind='scatter', alpha=0.3)"
   ]
  },
  {
   "cell_type": "markdown",
   "metadata": {
    "colab_type": "text",
    "id": "wlsx5sQuURkX"
   },
   "source": [
    "### Better scoring with Cross-Validation\n",
    "\n",
    "We could start tweaking model parameters and trying different models, using the code above to get the score. But this gives a score for just one split - we could pick a worse model that just happens to do well on the last 1000 rows. instead, we'll use something called k-fold cross validation to get a better estimate of how well one model does in relation to another."
   ]
  },
  {
   "cell_type": "code",
   "execution_count": 29,
   "metadata": {
    "colab": {},
    "colab_type": "code",
    "id": "OtS3SfToUold"
   },
   "outputs": [
    {
     "name": "stdout",
     "output_type": "stream",
     "text": [
      "(2257, 63) (565, 63)\n",
      "(2257, 63) (565, 63)\n",
      "(2258, 63) (564, 63)\n",
      "(2258, 63) (564, 63)\n",
      "(2258, 63) (564, 63)\n"
     ]
    }
   ],
   "source": [
    "from sklearn.model_selection import KFold\n",
    "\n",
    "# Demonstrating splits\n",
    "kf = KFold(n_splits=5, shuffle=False)\n",
    "for train, test in kf.split(df):\n",
    "  print(df.iloc[train].shape, df.iloc[test].shape)"
   ]
  },
  {
   "cell_type": "code",
   "execution_count": 30,
   "metadata": {
    "colab": {
     "base_uri": "https://localhost:8080/",
     "height": 119
    },
    "colab_type": "code",
    "id": "R7pZ6mQNWYPn",
    "outputId": "95b08610-b06f-4357-ff7b-f5a6859cdd17"
   },
   "outputs": [
    {
     "name": "stdout",
     "output_type": "stream",
     "text": [
      "3.7754110195573514\n",
      "3.4394247873261365\n",
      "4.624690176766407\n",
      "4.3174186731252915\n",
      "3.996894588740708\n",
      "Average score in 5-fold CV: 4.03076784910318\n"
     ]
    }
   ],
   "source": [
    "# Using this to test a model on 5 different splits\n",
    "kf = KFold(n_splits=5, shuffle=False)\n",
    "\n",
    "scores = []\n",
    "for train, test in kf.split(df):\n",
    "  rf = RandomForestRegressor(n_estimators=100)\n",
    "  rf.fit(df[in_cols].iloc[train], df[ycol].iloc[train])\n",
    "  rmse = sqrt(mean_squared_error(df[ycol].iloc[test], rf.predict(df[in_cols].iloc[test])))\n",
    "  scores.append(rmse)\n",
    "  print(rmse)\n",
    "\n",
    "print(\"Average score in 5-fold CV:\", np.mean(scores))"
   ]
  },
  {
   "cell_type": "markdown",
   "metadata": {
    "colab_type": "text",
    "id": "3LtKWvQqXggc"
   },
   "source": [
    "As you can see, the scores vary depending on the split. Taking the average of 5 runs gives a much better estimate of the total. You could go higher, but 5 should be enough to see major differences.\n",
    "\n",
    "A question for you: Why did we set shuffle=False?"
   ]
  },
  {
   "cell_type": "code",
   "execution_count": 31,
   "metadata": {
    "colab": {
     "base_uri": "https://localhost:8080/",
     "height": 119
    },
    "colab_type": "code",
    "id": "DUyrFIDMXxhf",
    "outputId": "bf698d70-8825-45e8-dcd7-6960d3a7ca0d"
   },
   "outputs": [
    {
     "name": "stdout",
     "output_type": "stream",
     "text": [
      "3.5877683958405164\n",
      "3.481324464146982\n",
      "3.435261324190548\n",
      "3.778754450368118\n",
      "3.457068808350068\n",
      "Average score in 5-fold CV: 3.5480354885792464\n"
     ]
    }
   ],
   "source": [
    "kf = KFold(n_splits=5, shuffle=True)\n",
    "scores = []\n",
    "for train, test in kf.split(df):\n",
    "  rf = RandomForestRegressor(n_estimators=100)\n",
    "  rf.fit(df[in_cols].iloc[train], df[ycol].iloc[train])\n",
    "  rmse = sqrt(mean_squared_error(df[ycol].iloc[test], rf.predict(df[in_cols].iloc[test])))\n",
    "  scores.append(rmse)\n",
    "  print(rmse)\n",
    "print(\"Average score in 5-fold CV:\", np.mean(scores))"
   ]
  },
  {
   "cell_type": "code",
   "execution_count": 32,
   "metadata": {},
   "outputs": [],
   "source": [
    "top_cols_20 = features[indices][-20:]"
   ]
  },
  {
   "cell_type": "code",
   "execution_count": 33,
   "metadata": {},
   "outputs": [
    {
     "data": {
      "text/plain": [
       "Index(['pw_01', 'lan_03', 'lat', 'lln_01', 'lan_09', 'dw_01', 'psa_04',\n",
       "       'lln_00', 'psa_01', 'lan_07', 'NL', 'pg_00', 'lan_05', 'lan_11', 'lon',\n",
       "       'lan_10', 'car_00', 'car_01', 'pw_00', 'psa_00'],\n",
       "      dtype='object')"
      ]
     },
     "execution_count": 33,
     "metadata": {},
     "output_type": "execute_result"
    }
   ],
   "source": [
    "top_cols_20"
   ]
  },
  {
   "cell_type": "code",
   "execution_count": 34,
   "metadata": {},
   "outputs": [
    {
     "name": "stdout",
     "output_type": "stream",
     "text": [
      "3.5062892774920984\n",
      "3.625002319090188\n",
      "3.365236015172897\n",
      "3.4668463935336047\n",
      "3.5692949637720863\n",
      "Average score in 5-fold CV: 3.5065337938121752\n"
     ]
    }
   ],
   "source": [
    "kf = KFold(n_splits=5, shuffle=True)\n",
    "scores = []\n",
    "for train, test in kf.split(df):\n",
    "  rf = RandomForestRegressor(n_estimators=100)\n",
    "  rf.fit(df[top_cols_20].iloc[train], df[ycol].iloc[train])\n",
    "  rmse = sqrt(mean_squared_error(df[ycol].iloc[test], rf.predict(df[top_cols_20].iloc[test])))\n",
    "  scores.append(rmse)\n",
    "  print(rmse)\n",
    "\n",
    "print(\"Average score in 5-fold CV:\", np.mean(scores))"
   ]
  },
  {
   "cell_type": "markdown",
   "metadata": {
    "colab_type": "text",
    "id": "hSs55xENX5w0"
   },
   "source": [
    "The wards are bits of land in South Africa. If we do a random split, we will have wards in the test set with adjacent wards in the training set. Since nearby locations are often similar, the model is able to make good guesses simply by looking at the neighbouring wards and extrapolating. But for this model to be useful, we want it to generalise well, so that we could potentially make predictions for now without doing ANY surveys. \n",
    "\n",
    "This is reflected in the way Zindi split the data - certain provinces are not represented at all in the training set. By splitting sequentially, we take advantage of the way the training set is ordered (by ward code) to do our own 'geographical' splits where adjacent regions are grouped together. \n",
    "\n",
    "So, use `shuffle=False` to get a better idea of what your model will score on Zindi."
   ]
  },
  {
   "cell_type": "markdown",
   "metadata": {
    "colab_type": "text",
    "id": "1YyQVgmsmFPh"
   },
   "source": [
    "### Tip: Sometimes a quick test/train split is enough to get an idea about how well something is doing, but when you're tuning parameters and comparing models it's worth the extra effort to do things rigorously. Try creating a score_model() function to make this quick and effortless going forward."
   ]
  },
  {
   "cell_type": "markdown",
   "metadata": {
    "colab_type": "text",
    "id": "ev2ibPakZyhi"
   },
   "source": [
    "# Feature Engineering and Model Tuning\n",
    "\n",
    "Let's add a new feature and tune our model a little bit, to see if we can beat our current score (4.01)."
   ]
  },
  {
   "cell_type": "code",
   "execution_count": 35,
   "metadata": {
    "colab": {},
    "colab_type": "code",
    "id": "mvAk_3jxaKeU"
   },
   "outputs": [],
   "source": [
    "# Average household size - might contain some useful information\n",
    "df['Household_Size'] = df['total_individuals']/df['total_households']"
   ]
  },
  {
   "cell_type": "code",
   "execution_count": 36,
   "metadata": {
    "colab": {
     "base_uri": "https://localhost:8080/",
     "height": 187
    },
    "colab_type": "code",
    "id": "1GZ3TFD0a3NI",
    "outputId": "982d3221-2950-4a54-cf6d-4aa3c1569de0"
   },
   "outputs": [
    {
     "data": {
      "text/plain": [
       "Index(['dw_00', 'dw_01', 'dw_02', 'dw_03', 'dw_04', 'dw_05', 'dw_06', 'dw_07',\n",
       "       'dw_08', 'dw_09', 'dw_10', 'dw_11', 'dw_12', 'dw_13', 'psa_00',\n",
       "       'psa_01', 'psa_02', 'psa_03', 'psa_04', 'stv_00', 'stv_01', 'car_00',\n",
       "       'car_01', 'lln_00', 'lln_01', 'lan_00', 'lan_01', 'lan_02', 'lan_03',\n",
       "       'lan_04', 'lan_05', 'lan_06', 'lan_07', 'lan_08', 'lan_09', 'lan_10',\n",
       "       'lan_11', 'lan_12', 'lan_13', 'lan_14', 'pg_00', 'pg_01', 'pg_02',\n",
       "       'pg_03', 'pg_04', 'lgt_00', 'pw_00', 'pw_01', 'pw_02', 'pw_03', 'pw_04',\n",
       "       'pw_05', 'pw_06', 'pw_07', 'pw_08', 'lat', 'lon', 'NL',\n",
       "       'Household_Size'],\n",
       "      dtype='object')"
      ]
     },
     "execution_count": 36,
     "metadata": {},
     "output_type": "execute_result"
    }
   ],
   "source": [
    "in_cols = df.drop('ADM4_PCODE', axis=1).columns[4:]\n",
    "in_cols # Check that the new feature is included"
   ]
  },
  {
   "cell_type": "code",
   "execution_count": 37,
   "metadata": {
    "colab": {
     "base_uri": "https://localhost:8080/",
     "height": 34
    },
    "colab_type": "code",
    "id": "KANzISABa5Dx",
    "outputId": "a3234079-4ae3-4529-ae06-415bb14902be"
   },
   "outputs": [
    {
     "name": "stdout",
     "output_type": "stream",
     "text": [
      "Average score in 5-fold CV: 3.990006272472877\n"
     ]
    }
   ],
   "source": [
    "# Test in CV\n",
    "kf = KFold(n_splits=5, shuffle=False)\n",
    "scores = []\n",
    "for train, test in kf.split(df):\n",
    "  rf = RandomForestRegressor(n_estimators=100)\n",
    "  rf.fit(df[in_cols].iloc[train], df[ycol].iloc[train])\n",
    "  rmse = sqrt(mean_squared_error(df[ycol].iloc[test], rf.predict(df[in_cols].iloc[test])))\n",
    "  scores.append(rmse)\n",
    "print(\"Average score in 5-fold CV:\", np.mean(scores))"
   ]
  },
  {
   "cell_type": "markdown",
   "metadata": {
    "colab_type": "text",
    "id": "-4nEcIYtmXXd"
   },
   "source": [
    "A small improvement, but every little bit helps!\n",
    "\n",
    "### Tip: Spend some time on feature engineering. Look at ways to combine columns, or redundant info (percentage WITH car = 100- percentage without car, so perhaps one could be scrapped?). Check out extra sources of info. Can you use the coorinates to classify wards as Urban vs Rural? How about using the ward code to find the wards in the shapefile, and getting geographical area or coastline? For the very advanced, even satellite imagery might yield some useful info..."
   ]
  },
  {
   "cell_type": "markdown",
   "metadata": {
    "colab_type": "text",
    "id": "aEnV9NHIbFZF"
   },
   "source": [
    "Let's try to tune the max_depth parameter in case our model is overfitting."
   ]
  },
  {
   "cell_type": "code",
   "execution_count": 38,
   "metadata": {
    "colab": {
     "base_uri": "https://localhost:8080/",
     "height": 136
    },
    "colab_type": "code",
    "id": "N3q9eD7XbDDh",
    "outputId": "e9b492cb-b9d5-4d6b-9a84-6062c94e19b7"
   },
   "outputs": [
    {
     "name": "stdout",
     "output_type": "stream",
     "text": [
      "Average score in 5-fold CV: 4.781283593313707 for max depth: 3\n",
      "Average score in 5-fold CV: 4.46943106643625 for max depth: 4\n",
      "Average score in 5-fold CV: 4.282794562771067 for max depth: 5\n",
      "Average score in 5-fold CV: 4.115558184706206 for max depth: 7\n",
      "Average score in 5-fold CV: 4.04210219573658 for max depth: 9\n",
      "Average score in 5-fold CV: 3.993651437272292 for max depth: 12\n",
      "Average score in 5-fold CV: 3.985823036158165 for max depth: 15\n"
     ]
    }
   ],
   "source": [
    "for md in [3, 4, 5, 7, 9, 12, 15]:\n",
    "  scores = []\n",
    "  for train, test in kf.split(df):\n",
    "    rf = RandomForestRegressor(n_estimators=100, max_depth=md)\n",
    "    rf.fit(df[in_cols].iloc[train], df[ycol].iloc[train])\n",
    "    rmse = sqrt(mean_squared_error(df[ycol].iloc[test], rf.predict(df[in_cols].iloc[test])))\n",
    "    scores.append(rmse)\n",
    "  print(\"Average score in 5-fold CV:\", np.mean(scores), \"for max depth:\", md)"
   ]
  },
  {
   "cell_type": "markdown",
   "metadata": {
    "colab_type": "text",
    "id": "ORAWg_bTcAN3"
   },
   "source": [
    "Deeper models did better. \n",
    "### Tip: Try plotting score vs depth, and see where the model stops improving. You can also tune many other parameters"
   ]
  },
  {
   "cell_type": "markdown",
   "metadata": {
    "colab_type": "text",
    "id": "-uFNYIaMnUFU"
   },
   "source": [
    "### Tip: Experiment with different models! There are many to choose from, and my favourite old Random Forest is feeling a little overwhelmed by the cool kids: XGBoost, LGBMs, NODE, 🐱boost..."
   ]
  },
  {
   "cell_type": "markdown",
   "metadata": {
    "colab_type": "text",
    "id": "jgcNW7nsZ4K7"
   },
   "source": [
    "# Making a submission\n",
    "\n",
    "OK, so we have a model we're happy with. Now to make our submission. First, let's look at the submission format"
   ]
  },
  {
   "cell_type": "code",
   "execution_count": 39,
   "metadata": {
    "colab": {
     "base_uri": "https://localhost:8080/",
     "height": 204
    },
    "colab_type": "code",
    "id": "ng2UVqJ1cRYF",
    "outputId": "29d6431c-6a63-4f95-c5cb-9338beb63ab6"
   },
   "outputs": [
    {
     "data": {
      "text/html": [
       "<div>\n",
       "<style scoped>\n",
       "    .dataframe tbody tr th:only-of-type {\n",
       "        vertical-align: middle;\n",
       "    }\n",
       "\n",
       "    .dataframe tbody tr th {\n",
       "        vertical-align: top;\n",
       "    }\n",
       "\n",
       "    .dataframe thead th {\n",
       "        text-align: right;\n",
       "    }\n",
       "</style>\n",
       "<table border=\"1\" class=\"dataframe\">\n",
       "  <thead>\n",
       "    <tr style=\"text-align: right;\">\n",
       "      <th></th>\n",
       "      <th>ward</th>\n",
       "      <th>target</th>\n",
       "    </tr>\n",
       "  </thead>\n",
       "  <tbody>\n",
       "    <tr>\n",
       "      <td>0</td>\n",
       "      <td>21001001: Ward 1</td>\n",
       "      <td>21.87</td>\n",
       "    </tr>\n",
       "    <tr>\n",
       "      <td>1</td>\n",
       "      <td>21001002: Ward 2</td>\n",
       "      <td>65.94</td>\n",
       "    </tr>\n",
       "    <tr>\n",
       "      <td>2</td>\n",
       "      <td>21001003: Ward 3</td>\n",
       "      <td>83.65</td>\n",
       "    </tr>\n",
       "    <tr>\n",
       "      <td>3</td>\n",
       "      <td>21001004: Ward 4</td>\n",
       "      <td>NaN</td>\n",
       "    </tr>\n",
       "    <tr>\n",
       "      <td>4</td>\n",
       "      <td>21001005: Ward 5</td>\n",
       "      <td>NaN</td>\n",
       "    </tr>\n",
       "  </tbody>\n",
       "</table>\n",
       "</div>"
      ],
      "text/plain": [
       "               ward  target\n",
       "0  21001001: Ward 1   21.87\n",
       "1  21001002: Ward 2   65.94\n",
       "2  21001003: Ward 3   83.65\n",
       "3  21001004: Ward 4     NaN\n",
       "4  21001005: Ward 5     NaN"
      ]
     },
     "execution_count": 39,
     "metadata": {},
     "output_type": "execute_result"
    }
   ],
   "source": [
    "pd.read_csv('SampleSubmission.csv').head()"
   ]
  },
  {
   "cell_type": "markdown",
   "metadata": {
    "colab_type": "text",
    "id": "ijgclpVVcXDE"
   },
   "source": [
    "For each ward, we need to predict the target. Let's do it"
   ]
  },
  {
   "cell_type": "code",
   "execution_count": 40,
   "metadata": {
    "colab": {},
    "colab_type": "code",
    "id": "I65o6BzCcdfn"
   },
   "outputs": [],
   "source": [
    "# Load the test data\n",
    "test = pd.read_csv('Test.csv')\n",
    "# Add any extra features just as we did for train\n",
    "test['Household_Size'] = test['total_individuals']/test['total_households']"
   ]
  },
  {
   "cell_type": "code",
   "execution_count": 41,
   "metadata": {
    "colab": {
     "base_uri": "https://localhost:8080/",
     "height": 136
    },
    "colab_type": "code",
    "id": "e34BF1mTcpYs",
    "outputId": "5b1cc233-2fb7-45ca-fc88-18ef3b4a6905"
   },
   "outputs": [
    {
     "data": {
      "text/plain": [
       "RandomForestRegressor(bootstrap=True, criterion='mse', max_depth=None,\n",
       "                      max_features='auto', max_leaf_nodes=None,\n",
       "                      min_impurity_decrease=0.0, min_impurity_split=None,\n",
       "                      min_samples_leaf=1, min_samples_split=2,\n",
       "                      min_weight_fraction_leaf=0.0, n_estimators=100,\n",
       "                      n_jobs=None, oob_score=False, random_state=None,\n",
       "                      verbose=0, warm_start=False)"
      ]
     },
     "execution_count": 41,
     "metadata": {},
     "output_type": "execute_result"
    }
   ],
   "source": [
    "# Fit a model on the whole training set, using our best parameters\n",
    "rf = RandomForestRegressor(n_estimators=100)\n",
    "rf.fit(df[in_cols], df[ycol])"
   ]
  },
  {
   "cell_type": "code",
   "execution_count": 42,
   "metadata": {
    "colab": {
     "base_uri": "https://localhost:8080/",
     "height": 309
    },
    "colab_type": "code",
    "id": "rq28WuaIcvrf",
    "outputId": "959cf2df-de42-4777-bf1b-58b9cefd810b"
   },
   "outputs": [
    {
     "data": {
      "text/html": [
       "<div>\n",
       "<style scoped>\n",
       "    .dataframe tbody tr th:only-of-type {\n",
       "        vertical-align: middle;\n",
       "    }\n",
       "\n",
       "    .dataframe tbody tr th {\n",
       "        vertical-align: top;\n",
       "    }\n",
       "\n",
       "    .dataframe thead th {\n",
       "        text-align: right;\n",
       "    }\n",
       "</style>\n",
       "<table border=\"1\" class=\"dataframe\">\n",
       "  <thead>\n",
       "    <tr style=\"text-align: right;\">\n",
       "      <th></th>\n",
       "      <th>ward</th>\n",
       "      <th>total_households</th>\n",
       "      <th>total_individuals</th>\n",
       "      <th>dw_00</th>\n",
       "      <th>dw_01</th>\n",
       "      <th>dw_02</th>\n",
       "      <th>dw_03</th>\n",
       "      <th>dw_04</th>\n",
       "      <th>dw_05</th>\n",
       "      <th>dw_06</th>\n",
       "      <th>...</th>\n",
       "      <th>pw_05</th>\n",
       "      <th>pw_06</th>\n",
       "      <th>pw_07</th>\n",
       "      <th>pw_08</th>\n",
       "      <th>ADM4_PCODE</th>\n",
       "      <th>lat</th>\n",
       "      <th>lon</th>\n",
       "      <th>NL</th>\n",
       "      <th>Household_Size</th>\n",
       "      <th>target</th>\n",
       "    </tr>\n",
       "  </thead>\n",
       "  <tbody>\n",
       "    <tr>\n",
       "      <td>0</td>\n",
       "      <td>21001001: Ward 1</td>\n",
       "      <td>2504.95194</td>\n",
       "      <td>8745.15151</td>\n",
       "      <td>0.947257</td>\n",
       "      <td>0.000873</td>\n",
       "      <td>0.002021</td>\n",
       "      <td>0.000000</td>\n",
       "      <td>0.000000</td>\n",
       "      <td>0.030116</td>\n",
       "      <td>0.000452</td>\n",
       "      <td>...</td>\n",
       "      <td>0.0</td>\n",
       "      <td>0.006649</td>\n",
       "      <td>0.0</td>\n",
       "      <td>0.0</td>\n",
       "      <td>ZA2101001</td>\n",
       "      <td>-32.637758</td>\n",
       "      <td>23.848688</td>\n",
       "      <td>0.000000</td>\n",
       "      <td>3.491145</td>\n",
       "      <td>19.117010</td>\n",
       "    </tr>\n",
       "    <tr>\n",
       "      <td>1</td>\n",
       "      <td>21001002: Ward 2</td>\n",
       "      <td>2080.27718</td>\n",
       "      <td>7258.11764</td>\n",
       "      <td>0.844993</td>\n",
       "      <td>0.000481</td>\n",
       "      <td>0.043629</td>\n",
       "      <td>0.004714</td>\n",
       "      <td>0.012323</td>\n",
       "      <td>0.012300</td>\n",
       "      <td>0.022132</td>\n",
       "      <td>...</td>\n",
       "      <td>0.0</td>\n",
       "      <td>0.002916</td>\n",
       "      <td>0.0</td>\n",
       "      <td>0.0</td>\n",
       "      <td>ZA2101002</td>\n",
       "      <td>-31.990536</td>\n",
       "      <td>24.555818</td>\n",
       "      <td>0.000000</td>\n",
       "      <td>3.489015</td>\n",
       "      <td>14.394351</td>\n",
       "    </tr>\n",
       "    <tr>\n",
       "      <td>2</td>\n",
       "      <td>21001003: Ward 3</td>\n",
       "      <td>1106.62639</td>\n",
       "      <td>5919.13170</td>\n",
       "      <td>0.651380</td>\n",
       "      <td>0.007937</td>\n",
       "      <td>0.007113</td>\n",
       "      <td>0.000000</td>\n",
       "      <td>0.001977</td>\n",
       "      <td>0.259711</td>\n",
       "      <td>0.006505</td>\n",
       "      <td>...</td>\n",
       "      <td>0.0</td>\n",
       "      <td>0.000000</td>\n",
       "      <td>0.0</td>\n",
       "      <td>0.0</td>\n",
       "      <td>ZA2101003</td>\n",
       "      <td>-32.283595</td>\n",
       "      <td>24.563940</td>\n",
       "      <td>8.269556</td>\n",
       "      <td>5.348808</td>\n",
       "      <td>21.736299</td>\n",
       "    </tr>\n",
       "    <tr>\n",
       "      <td>3</td>\n",
       "      <td>21001004: Ward 4</td>\n",
       "      <td>2175.56096</td>\n",
       "      <td>10280.57452</td>\n",
       "      <td>0.410837</td>\n",
       "      <td>0.002468</td>\n",
       "      <td>0.011511</td>\n",
       "      <td>0.000485</td>\n",
       "      <td>0.000000</td>\n",
       "      <td>0.449604</td>\n",
       "      <td>0.009256</td>\n",
       "      <td>...</td>\n",
       "      <td>0.0</td>\n",
       "      <td>0.001379</td>\n",
       "      <td>0.0</td>\n",
       "      <td>0.0</td>\n",
       "      <td>ZA2101004</td>\n",
       "      <td>-32.261612</td>\n",
       "      <td>24.542202</td>\n",
       "      <td>8.626625</td>\n",
       "      <td>4.725482</td>\n",
       "      <td>15.227042</td>\n",
       "    </tr>\n",
       "    <tr>\n",
       "      <td>4</td>\n",
       "      <td>21001005: Ward 5</td>\n",
       "      <td>1270.83883</td>\n",
       "      <td>6018.34202</td>\n",
       "      <td>0.942851</td>\n",
       "      <td>0.002638</td>\n",
       "      <td>0.000821</td>\n",
       "      <td>0.000000</td>\n",
       "      <td>0.000891</td>\n",
       "      <td>0.000787</td>\n",
       "      <td>0.000830</td>\n",
       "      <td>...</td>\n",
       "      <td>0.0</td>\n",
       "      <td>0.001660</td>\n",
       "      <td>0.0</td>\n",
       "      <td>0.0</td>\n",
       "      <td>ZA2101005</td>\n",
       "      <td>-32.251571</td>\n",
       "      <td>24.558537</td>\n",
       "      <td>8.601754</td>\n",
       "      <td>4.735724</td>\n",
       "      <td>21.697964</td>\n",
       "    </tr>\n",
       "  </tbody>\n",
       "</table>\n",
       "<p>5 rows × 64 columns</p>\n",
       "</div>"
      ],
      "text/plain": [
       "               ward  total_households  total_individuals     dw_00     dw_01  \\\n",
       "0  21001001: Ward 1        2504.95194         8745.15151  0.947257  0.000873   \n",
       "1  21001002: Ward 2        2080.27718         7258.11764  0.844993  0.000481   \n",
       "2  21001003: Ward 3        1106.62639         5919.13170  0.651380  0.007937   \n",
       "3  21001004: Ward 4        2175.56096        10280.57452  0.410837  0.002468   \n",
       "4  21001005: Ward 5        1270.83883         6018.34202  0.942851  0.002638   \n",
       "\n",
       "      dw_02     dw_03     dw_04     dw_05     dw_06  ...  pw_05     pw_06  \\\n",
       "0  0.002021  0.000000  0.000000  0.030116  0.000452  ...    0.0  0.006649   \n",
       "1  0.043629  0.004714  0.012323  0.012300  0.022132  ...    0.0  0.002916   \n",
       "2  0.007113  0.000000  0.001977  0.259711  0.006505  ...    0.0  0.000000   \n",
       "3  0.011511  0.000485  0.000000  0.449604  0.009256  ...    0.0  0.001379   \n",
       "4  0.000821  0.000000  0.000891  0.000787  0.000830  ...    0.0  0.001660   \n",
       "\n",
       "   pw_07  pw_08  ADM4_PCODE        lat        lon        NL  Household_Size  \\\n",
       "0    0.0    0.0   ZA2101001 -32.637758  23.848688  0.000000        3.491145   \n",
       "1    0.0    0.0   ZA2101002 -31.990536  24.555818  0.000000        3.489015   \n",
       "2    0.0    0.0   ZA2101003 -32.283595  24.563940  8.269556        5.348808   \n",
       "3    0.0    0.0   ZA2101004 -32.261612  24.542202  8.626625        4.725482   \n",
       "4    0.0    0.0   ZA2101005 -32.251571  24.558537  8.601754        4.735724   \n",
       "\n",
       "      target  \n",
       "0  19.117010  \n",
       "1  14.394351  \n",
       "2  21.736299  \n",
       "3  15.227042  \n",
       "4  21.697964  \n",
       "\n",
       "[5 rows x 64 columns]"
      ]
     },
     "execution_count": 42,
     "metadata": {},
     "output_type": "execute_result"
    }
   ],
   "source": [
    "# Make predictions\n",
    "test['target'] = rf.predict(test[in_cols])\n",
    "test.head()"
   ]
  },
  {
   "cell_type": "code",
   "execution_count": 43,
   "metadata": {
    "colab": {},
    "colab_type": "code",
    "id": "xhW2TIrEX38-"
   },
   "outputs": [],
   "source": [
    "# Save and submit!\n",
    "test[['ward', 'target']].to_csv('starter_nb_submission.csv', index=False)"
   ]
  },
  {
   "cell_type": "markdown",
   "metadata": {
    "colab_type": "text",
    "id": "7luIAJK2dCOg"
   },
   "source": [
    "And that's it! Upload your submission file to Zindi and see what you get :) If all works out well, you should get a score very similar to the one we got in our tests. That said, the test set includes Cape Town, so if your score is slightly lower than expected feel free to blame it on the DA ;)"
   ]
  },
  {
   "cell_type": "code",
   "execution_count": null,
   "metadata": {},
   "outputs": [],
   "source": []
  },
  {
   "cell_type": "code",
   "execution_count": 44,
   "metadata": {},
   "outputs": [],
   "source": [
    "def create_submission(data, fname, cols, models=[]):\n",
    "    score = 0\n",
    "    for model in models:\n",
    "        score += model.predict(data[cols])\n",
    "    data['target'] = (score / len(models))\n",
    "    submissions = data[['ward', 'target']]\n",
    "    submissions.to_csv(fname, index=False)\n",
    "    return submissions"
   ]
  },
  {
   "cell_type": "code",
   "execution_count": 45,
   "metadata": {},
   "outputs": [],
   "source": [
    "from sklearn.model_selection import train_test_split\n",
    "X, y = df[top_cols_20], df[ycol]\n",
    "X_train, X_test, y_train, y_test = train_test_split(X, y, test_size=0.2)"
   ]
  },
  {
   "cell_type": "code",
   "execution_count": 46,
   "metadata": {},
   "outputs": [
    {
     "data": {
      "text/plain": [
       "1.1513703784997351"
      ]
     },
     "execution_count": 46,
     "metadata": {},
     "output_type": "execute_result"
    }
   ],
   "source": [
    "rf = RandomForestRegressor(n_estimators = 200, min_samples_split= 4, min_samples_leaf= 3, max_features= 3, max_depth= 110, bootstrap= False)\n",
    "rf.fit(X, y)\n",
    "sqrt(mean_squared_error(y, rf.predict(X)))"
   ]
  },
  {
   "cell_type": "code",
   "execution_count": 48,
   "metadata": {},
   "outputs": [
    {
     "name": "stderr",
     "output_type": "stream",
     "text": [
      "/home/aims/anaconda3/lib/python3.7/site-packages/xgboost/core.py:587: FutureWarning: Series.base is deprecated and will be removed in a future version\n",
      "  if getattr(data, 'base', None) is not None and \\\n",
      "/home/aims/anaconda3/lib/python3.7/site-packages/xgboost/core.py:588: FutureWarning: Series.base is deprecated and will be removed in a future version\n",
      "  data.base is not None and isinstance(data, np.ndarray) \\\n"
     ]
    },
    {
     "data": {
      "text/plain": [
       "1.1934576980194411"
      ]
     },
     "execution_count": 48,
     "metadata": {},
     "output_type": "execute_result"
    }
   ],
   "source": [
    "model_xgb = XGBRegressor(objective ='reg:squarederror', n_estimators=800, min_child_weight=20,  max_depth= 5, learning_rate = 0.05)\n",
    "model_xgb.fit(X, y)\n",
    "sqrt(mean_squared_error(y, model_xgb.predict(X)))"
   ]
  },
  {
   "cell_type": "code",
   "execution_count": 50,
   "metadata": {},
   "outputs": [
    {
     "name": "stdout",
     "output_type": "stream",
     "text": [
      "Starting training LGB...\n",
      "[1]\tvalid_0's rmse: 7.75503\n",
      "Training until validation scores don't improve for 5 rounds\n",
      "[2]\tvalid_0's rmse: 6.04229\n",
      "[3]\tvalid_0's rmse: 4.90174\n",
      "[4]\tvalid_0's rmse: 4.1659\n",
      "[5]\tvalid_0's rmse: 3.68846\n",
      "[6]\tvalid_0's rmse: 3.37365\n",
      "[7]\tvalid_0's rmse: 3.14675\n",
      "[8]\tvalid_0's rmse: 2.9987\n",
      "[9]\tvalid_0's rmse: 2.87941\n",
      "[10]\tvalid_0's rmse: 2.7884\n",
      "[11]\tvalid_0's rmse: 2.68807\n",
      "[12]\tvalid_0's rmse: 2.63244\n",
      "[13]\tvalid_0's rmse: 2.56084\n",
      "[14]\tvalid_0's rmse: 2.50189\n",
      "[15]\tvalid_0's rmse: 2.45857\n",
      "[16]\tvalid_0's rmse: 2.40691\n",
      "[17]\tvalid_0's rmse: 2.35842\n",
      "[18]\tvalid_0's rmse: 2.31916\n",
      "[19]\tvalid_0's rmse: 2.27722\n",
      "[20]\tvalid_0's rmse: 2.23445\n",
      "Did not meet early stopping. Best iteration is:\n",
      "[20]\tvalid_0's rmse: 2.23445\n"
     ]
    }
   ],
   "source": [
    "# create dataset for lightgbm\n",
    "lgb_train = lgb.Dataset(X, y)\n",
    "lgb_eval = lgb.Dataset(X, y, reference=lgb_train)\n",
    "\n",
    "# specify your configurations as a dict\n",
    "params = {\n",
    "    'boosting_type': 'gbdt',\n",
    "    'objective': 'regression',\n",
    "    'metric': 'rmse',\n",
    "    'max_bin': 500,\n",
    "    'num_leaves': 31,\n",
    "    'learning_rate': 0.3,\n",
    "    'feature_fraction': 0.9,\n",
    "    'bagging_fraction': 0.8,\n",
    "    'bagging_freq': 5,\n",
    "    'verbose': 0\n",
    "}\n",
    "\n",
    "print('Starting training LGB...')\n",
    "# train\n",
    "gbm = lgb.train(params, lgb_train, num_boost_round=20, \n",
    "                valid_sets=lgb_eval,  early_stopping_rounds=5)"
   ]
  },
  {
   "cell_type": "code",
   "execution_count": 51,
   "metadata": {},
   "outputs": [
    {
     "data": {
      "text/plain": [
       "4.1422825264259995"
      ]
     },
     "execution_count": 51,
     "metadata": {},
     "output_type": "execute_result"
    }
   ],
   "source": [
    "from sklearn.linear_model import LinearRegression\n",
    "reg = LinearRegression().fit(X, y)\n",
    "sqrt(mean_squared_error(y, reg.predict(X)))"
   ]
  },
  {
   "cell_type": "code",
   "execution_count": 52,
   "metadata": {},
   "outputs": [
    {
     "name": "stdout",
     "output_type": "stream",
     "text": [
      "1.6962112736230461 0 1\n",
      "1.753499969395779 0 2\n",
      "1.6962112736230461 1 0\n",
      "1.1734401933777983 1 2\n",
      "1.753499969395779 2 0\n",
      "1.1734401933777983 2 1\n"
     ]
    }
   ],
   "source": [
    "models = [gbm, model_xgb, rf]\n",
    "for i in range(len(models)):\n",
    "    for j in range(len(models)):\n",
    "        if i != j:\n",
    "            avg_pre = (models[i].predict(X_test) + models[j].predict(X_test))/2\n",
    "            sc = sqrt(mean_squared_error(y_test, avg_pre))\n",
    "            print(sc, i, j)"
   ]
  },
  {
   "cell_type": "code",
   "execution_count": 53,
   "metadata": {},
   "outputs": [
    {
     "data": {
      "text/plain": [
       "1.6962112736230461"
      ]
     },
     "execution_count": 53,
     "metadata": {},
     "output_type": "execute_result"
    }
   ],
   "source": [
    "avg_pre = (model_xgb.predict(X_test) + gbm.predict(X_test))/2\n",
    "sqrt(mean_squared_error(y_test, avg_pre))"
   ]
  },
  {
   "cell_type": "code",
   "execution_count": 91,
   "metadata": {},
   "outputs": [
    {
     "data": {
      "text/html": [
       "<div>\n",
       "<style scoped>\n",
       "    .dataframe tbody tr th:only-of-type {\n",
       "        vertical-align: middle;\n",
       "    }\n",
       "\n",
       "    .dataframe tbody tr th {\n",
       "        vertical-align: top;\n",
       "    }\n",
       "\n",
       "    .dataframe thead th {\n",
       "        text-align: right;\n",
       "    }\n",
       "</style>\n",
       "<table border=\"1\" class=\"dataframe\">\n",
       "  <thead>\n",
       "    <tr style=\"text-align: right;\">\n",
       "      <th></th>\n",
       "      <th>ward</th>\n",
       "      <th>target</th>\n",
       "    </tr>\n",
       "  </thead>\n",
       "  <tbody>\n",
       "    <tr>\n",
       "      <td>0</td>\n",
       "      <td>21001001: Ward 1</td>\n",
       "      <td>17.701373</td>\n",
       "    </tr>\n",
       "    <tr>\n",
       "      <td>1</td>\n",
       "      <td>21001002: Ward 2</td>\n",
       "      <td>13.254829</td>\n",
       "    </tr>\n",
       "    <tr>\n",
       "      <td>2</td>\n",
       "      <td>21001003: Ward 3</td>\n",
       "      <td>21.907876</td>\n",
       "    </tr>\n",
       "    <tr>\n",
       "      <td>3</td>\n",
       "      <td>21001004: Ward 4</td>\n",
       "      <td>16.306496</td>\n",
       "    </tr>\n",
       "    <tr>\n",
       "      <td>4</td>\n",
       "      <td>21001005: Ward 5</td>\n",
       "      <td>21.437067</td>\n",
       "    </tr>\n",
       "    <tr>\n",
       "      <td>...</td>\n",
       "      <td>...</td>\n",
       "      <td>...</td>\n",
       "    </tr>\n",
       "    <tr>\n",
       "      <td>1008</td>\n",
       "      <td>19100107: Ward 107</td>\n",
       "      <td>5.175696</td>\n",
       "    </tr>\n",
       "    <tr>\n",
       "      <td>1009</td>\n",
       "      <td>19100108: Ward 108</td>\n",
       "      <td>22.163333</td>\n",
       "    </tr>\n",
       "    <tr>\n",
       "      <td>1010</td>\n",
       "      <td>19100109: Ward 109</td>\n",
       "      <td>18.945675</td>\n",
       "    </tr>\n",
       "    <tr>\n",
       "      <td>1011</td>\n",
       "      <td>19100110: Ward 110</td>\n",
       "      <td>14.210025</td>\n",
       "    </tr>\n",
       "    <tr>\n",
       "      <td>1012</td>\n",
       "      <td>19100111: Ward 111</td>\n",
       "      <td>18.883383</td>\n",
       "    </tr>\n",
       "  </tbody>\n",
       "</table>\n",
       "<p>1013 rows × 2 columns</p>\n",
       "</div>"
      ],
      "text/plain": [
       "                    ward     target\n",
       "0       21001001: Ward 1  17.701373\n",
       "1       21001002: Ward 2  13.254829\n",
       "2       21001003: Ward 3  21.907876\n",
       "3       21001004: Ward 4  16.306496\n",
       "4       21001005: Ward 5  21.437067\n",
       "...                  ...        ...\n",
       "1008  19100107: Ward 107   5.175696\n",
       "1009  19100108: Ward 108  22.163333\n",
       "1010  19100109: Ward 109  18.945675\n",
       "1011  19100110: Ward 110  14.210025\n",
       "1012  19100111: Ward 111  18.883383\n",
       "\n",
       "[1013 rows x 2 columns]"
      ]
     },
     "execution_count": 91,
     "metadata": {},
     "output_type": "execute_result"
    }
   ],
   "source": [
    "create_submission(test, 'gbm_001.csv', cols=top_cols_20, models=[gbm])"
   ]
  },
  {
   "cell_type": "code",
   "execution_count": 55,
   "metadata": {},
   "outputs": [
    {
     "data": {
      "text/html": [
       "<div>\n",
       "<style scoped>\n",
       "    .dataframe tbody tr th:only-of-type {\n",
       "        vertical-align: middle;\n",
       "    }\n",
       "\n",
       "    .dataframe tbody tr th {\n",
       "        vertical-align: top;\n",
       "    }\n",
       "\n",
       "    .dataframe thead th {\n",
       "        text-align: right;\n",
       "    }\n",
       "</style>\n",
       "<table border=\"1\" class=\"dataframe\">\n",
       "  <thead>\n",
       "    <tr style=\"text-align: right;\">\n",
       "      <th></th>\n",
       "      <th>ward</th>\n",
       "      <th>target</th>\n",
       "    </tr>\n",
       "  </thead>\n",
       "  <tbody>\n",
       "    <tr>\n",
       "      <td>0</td>\n",
       "      <td>21001001: Ward 1</td>\n",
       "      <td>17.263794</td>\n",
       "    </tr>\n",
       "    <tr>\n",
       "      <td>1</td>\n",
       "      <td>21001002: Ward 2</td>\n",
       "      <td>11.917337</td>\n",
       "    </tr>\n",
       "    <tr>\n",
       "      <td>2</td>\n",
       "      <td>21001003: Ward 3</td>\n",
       "      <td>19.085846</td>\n",
       "    </tr>\n",
       "    <tr>\n",
       "      <td>3</td>\n",
       "      <td>21001004: Ward 4</td>\n",
       "      <td>15.375463</td>\n",
       "    </tr>\n",
       "    <tr>\n",
       "      <td>4</td>\n",
       "      <td>21001005: Ward 5</td>\n",
       "      <td>19.728603</td>\n",
       "    </tr>\n",
       "    <tr>\n",
       "      <td>...</td>\n",
       "      <td>...</td>\n",
       "      <td>...</td>\n",
       "    </tr>\n",
       "    <tr>\n",
       "      <td>1008</td>\n",
       "      <td>19100107: Ward 107</td>\n",
       "      <td>5.670910</td>\n",
       "    </tr>\n",
       "    <tr>\n",
       "      <td>1009</td>\n",
       "      <td>19100108: Ward 108</td>\n",
       "      <td>22.469955</td>\n",
       "    </tr>\n",
       "    <tr>\n",
       "      <td>1010</td>\n",
       "      <td>19100109: Ward 109</td>\n",
       "      <td>18.059336</td>\n",
       "    </tr>\n",
       "    <tr>\n",
       "      <td>1011</td>\n",
       "      <td>19100110: Ward 110</td>\n",
       "      <td>12.118125</td>\n",
       "    </tr>\n",
       "    <tr>\n",
       "      <td>1012</td>\n",
       "      <td>19100111: Ward 111</td>\n",
       "      <td>18.196928</td>\n",
       "    </tr>\n",
       "  </tbody>\n",
       "</table>\n",
       "<p>1013 rows × 2 columns</p>\n",
       "</div>"
      ],
      "text/plain": [
       "                    ward     target\n",
       "0       21001001: Ward 1  17.263794\n",
       "1       21001002: Ward 2  11.917337\n",
       "2       21001003: Ward 3  19.085846\n",
       "3       21001004: Ward 4  15.375463\n",
       "4       21001005: Ward 5  19.728603\n",
       "...                  ...        ...\n",
       "1008  19100107: Ward 107   5.670910\n",
       "1009  19100108: Ward 108  22.469955\n",
       "1010  19100109: Ward 109  18.059336\n",
       "1011  19100110: Ward 110  12.118125\n",
       "1012  19100111: Ward 111  18.196928\n",
       "\n",
       "[1013 rows x 2 columns]"
      ]
     },
     "execution_count": 55,
     "metadata": {},
     "output_type": "execute_result"
    }
   ],
   "source": [
    "create_submission(test, 'xgb_001_2.csv', cols=top_cols_20, models=[model_xgb])"
   ]
  },
  {
   "cell_type": "code",
   "execution_count": 115,
   "metadata": {},
   "outputs": [
    {
     "data": {
      "text/html": [
       "<div>\n",
       "<style scoped>\n",
       "    .dataframe tbody tr th:only-of-type {\n",
       "        vertical-align: middle;\n",
       "    }\n",
       "\n",
       "    .dataframe tbody tr th {\n",
       "        vertical-align: top;\n",
       "    }\n",
       "\n",
       "    .dataframe thead th {\n",
       "        text-align: right;\n",
       "    }\n",
       "</style>\n",
       "<table border=\"1\" class=\"dataframe\">\n",
       "  <thead>\n",
       "    <tr style=\"text-align: right;\">\n",
       "      <th></th>\n",
       "      <th>ward</th>\n",
       "      <th>target</th>\n",
       "    </tr>\n",
       "  </thead>\n",
       "  <tbody>\n",
       "    <tr>\n",
       "      <td>0</td>\n",
       "      <td>21001001: Ward 1</td>\n",
       "      <td>18.117520</td>\n",
       "    </tr>\n",
       "    <tr>\n",
       "      <td>1</td>\n",
       "      <td>21001002: Ward 2</td>\n",
       "      <td>14.029899</td>\n",
       "    </tr>\n",
       "    <tr>\n",
       "      <td>2</td>\n",
       "      <td>21001003: Ward 3</td>\n",
       "      <td>21.892128</td>\n",
       "    </tr>\n",
       "    <tr>\n",
       "      <td>3</td>\n",
       "      <td>21001004: Ward 4</td>\n",
       "      <td>16.455667</td>\n",
       "    </tr>\n",
       "    <tr>\n",
       "      <td>4</td>\n",
       "      <td>21001005: Ward 5</td>\n",
       "      <td>21.813284</td>\n",
       "    </tr>\n",
       "    <tr>\n",
       "      <td>...</td>\n",
       "      <td>...</td>\n",
       "      <td>...</td>\n",
       "    </tr>\n",
       "    <tr>\n",
       "      <td>1008</td>\n",
       "      <td>19100107: Ward 107</td>\n",
       "      <td>7.254248</td>\n",
       "    </tr>\n",
       "    <tr>\n",
       "      <td>1009</td>\n",
       "      <td>19100108: Ward 108</td>\n",
       "      <td>22.656982</td>\n",
       "    </tr>\n",
       "    <tr>\n",
       "      <td>1010</td>\n",
       "      <td>19100109: Ward 109</td>\n",
       "      <td>18.268542</td>\n",
       "    </tr>\n",
       "    <tr>\n",
       "      <td>1011</td>\n",
       "      <td>19100110: Ward 110</td>\n",
       "      <td>12.415182</td>\n",
       "    </tr>\n",
       "    <tr>\n",
       "      <td>1012</td>\n",
       "      <td>19100111: Ward 111</td>\n",
       "      <td>17.745269</td>\n",
       "    </tr>\n",
       "  </tbody>\n",
       "</table>\n",
       "<p>1013 rows × 2 columns</p>\n",
       "</div>"
      ],
      "text/plain": [
       "                    ward     target\n",
       "0       21001001: Ward 1  18.117520\n",
       "1       21001002: Ward 2  14.029899\n",
       "2       21001003: Ward 3  21.892128\n",
       "3       21001004: Ward 4  16.455667\n",
       "4       21001005: Ward 5  21.813284\n",
       "...                  ...        ...\n",
       "1008  19100107: Ward 107   7.254248\n",
       "1009  19100108: Ward 108  22.656982\n",
       "1010  19100109: Ward 109  18.268542\n",
       "1011  19100110: Ward 110  12.415182\n",
       "1012  19100111: Ward 111  17.745269\n",
       "\n",
       "[1013 rows x 2 columns]"
      ]
     },
     "execution_count": 115,
     "metadata": {},
     "output_type": "execute_result"
    }
   ],
   "source": [
    "create_submission(test, 'radom_forest_001_4.csv', cols=top_cols_20, models=[rf])"
   ]
  },
  {
   "cell_type": "code",
   "execution_count": 72,
   "metadata": {},
   "outputs": [
    {
     "data": {
      "text/html": [
       "<div>\n",
       "<style scoped>\n",
       "    .dataframe tbody tr th:only-of-type {\n",
       "        vertical-align: middle;\n",
       "    }\n",
       "\n",
       "    .dataframe tbody tr th {\n",
       "        vertical-align: top;\n",
       "    }\n",
       "\n",
       "    .dataframe thead th {\n",
       "        text-align: right;\n",
       "    }\n",
       "</style>\n",
       "<table border=\"1\" class=\"dataframe\">\n",
       "  <thead>\n",
       "    <tr style=\"text-align: right;\">\n",
       "      <th></th>\n",
       "      <th>ward</th>\n",
       "      <th>target</th>\n",
       "    </tr>\n",
       "  </thead>\n",
       "  <tbody>\n",
       "    <tr>\n",
       "      <td>0</td>\n",
       "      <td>21001001: Ward 1</td>\n",
       "      <td>17.301186</td>\n",
       "    </tr>\n",
       "    <tr>\n",
       "      <td>1</td>\n",
       "      <td>21001002: Ward 2</td>\n",
       "      <td>12.618165</td>\n",
       "    </tr>\n",
       "    <tr>\n",
       "      <td>2</td>\n",
       "      <td>21001003: Ward 3</td>\n",
       "      <td>20.003808</td>\n",
       "    </tr>\n",
       "    <tr>\n",
       "      <td>3</td>\n",
       "      <td>21001004: Ward 4</td>\n",
       "      <td>16.194775</td>\n",
       "    </tr>\n",
       "    <tr>\n",
       "      <td>4</td>\n",
       "      <td>21001005: Ward 5</td>\n",
       "      <td>20.890203</td>\n",
       "    </tr>\n",
       "    <tr>\n",
       "      <td>...</td>\n",
       "      <td>...</td>\n",
       "      <td>...</td>\n",
       "    </tr>\n",
       "    <tr>\n",
       "      <td>1008</td>\n",
       "      <td>19100107: Ward 107</td>\n",
       "      <td>5.146334</td>\n",
       "    </tr>\n",
       "    <tr>\n",
       "      <td>1009</td>\n",
       "      <td>19100108: Ward 108</td>\n",
       "      <td>21.510510</td>\n",
       "    </tr>\n",
       "    <tr>\n",
       "      <td>1010</td>\n",
       "      <td>19100109: Ward 109</td>\n",
       "      <td>17.849755</td>\n",
       "    </tr>\n",
       "    <tr>\n",
       "      <td>1011</td>\n",
       "      <td>19100110: Ward 110</td>\n",
       "      <td>12.462656</td>\n",
       "    </tr>\n",
       "    <tr>\n",
       "      <td>1012</td>\n",
       "      <td>19100111: Ward 111</td>\n",
       "      <td>16.313348</td>\n",
       "    </tr>\n",
       "  </tbody>\n",
       "</table>\n",
       "<p>1013 rows × 2 columns</p>\n",
       "</div>"
      ],
      "text/plain": [
       "                    ward     target\n",
       "0       21001001: Ward 1  17.301186\n",
       "1       21001002: Ward 2  12.618165\n",
       "2       21001003: Ward 3  20.003808\n",
       "3       21001004: Ward 4  16.194775\n",
       "4       21001005: Ward 5  20.890203\n",
       "...                  ...        ...\n",
       "1008  19100107: Ward 107   5.146334\n",
       "1009  19100108: Ward 108  21.510510\n",
       "1010  19100109: Ward 109  17.849755\n",
       "1011  19100110: Ward 110  12.462656\n",
       "1012  19100111: Ward 111  16.313348\n",
       "\n",
       "[1013 rows x 2 columns]"
      ]
     },
     "execution_count": 72,
     "metadata": {},
     "output_type": "execute_result"
    }
   ],
   "source": [
    "create_submission(test, 'rf_xgb_001_2.csv', cols=top_cols_20, models=[rf, model_xgb])"
   ]
  },
  {
   "cell_type": "code",
   "execution_count": 165,
   "metadata": {},
   "outputs": [
    {
     "data": {
      "text/html": [
       "<div>\n",
       "<style scoped>\n",
       "    .dataframe tbody tr th:only-of-type {\n",
       "        vertical-align: middle;\n",
       "    }\n",
       "\n",
       "    .dataframe tbody tr th {\n",
       "        vertical-align: top;\n",
       "    }\n",
       "\n",
       "    .dataframe thead th {\n",
       "        text-align: right;\n",
       "    }\n",
       "</style>\n",
       "<table border=\"1\" class=\"dataframe\">\n",
       "  <thead>\n",
       "    <tr style=\"text-align: right;\">\n",
       "      <th></th>\n",
       "      <th>ward</th>\n",
       "      <th>target</th>\n",
       "    </tr>\n",
       "  </thead>\n",
       "  <tbody>\n",
       "    <tr>\n",
       "      <th>0</th>\n",
       "      <td>21001001: Ward 1</td>\n",
       "      <td>18.265810</td>\n",
       "    </tr>\n",
       "    <tr>\n",
       "      <th>1</th>\n",
       "      <td>21001002: Ward 2</td>\n",
       "      <td>12.915067</td>\n",
       "    </tr>\n",
       "    <tr>\n",
       "      <th>2</th>\n",
       "      <td>21001003: Ward 3</td>\n",
       "      <td>19.089216</td>\n",
       "    </tr>\n",
       "    <tr>\n",
       "      <th>3</th>\n",
       "      <td>21001004: Ward 4</td>\n",
       "      <td>16.467018</td>\n",
       "    </tr>\n",
       "    <tr>\n",
       "      <th>4</th>\n",
       "      <td>21001005: Ward 5</td>\n",
       "      <td>20.166603</td>\n",
       "    </tr>\n",
       "    <tr>\n",
       "      <th>...</th>\n",
       "      <td>...</td>\n",
       "      <td>...</td>\n",
       "    </tr>\n",
       "    <tr>\n",
       "      <th>1008</th>\n",
       "      <td>19100107: Ward 107</td>\n",
       "      <td>3.087085</td>\n",
       "    </tr>\n",
       "    <tr>\n",
       "      <th>1009</th>\n",
       "      <td>19100108: Ward 108</td>\n",
       "      <td>21.265413</td>\n",
       "    </tr>\n",
       "    <tr>\n",
       "      <th>1010</th>\n",
       "      <td>19100109: Ward 109</td>\n",
       "      <td>17.452904</td>\n",
       "    </tr>\n",
       "    <tr>\n",
       "      <th>1011</th>\n",
       "      <td>19100110: Ward 110</td>\n",
       "      <td>12.195206</td>\n",
       "    </tr>\n",
       "    <tr>\n",
       "      <th>1012</th>\n",
       "      <td>19100111: Ward 111</td>\n",
       "      <td>16.474770</td>\n",
       "    </tr>\n",
       "  </tbody>\n",
       "</table>\n",
       "<p>1013 rows × 2 columns</p>\n",
       "</div>"
      ],
      "text/plain": [
       "                    ward     target\n",
       "0       21001001: Ward 1  18.265810\n",
       "1       21001002: Ward 2  12.915067\n",
       "2       21001003: Ward 3  19.089216\n",
       "3       21001004: Ward 4  16.467018\n",
       "4       21001005: Ward 5  20.166603\n",
       "...                  ...        ...\n",
       "1008  19100107: Ward 107   3.087085\n",
       "1009  19100108: Ward 108  21.265413\n",
       "1010  19100109: Ward 109  17.452904\n",
       "1011  19100110: Ward 110  12.195206\n",
       "1012  19100111: Ward 111  16.474770\n",
       "\n",
       "[1013 rows x 2 columns]"
      ]
     },
     "execution_count": 165,
     "metadata": {},
     "output_type": "execute_result"
    }
   ],
   "source": [
    "create_submission(test, 'xgb_001.csv', cols=top_cols_20, models=[model_xgb])"
   ]
  },
  {
   "cell_type": "code",
   "execution_count": 175,
   "metadata": {},
   "outputs": [
    {
     "data": {
      "text/html": [
       "<div>\n",
       "<style scoped>\n",
       "    .dataframe tbody tr th:only-of-type {\n",
       "        vertical-align: middle;\n",
       "    }\n",
       "\n",
       "    .dataframe tbody tr th {\n",
       "        vertical-align: top;\n",
       "    }\n",
       "\n",
       "    .dataframe thead th {\n",
       "        text-align: right;\n",
       "    }\n",
       "</style>\n",
       "<table border=\"1\" class=\"dataframe\">\n",
       "  <thead>\n",
       "    <tr style=\"text-align: right;\">\n",
       "      <th></th>\n",
       "      <th>ward</th>\n",
       "      <th>target</th>\n",
       "    </tr>\n",
       "  </thead>\n",
       "  <tbody>\n",
       "    <tr>\n",
       "      <th>0</th>\n",
       "      <td>21001001: Ward 1</td>\n",
       "      <td>18.596939</td>\n",
       "    </tr>\n",
       "    <tr>\n",
       "      <th>1</th>\n",
       "      <td>21001002: Ward 2</td>\n",
       "      <td>13.404001</td>\n",
       "    </tr>\n",
       "    <tr>\n",
       "      <th>2</th>\n",
       "      <td>21001003: Ward 3</td>\n",
       "      <td>20.837880</td>\n",
       "    </tr>\n",
       "    <tr>\n",
       "      <th>3</th>\n",
       "      <td>21001004: Ward 4</td>\n",
       "      <td>15.745705</td>\n",
       "    </tr>\n",
       "    <tr>\n",
       "      <th>4</th>\n",
       "      <td>21001005: Ward 5</td>\n",
       "      <td>21.329202</td>\n",
       "    </tr>\n",
       "    <tr>\n",
       "      <th>...</th>\n",
       "      <td>...</td>\n",
       "      <td>...</td>\n",
       "    </tr>\n",
       "    <tr>\n",
       "      <th>1008</th>\n",
       "      <td>19100107: Ward 107</td>\n",
       "      <td>6.222940</td>\n",
       "    </tr>\n",
       "    <tr>\n",
       "      <th>1009</th>\n",
       "      <td>19100108: Ward 108</td>\n",
       "      <td>21.495622</td>\n",
       "    </tr>\n",
       "    <tr>\n",
       "      <th>1010</th>\n",
       "      <td>19100109: Ward 109</td>\n",
       "      <td>18.724543</td>\n",
       "    </tr>\n",
       "    <tr>\n",
       "      <th>1011</th>\n",
       "      <td>19100110: Ward 110</td>\n",
       "      <td>13.005277</td>\n",
       "    </tr>\n",
       "    <tr>\n",
       "      <th>1012</th>\n",
       "      <td>19100111: Ward 111</td>\n",
       "      <td>17.605577</td>\n",
       "    </tr>\n",
       "  </tbody>\n",
       "</table>\n",
       "<p>1013 rows × 2 columns</p>\n",
       "</div>"
      ],
      "text/plain": [
       "                    ward     target\n",
       "0       21001001: Ward 1  18.596939\n",
       "1       21001002: Ward 2  13.404001\n",
       "2       21001003: Ward 3  20.837880\n",
       "3       21001004: Ward 4  15.745705\n",
       "4       21001005: Ward 5  21.329202\n",
       "...                  ...        ...\n",
       "1008  19100107: Ward 107   6.222940\n",
       "1009  19100108: Ward 108  21.495622\n",
       "1010  19100109: Ward 109  18.724543\n",
       "1011  19100110: Ward 110  13.005277\n",
       "1012  19100111: Ward 111  17.605577\n",
       "\n",
       "[1013 rows x 2 columns]"
      ]
     },
     "execution_count": 175,
     "metadata": {},
     "output_type": "execute_result"
    }
   ],
   "source": [
    "create_submission(test, 'rf_gbm_001.csv', cols=top_cols_20, models=[rf, gbm])"
   ]
  },
  {
   "cell_type": "code",
   "execution_count": 176,
   "metadata": {},
   "outputs": [
    {
     "data": {
      "text/html": [
       "<div>\n",
       "<style scoped>\n",
       "    .dataframe tbody tr th:only-of-type {\n",
       "        vertical-align: middle;\n",
       "    }\n",
       "\n",
       "    .dataframe tbody tr th {\n",
       "        vertical-align: top;\n",
       "    }\n",
       "\n",
       "    .dataframe thead th {\n",
       "        text-align: right;\n",
       "    }\n",
       "</style>\n",
       "<table border=\"1\" class=\"dataframe\">\n",
       "  <thead>\n",
       "    <tr style=\"text-align: right;\">\n",
       "      <th></th>\n",
       "      <th>ward</th>\n",
       "      <th>target</th>\n",
       "    </tr>\n",
       "  </thead>\n",
       "  <tbody>\n",
       "    <tr>\n",
       "      <th>0</th>\n",
       "      <td>21001001: Ward 1</td>\n",
       "      <td>18.407434</td>\n",
       "    </tr>\n",
       "    <tr>\n",
       "      <th>1</th>\n",
       "      <td>21001002: Ward 2</td>\n",
       "      <td>12.805488</td>\n",
       "    </tr>\n",
       "    <tr>\n",
       "      <th>2</th>\n",
       "      <td>21001003: Ward 3</td>\n",
       "      <td>19.522554</td>\n",
       "    </tr>\n",
       "    <tr>\n",
       "      <th>3</th>\n",
       "      <td>21001004: Ward 4</td>\n",
       "      <td>15.588803</td>\n",
       "    </tr>\n",
       "    <tr>\n",
       "      <th>4</th>\n",
       "      <td>21001005: Ward 5</td>\n",
       "      <td>20.715034</td>\n",
       "    </tr>\n",
       "    <tr>\n",
       "      <th>...</th>\n",
       "      <td>...</td>\n",
       "      <td>...</td>\n",
       "    </tr>\n",
       "    <tr>\n",
       "      <th>1008</th>\n",
       "      <td>19100107: Ward 107</td>\n",
       "      <td>4.048140</td>\n",
       "    </tr>\n",
       "    <tr>\n",
       "      <th>1009</th>\n",
       "      <td>19100108: Ward 108</td>\n",
       "      <td>21.180550</td>\n",
       "    </tr>\n",
       "    <tr>\n",
       "      <th>1010</th>\n",
       "      <td>19100109: Ward 109</td>\n",
       "      <td>18.031317</td>\n",
       "    </tr>\n",
       "    <tr>\n",
       "      <th>1011</th>\n",
       "      <td>19100110: Ward 110</td>\n",
       "      <td>12.543176</td>\n",
       "    </tr>\n",
       "    <tr>\n",
       "      <th>1012</th>\n",
       "      <td>19100111: Ward 111</td>\n",
       "      <td>17.076542</td>\n",
       "    </tr>\n",
       "  </tbody>\n",
       "</table>\n",
       "<p>1013 rows × 2 columns</p>\n",
       "</div>"
      ],
      "text/plain": [
       "                    ward     target\n",
       "0       21001001: Ward 1  18.407434\n",
       "1       21001002: Ward 2  12.805488\n",
       "2       21001003: Ward 3  19.522554\n",
       "3       21001004: Ward 4  15.588803\n",
       "4       21001005: Ward 5  20.715034\n",
       "...                  ...        ...\n",
       "1008  19100107: Ward 107   4.048140\n",
       "1009  19100108: Ward 108  21.180550\n",
       "1010  19100109: Ward 109  18.031317\n",
       "1011  19100110: Ward 110  12.543176\n",
       "1012  19100111: Ward 111  17.076542\n",
       "\n",
       "[1013 rows x 2 columns]"
      ]
     },
     "execution_count": 176,
     "metadata": {},
     "output_type": "execute_result"
    }
   ],
   "source": [
    "create_submission(test, 'xgb_gbm_001.csv', cols=top_cols_20, models=[model_xgb, gbm])"
   ]
  },
  {
   "cell_type": "code",
   "execution_count": 177,
   "metadata": {},
   "outputs": [
    {
     "data": {
      "text/html": [
       "<div>\n",
       "<style scoped>\n",
       "    .dataframe tbody tr th:only-of-type {\n",
       "        vertical-align: middle;\n",
       "    }\n",
       "\n",
       "    .dataframe tbody tr th {\n",
       "        vertical-align: top;\n",
       "    }\n",
       "\n",
       "    .dataframe thead th {\n",
       "        text-align: right;\n",
       "    }\n",
       "</style>\n",
       "<table border=\"1\" class=\"dataframe\">\n",
       "  <thead>\n",
       "    <tr style=\"text-align: right;\">\n",
       "      <th></th>\n",
       "      <th>ward</th>\n",
       "      <th>target</th>\n",
       "    </tr>\n",
       "  </thead>\n",
       "  <tbody>\n",
       "    <tr>\n",
       "      <th>0</th>\n",
       "      <td>21001001: Ward 1</td>\n",
       "      <td>18.486563</td>\n",
       "    </tr>\n",
       "    <tr>\n",
       "      <th>1</th>\n",
       "      <td>21001002: Ward 2</td>\n",
       "      <td>13.241023</td>\n",
       "    </tr>\n",
       "    <tr>\n",
       "      <th>2</th>\n",
       "      <td>21001003: Ward 3</td>\n",
       "      <td>20.254992</td>\n",
       "    </tr>\n",
       "    <tr>\n",
       "      <th>3</th>\n",
       "      <td>21001004: Ward 4</td>\n",
       "      <td>15.986142</td>\n",
       "    </tr>\n",
       "    <tr>\n",
       "      <th>4</th>\n",
       "      <td>21001005: Ward 5</td>\n",
       "      <td>20.941668</td>\n",
       "    </tr>\n",
       "    <tr>\n",
       "      <th>...</th>\n",
       "      <td>...</td>\n",
       "      <td>...</td>\n",
       "    </tr>\n",
       "    <tr>\n",
       "      <th>1008</th>\n",
       "      <td>19100107: Ward 107</td>\n",
       "      <td>5.177655</td>\n",
       "    </tr>\n",
       "    <tr>\n",
       "      <th>1009</th>\n",
       "      <td>19100108: Ward 108</td>\n",
       "      <td>21.418884</td>\n",
       "    </tr>\n",
       "    <tr>\n",
       "      <th>1010</th>\n",
       "      <td>19100109: Ward 109</td>\n",
       "      <td>18.300663</td>\n",
       "    </tr>\n",
       "    <tr>\n",
       "      <th>1011</th>\n",
       "      <td>19100110: Ward 110</td>\n",
       "      <td>12.735253</td>\n",
       "    </tr>\n",
       "    <tr>\n",
       "      <th>1012</th>\n",
       "      <td>19100111: Ward 111</td>\n",
       "      <td>17.228642</td>\n",
       "    </tr>\n",
       "  </tbody>\n",
       "</table>\n",
       "<p>1013 rows × 2 columns</p>\n",
       "</div>"
      ],
      "text/plain": [
       "                    ward     target\n",
       "0       21001001: Ward 1  18.486563\n",
       "1       21001002: Ward 2  13.241023\n",
       "2       21001003: Ward 3  20.254992\n",
       "3       21001004: Ward 4  15.986142\n",
       "4       21001005: Ward 5  20.941668\n",
       "...                  ...        ...\n",
       "1008  19100107: Ward 107   5.177655\n",
       "1009  19100108: Ward 108  21.418884\n",
       "1010  19100109: Ward 109  18.300663\n",
       "1011  19100110: Ward 110  12.735253\n",
       "1012  19100111: Ward 111  17.228642\n",
       "\n",
       "[1013 rows x 2 columns]"
      ]
     },
     "execution_count": 177,
     "metadata": {},
     "output_type": "execute_result"
    }
   ],
   "source": [
    "create_submission(test, 'xgb_gbm_rf_001.csv', cols=top_cols_20, models=[model_xgb, gbm, rf])"
   ]
  },
  {
   "cell_type": "code",
   "execution_count": null,
   "metadata": {},
   "outputs": [],
   "source": []
  }
 ],
 "metadata": {
  "colab": {
   "collapsed_sections": [],
   "name": "Starter Notebook.ipynb",
   "provenance": [],
   "toc_visible": true
  },
  "kernelspec": {
   "display_name": "Python 3",
   "language": "python",
   "name": "python3"
  },
  "language_info": {
   "codemirror_mode": {
    "name": "ipython",
    "version": 3
   },
   "file_extension": ".py",
   "mimetype": "text/x-python",
   "name": "python",
   "nbconvert_exporter": "python",
   "pygments_lexer": "ipython3",
   "version": "3.7.4"
  },
  "toc": {
   "base_numbering": 1,
   "nav_menu": {},
   "number_sections": true,
   "sideBar": true,
   "skip_h1_title": false,
   "title_cell": "Table of Contents",
   "title_sidebar": "Contents",
   "toc_cell": false,
   "toc_position": {},
   "toc_section_display": true,
   "toc_window_display": false
  }
 },
 "nbformat": 4,
 "nbformat_minor": 1
}
