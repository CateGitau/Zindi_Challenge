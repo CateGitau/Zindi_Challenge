{
 "cells": [
  {
   "cell_type": "code",
   "execution_count": 1,
   "metadata": {
    "colab": {},
    "colab_type": "code",
    "id": "eUEqZA9tbc8N"
   },
   "outputs": [],
   "source": [
    "import pandas as pd\n",
    "import numpy as np\n",
    "import os, random, math, glob\n",
    "from IPython.display import Image as IM\n",
    "from IPython.display import clear_output\n",
    "from matplotlib import pyplot as plt\n",
    "from sklearn.model_selection import train_test_split\n",
    "from sklearn.ensemble import RandomForestRegressor\n",
    "from sklearn.metrics import mean_squared_error\n",
    "from xgboost import XGBRegressor\n",
    "from sklearn.linear_model import LinearRegression\n",
    "# from catboost import CatBoostRegressor\n",
    "import lightgbm as lgb\n",
    "from math import sqrt\n",
    "from sklearn.model_selection import KFold\n",
    "%matplotlib inline\n",
    "plt.rcParams['figure.figsize'] = [16, 10]\n",
    "\n",
    "plt.rcParams['figure.figsize'] = [16, 10]"
   ]
  },
  {
   "cell_type": "code",
   "execution_count": 2,
   "metadata": {
    "colab": {},
    "colab_type": "code",
    "id": "KSkNVXtJbc8V",
    "outputId": "af221980-98eb-4e84-95f7-571310c3e3d7",
    "scrolled": false
   },
   "outputs": [
    {
     "name": "stdout",
     "output_type": "stream",
     "text": [
      "(2822, 63) (1013, 62)\n"
     ]
    }
   ],
   "source": [
    "df_train = pd.read_csv('Train.csv')\n",
    "df_test = pd.read_csv('Test.csv')\n",
    "print(df_train.shape, df_test.shape)"
   ]
  },
  {
   "cell_type": "code",
   "execution_count": 3,
   "metadata": {
    "colab": {},
    "colab_type": "code",
    "id": "uUQGBKnJbc8b",
    "outputId": "36233cce-9c02-4a2d-8197-9d6d3b8790d8"
   },
   "outputs": [
    {
     "data": {
      "text/html": [
       "<div>\n",
       "<style scoped>\n",
       "    .dataframe tbody tr th:only-of-type {\n",
       "        vertical-align: middle;\n",
       "    }\n",
       "\n",
       "    .dataframe tbody tr th {\n",
       "        vertical-align: top;\n",
       "    }\n",
       "\n",
       "    .dataframe thead th {\n",
       "        text-align: right;\n",
       "    }\n",
       "</style>\n",
       "<table border=\"1\" class=\"dataframe\">\n",
       "  <thead>\n",
       "    <tr style=\"text-align: right;\">\n",
       "      <th></th>\n",
       "      <th>ward</th>\n",
       "    </tr>\n",
       "  </thead>\n",
       "  <tbody>\n",
       "    <tr>\n",
       "      <th>0</th>\n",
       "      <td>21001001: Ward 1</td>\n",
       "    </tr>\n",
       "    <tr>\n",
       "      <th>1</th>\n",
       "      <td>21001002: Ward 2</td>\n",
       "    </tr>\n",
       "    <tr>\n",
       "      <th>2</th>\n",
       "      <td>21001003: Ward 3</td>\n",
       "    </tr>\n",
       "    <tr>\n",
       "      <th>3</th>\n",
       "      <td>21001004: Ward 4</td>\n",
       "    </tr>\n",
       "    <tr>\n",
       "      <th>4</th>\n",
       "      <td>21001005: Ward 5</td>\n",
       "    </tr>\n",
       "  </tbody>\n",
       "</table>\n",
       "</div>"
      ],
      "text/plain": [
       "               ward\n",
       "0  21001001: Ward 1\n",
       "1  21001002: Ward 2\n",
       "2  21001003: Ward 3\n",
       "3  21001004: Ward 4\n",
       "4  21001005: Ward 5"
      ]
     },
     "execution_count": 3,
     "metadata": {},
     "output_type": "execute_result"
    }
   ],
   "source": [
    "ward = df_test[['ward']]\n",
    "ward.head()"
   ]
  },
  {
   "cell_type": "code",
   "execution_count": 4,
   "metadata": {
    "colab": {},
    "colab_type": "code",
    "id": "ZUbwkXbHbc8g",
    "outputId": "0fafdde5-5e14-46d1-ee0c-1371b5f20acc"
   },
   "outputs": [
    {
     "data": {
      "text/html": [
       "<div>\n",
       "<style scoped>\n",
       "    .dataframe tbody tr th:only-of-type {\n",
       "        vertical-align: middle;\n",
       "    }\n",
       "\n",
       "    .dataframe tbody tr th {\n",
       "        vertical-align: top;\n",
       "    }\n",
       "\n",
       "    .dataframe thead th {\n",
       "        text-align: right;\n",
       "    }\n",
       "</style>\n",
       "<table border=\"1\" class=\"dataframe\">\n",
       "  <thead>\n",
       "    <tr style=\"text-align: right;\">\n",
       "      <th></th>\n",
       "      <th>ward</th>\n",
       "      <th>total_households</th>\n",
       "      <th>total_individuals</th>\n",
       "      <th>target</th>\n",
       "      <th>dw_00</th>\n",
       "      <th>dw_01</th>\n",
       "      <th>dw_02</th>\n",
       "      <th>dw_03</th>\n",
       "      <th>dw_04</th>\n",
       "      <th>dw_05</th>\n",
       "    </tr>\n",
       "  </thead>\n",
       "  <tbody>\n",
       "    <tr>\n",
       "      <th>0</th>\n",
       "      <td>41601001: Ward 1</td>\n",
       "      <td>1674.45058</td>\n",
       "      <td>5888.20750</td>\n",
       "      <td>16.773757</td>\n",
       "      <td>0.933841</td>\n",
       "      <td>0.000846</td>\n",
       "      <td>0.005490</td>\n",
       "      <td>0.000676</td>\n",
       "      <td>0.000000</td>\n",
       "      <td>0.001372</td>\n",
       "    </tr>\n",
       "    <tr>\n",
       "      <th>1</th>\n",
       "      <td>41601002: Ward 2</td>\n",
       "      <td>1736.99230</td>\n",
       "      <td>6735.33812</td>\n",
       "      <td>21.496661</td>\n",
       "      <td>0.696940</td>\n",
       "      <td>0.001253</td>\n",
       "      <td>0.004402</td>\n",
       "      <td>0.000000</td>\n",
       "      <td>0.002301</td>\n",
       "      <td>0.001323</td>\n",
       "    </tr>\n",
       "    <tr>\n",
       "      <th>2</th>\n",
       "      <td>41601003: Ward 3</td>\n",
       "      <td>2403.57591</td>\n",
       "      <td>7273.04995</td>\n",
       "      <td>10.931425</td>\n",
       "      <td>0.810545</td>\n",
       "      <td>0.004517</td>\n",
       "      <td>0.008891</td>\n",
       "      <td>0.003986</td>\n",
       "      <td>0.007735</td>\n",
       "      <td>0.000956</td>\n",
       "    </tr>\n",
       "    <tr>\n",
       "      <th>3</th>\n",
       "      <td>41601004: Ward 4</td>\n",
       "      <td>1740.78737</td>\n",
       "      <td>5734.49046</td>\n",
       "      <td>23.119257</td>\n",
       "      <td>0.659914</td>\n",
       "      <td>0.000000</td>\n",
       "      <td>0.006129</td>\n",
       "      <td>0.000000</td>\n",
       "      <td>0.000813</td>\n",
       "      <td>0.037245</td>\n",
       "    </tr>\n",
       "    <tr>\n",
       "      <th>4</th>\n",
       "      <td>41601005: Ward 5</td>\n",
       "      <td>1730.51451</td>\n",
       "      <td>6657.23835</td>\n",
       "      <td>13.652252</td>\n",
       "      <td>0.950575</td>\n",
       "      <td>0.000655</td>\n",
       "      <td>0.001473</td>\n",
       "      <td>0.000598</td>\n",
       "      <td>0.006999</td>\n",
       "      <td>0.000818</td>\n",
       "    </tr>\n",
       "  </tbody>\n",
       "</table>\n",
       "</div>"
      ],
      "text/plain": [
       "               ward  total_households  total_individuals     target     dw_00  \\\n",
       "0  41601001: Ward 1        1674.45058         5888.20750  16.773757  0.933841   \n",
       "1  41601002: Ward 2        1736.99230         6735.33812  21.496661  0.696940   \n",
       "2  41601003: Ward 3        2403.57591         7273.04995  10.931425  0.810545   \n",
       "3  41601004: Ward 4        1740.78737         5734.49046  23.119257  0.659914   \n",
       "4  41601005: Ward 5        1730.51451         6657.23835  13.652252  0.950575   \n",
       "\n",
       "      dw_01     dw_02     dw_03     dw_04     dw_05  \n",
       "0  0.000846  0.005490  0.000676  0.000000  0.001372  \n",
       "1  0.001253  0.004402  0.000000  0.002301  0.001323  \n",
       "2  0.004517  0.008891  0.003986  0.007735  0.000956  \n",
       "3  0.000000  0.006129  0.000000  0.000813  0.037245  \n",
       "4  0.000655  0.001473  0.000598  0.006999  0.000818  "
      ]
     },
     "execution_count": 4,
     "metadata": {},
     "output_type": "execute_result"
    }
   ],
   "source": [
    "df_train.iloc[:, :10].head()"
   ]
  },
  {
   "cell_type": "code",
   "execution_count": 5,
   "metadata": {
    "colab": {},
    "colab_type": "code",
    "id": "8QYldB9Gbc8l",
    "outputId": "92666621-3582-4ac5-9cf1-05b93b778231"
   },
   "outputs": [
    {
     "data": {
      "text/html": [
       "<div>\n",
       "<style scoped>\n",
       "    .dataframe tbody tr th:only-of-type {\n",
       "        vertical-align: middle;\n",
       "    }\n",
       "\n",
       "    .dataframe tbody tr th {\n",
       "        vertical-align: top;\n",
       "    }\n",
       "\n",
       "    .dataframe thead th {\n",
       "        text-align: right;\n",
       "    }\n",
       "</style>\n",
       "<table border=\"1\" class=\"dataframe\">\n",
       "  <thead>\n",
       "    <tr style=\"text-align: right;\">\n",
       "      <th></th>\n",
       "      <th>Column</th>\n",
       "      <th>Description</th>\n",
       "    </tr>\n",
       "  </thead>\n",
       "  <tbody>\n",
       "    <tr>\n",
       "      <th>0</th>\n",
       "      <td>dw_00</td>\n",
       "      <td>Percentage of dwellings of type: House or bric...</td>\n",
       "    </tr>\n",
       "    <tr>\n",
       "      <th>1</th>\n",
       "      <td>dw_01</td>\n",
       "      <td>Percentage of dwellings of type: Traditional d...</td>\n",
       "    </tr>\n",
       "    <tr>\n",
       "      <th>2</th>\n",
       "      <td>dw_02</td>\n",
       "      <td>Percentage of dwellings of type: Flat or apart...</td>\n",
       "    </tr>\n",
       "    <tr>\n",
       "      <th>3</th>\n",
       "      <td>dw_03</td>\n",
       "      <td>Percentage of dwellings of type: Cluster house...</td>\n",
       "    </tr>\n",
       "    <tr>\n",
       "      <th>4</th>\n",
       "      <td>dw_04</td>\n",
       "      <td>Percentage of dwellings of type: Townhouse (se...</td>\n",
       "    </tr>\n",
       "  </tbody>\n",
       "</table>\n",
       "</div>"
      ],
      "text/plain": [
       "  Column                                        Description\n",
       "0  dw_00  Percentage of dwellings of type: House or bric...\n",
       "1  dw_01  Percentage of dwellings of type: Traditional d...\n",
       "2  dw_02  Percentage of dwellings of type: Flat or apart...\n",
       "3  dw_03  Percentage of dwellings of type: Cluster house...\n",
       "4  dw_04  Percentage of dwellings of type: Townhouse (se..."
      ]
     },
     "execution_count": 5,
     "metadata": {},
     "output_type": "execute_result"
    }
   ],
   "source": [
    "description = pd.read_csv('variable_descriptions.csv')\n",
    "description[['Column','Description']].head()"
   ]
  },
  {
   "cell_type": "code",
   "execution_count": 0,
   "metadata": {
    "colab": {},
    "colab_type": "code",
    "id": "KSLMpGGtbc8q"
   },
   "outputs": [],
   "source": [
    "# description.to_csv('description.csv', index=False)"
   ]
  },
  {
   "cell_type": "code",
   "execution_count": 7,
   "metadata": {
    "colab": {},
    "colab_type": "code",
    "id": "NyCzZF80bc8w",
    "outputId": "b5d208eb-8c17-4823-ec39-196d4497b9a3"
   },
   "outputs": [],
   "source": [
    "#df_train[df_train.dtypes[df_train.dtypes != 'float64'].index]"
   ]
  },
  {
   "cell_type": "code",
   "execution_count": 8,
   "metadata": {
    "colab": {},
    "colab_type": "code",
    "id": "n4ItEHbzbc81",
    "outputId": "fd1448fa-5d67-4c3a-b4b0-f05bdec39da6"
   },
   "outputs": [
    {
     "data": {
      "text/plain": [
       "(2822, 2822)"
      ]
     },
     "execution_count": 8,
     "metadata": {},
     "output_type": "execute_result"
    }
   ],
   "source": [
    "len(df_train.ward.unique()), len(df_train.ADM4_PCODE.unique())"
   ]
  },
  {
   "cell_type": "markdown",
   "metadata": {
    "colab_type": "text",
    "id": "k8An9enqbc85"
   },
   "source": [
    " dw_12, dw_13, lan_13, pw_07, pw_08 columns have zero values, and the other two columns(ward, ADM4_PCODE) are identifiers so we drop them from the data"
   ]
  },
  {
   "cell_type": "code",
   "execution_count": 9,
   "metadata": {
    "colab": {},
    "colab_type": "code",
    "id": "otYXRVcpbc86"
   },
   "outputs": [],
   "source": [
    "df_train.drop(columns=['dw_12', 'dw_13', 'lan_13', 'pw_07', 'pw_08', 'ADM4_PCODE'], inplace=True)\n",
    "df_test.drop(columns=['dw_12', 'dw_13', 'lan_13', 'pw_07', 'pw_08', 'ADM4_PCODE'], inplace=True)"
   ]
  },
  {
   "cell_type": "markdown",
   "metadata": {
    "colab_type": "text",
    "id": "fb1UsI9Bbc9A"
   },
   "source": [
    "###### ------------------ Feature Engineering----------------------########"
   ]
  },
  {
   "cell_type": "code",
   "execution_count": 10,
   "metadata": {
    "colab": {},
    "colab_type": "code",
    "id": "MG5zMU2qbc9C"
   },
   "outputs": [],
   "source": [
    "Target = df_train[['target']]\n",
    "dataset = pd.concat([df_train.drop(columns=['target']), df_test], ignore_index=True)"
   ]
  },
  {
   "cell_type": "code",
   "execution_count": 11,
   "metadata": {
    "colab": {},
    "colab_type": "code",
    "id": "cZwIpzTfbc9G",
    "outputId": "3d863f92-bee0-4546-dcf1-839af8315ba9"
   },
   "outputs": [
    {
     "data": {
      "text/plain": [
       "['stv_01', 'car_01', 'lln_01']"
      ]
     },
     "execution_count": 11,
     "metadata": {},
     "output_type": "execute_result"
    }
   ],
   "source": [
    "# Create correlation matrix\n",
    "corr_matrix = dataset.corr()\n",
    "\n",
    "# Select upper triangle of correlation matrix\n",
    "upper = corr_matrix.where(np.triu(np.ones(corr_matrix.shape), k=1).astype(np.bool))\n",
    "\n",
    "# Find index of feature columns with correlation greater than 0.95\n",
    "to_drop = [column for column in upper.columns if any(abs(upper[column]) > 0.97)]\n",
    "\n",
    "to_drop"
   ]
  },
  {
   "cell_type": "code",
   "execution_count": 12,
   "metadata": {
    "colab": {},
    "colab_type": "code",
    "id": "44Rj_SrKbc9K",
    "outputId": "40b1ae81-ba93-4f26-9edd-f19ba1f7f5f2"
   },
   "outputs": [
    {
     "data": {
      "text/plain": [
       "Index(['ward', 'total_households', 'total_individuals', 'dw_00', 'dw_01',\n",
       "       'dw_02', 'dw_03', 'dw_04', 'dw_05', 'dw_06', 'dw_07', 'dw_08', 'dw_09',\n",
       "       'dw_10', 'dw_11', 'psa_00', 'psa_01', 'psa_02', 'psa_03', 'psa_04',\n",
       "       'stv_00', 'stv_01', 'car_00', 'car_01', 'lln_00', 'lln_01', 'lan_00',\n",
       "       'lan_01', 'lan_02', 'lan_03', 'lan_04', 'lan_05', 'lan_06', 'lan_07',\n",
       "       'lan_08', 'lan_09', 'lan_10', 'lan_11', 'lan_12', 'lan_14', 'pg_00',\n",
       "       'pg_01', 'pg_02', 'pg_03', 'pg_04', 'lgt_00', 'pw_00', 'pw_01', 'pw_02',\n",
       "       'pw_03', 'pw_04', 'pw_05', 'pw_06', 'lat', 'lon', 'NL'],\n",
       "      dtype='object')"
      ]
     },
     "execution_count": 12,
     "metadata": {},
     "output_type": "execute_result"
    }
   ],
   "source": [
    "dataset.columns"
   ]
  },
  {
   "cell_type": "code",
   "execution_count": 13,
   "metadata": {
    "colab": {},
    "colab_type": "code",
    "id": "sX56I-eAbc9O",
    "outputId": "7f4e4abb-9b61-4408-8aa9-e08051dd1a27"
   },
   "outputs": [
    {
     "data": {
      "text/plain": [
       "array([['NL', 'Nightlights value for the area arounf (lat, lon)']],\n",
       "      dtype=object)"
      ]
     },
     "execution_count": 13,
     "metadata": {},
     "output_type": "execute_result"
    }
   ],
   "source": [
    "description[['Column','Description']][description['Column'] == 'NL'].values\n"
   ]
  },
  {
   "cell_type": "code",
   "execution_count": 14,
   "metadata": {
    "colab": {},
    "colab_type": "code",
    "id": "TKYF2vCfbc9T",
    "outputId": "0128e600-c30e-487d-b208-0e47903d481a"
   },
   "outputs": [
    {
     "data": {
      "text/plain": [
       "0.9338414334999999"
      ]
     },
     "execution_count": 14,
     "metadata": {},
     "output_type": "execute_result"
    }
   ],
   "source": [
    "dataset[['dw_00']].head(1).values.sum()"
   ]
  },
  {
   "cell_type": "code",
   "execution_count": 16,
   "metadata": {
    "colab": {},
    "colab_type": "code",
    "id": "yJgnLQw_bc9X",
    "outputId": "0ed1615c-bc12-4255-cfa7-58f164dc1e14"
   },
   "outputs": [],
   "source": [
    "#dataset[['num_indiv_HH','TV_CAR', 'TV_CAR_LL']].tail(20)"
   ]
  },
  {
   "cell_type": "code",
   "execution_count": 17,
   "metadata": {
    "colab": {},
    "colab_type": "code",
    "id": "CjIcQzrrbc9b",
    "outputId": "950c2bbf-8137-4353-846b-3175ea9b19ca"
   },
   "outputs": [
    {
     "name": "stderr",
     "output_type": "stream",
     "text": [
      "/usr/lib/python3/dist-packages/ipykernel_launcher.py:1: UserWarning: Boolean Series key will be reindexed to match DataFrame index.\n",
      "  \"\"\"Entry point for launching an IPython kernel.\n"
     ]
    },
    {
     "data": {
      "text/html": [
       "<div>\n",
       "<style scoped>\n",
       "    .dataframe tbody tr th:only-of-type {\n",
       "        vertical-align: middle;\n",
       "    }\n",
       "\n",
       "    .dataframe tbody tr th {\n",
       "        vertical-align: top;\n",
       "    }\n",
       "\n",
       "    .dataframe thead th {\n",
       "        text-align: right;\n",
       "    }\n",
       "</style>\n",
       "<table border=\"1\" class=\"dataframe\">\n",
       "  <thead>\n",
       "    <tr style=\"text-align: right;\">\n",
       "      <th></th>\n",
       "      <th>stv_00</th>\n",
       "      <th>car_00</th>\n",
       "      <th>lln_00</th>\n",
       "    </tr>\n",
       "  </thead>\n",
       "  <tbody>\n",
       "    <tr>\n",
       "      <th>116</th>\n",
       "      <td>0.647647</td>\n",
       "      <td>0.852382</td>\n",
       "      <td>0.530027</td>\n",
       "    </tr>\n",
       "    <tr>\n",
       "      <th>204</th>\n",
       "      <td>0.713916</td>\n",
       "      <td>0.905311</td>\n",
       "      <td>0.542473</td>\n",
       "    </tr>\n",
       "    <tr>\n",
       "      <th>223</th>\n",
       "      <td>0.578770</td>\n",
       "      <td>0.834166</td>\n",
       "      <td>0.506548</td>\n",
       "    </tr>\n",
       "    <tr>\n",
       "      <th>244</th>\n",
       "      <td>0.716907</td>\n",
       "      <td>0.862597</td>\n",
       "      <td>0.531946</td>\n",
       "    </tr>\n",
       "    <tr>\n",
       "      <th>283</th>\n",
       "      <td>0.676196</td>\n",
       "      <td>0.958672</td>\n",
       "      <td>0.569270</td>\n",
       "    </tr>\n",
       "    <tr>\n",
       "      <th>308</th>\n",
       "      <td>0.679078</td>\n",
       "      <td>0.849868</td>\n",
       "      <td>0.521623</td>\n",
       "    </tr>\n",
       "    <tr>\n",
       "      <th>312</th>\n",
       "      <td>0.785180</td>\n",
       "      <td>0.911754</td>\n",
       "      <td>0.544602</td>\n",
       "    </tr>\n",
       "    <tr>\n",
       "      <th>366</th>\n",
       "      <td>0.691908</td>\n",
       "      <td>0.915622</td>\n",
       "      <td>0.523741</td>\n",
       "    </tr>\n",
       "    <tr>\n",
       "      <th>397</th>\n",
       "      <td>0.648938</td>\n",
       "      <td>0.887468</td>\n",
       "      <td>0.508643</td>\n",
       "    </tr>\n",
       "    <tr>\n",
       "      <th>400</th>\n",
       "      <td>0.715137</td>\n",
       "      <td>0.885373</td>\n",
       "      <td>0.566590</td>\n",
       "    </tr>\n",
       "    <tr>\n",
       "      <th>458</th>\n",
       "      <td>0.697962</td>\n",
       "      <td>0.887252</td>\n",
       "      <td>0.543067</td>\n",
       "    </tr>\n",
       "    <tr>\n",
       "      <th>459</th>\n",
       "      <td>0.705726</td>\n",
       "      <td>0.841140</td>\n",
       "      <td>0.620889</td>\n",
       "    </tr>\n",
       "    <tr>\n",
       "      <th>460</th>\n",
       "      <td>0.674021</td>\n",
       "      <td>0.811682</td>\n",
       "      <td>0.522775</td>\n",
       "    </tr>\n",
       "    <tr>\n",
       "      <th>467</th>\n",
       "      <td>0.695644</td>\n",
       "      <td>0.891009</td>\n",
       "      <td>0.600666</td>\n",
       "    </tr>\n",
       "    <tr>\n",
       "      <th>468</th>\n",
       "      <td>0.688643</td>\n",
       "      <td>0.847394</td>\n",
       "      <td>0.588536</td>\n",
       "    </tr>\n",
       "    <tr>\n",
       "      <th>478</th>\n",
       "      <td>0.782225</td>\n",
       "      <td>0.933171</td>\n",
       "      <td>0.559833</td>\n",
       "    </tr>\n",
       "    <tr>\n",
       "      <th>564</th>\n",
       "      <td>0.762405</td>\n",
       "      <td>0.856087</td>\n",
       "      <td>0.562652</td>\n",
       "    </tr>\n",
       "    <tr>\n",
       "      <th>613</th>\n",
       "      <td>0.552115</td>\n",
       "      <td>0.675461</td>\n",
       "      <td>0.614026</td>\n",
       "    </tr>\n",
       "    <tr>\n",
       "      <th>615</th>\n",
       "      <td>0.552237</td>\n",
       "      <td>0.659763</td>\n",
       "      <td>0.516729</td>\n",
       "    </tr>\n",
       "    <tr>\n",
       "      <th>624</th>\n",
       "      <td>0.736479</td>\n",
       "      <td>0.891445</td>\n",
       "      <td>0.639188</td>\n",
       "    </tr>\n",
       "    <tr>\n",
       "      <th>628</th>\n",
       "      <td>0.605929</td>\n",
       "      <td>0.739064</td>\n",
       "      <td>0.609529</td>\n",
       "    </tr>\n",
       "    <tr>\n",
       "      <th>629</th>\n",
       "      <td>0.580967</td>\n",
       "      <td>0.745596</td>\n",
       "      <td>0.553544</td>\n",
       "    </tr>\n",
       "    <tr>\n",
       "      <th>630</th>\n",
       "      <td>0.714032</td>\n",
       "      <td>0.881364</td>\n",
       "      <td>0.536608</td>\n",
       "    </tr>\n",
       "    <tr>\n",
       "      <th>631</th>\n",
       "      <td>0.617557</td>\n",
       "      <td>0.702295</td>\n",
       "      <td>0.514925</td>\n",
       "    </tr>\n",
       "    <tr>\n",
       "      <th>635</th>\n",
       "      <td>0.743285</td>\n",
       "      <td>0.838497</td>\n",
       "      <td>0.500533</td>\n",
       "    </tr>\n",
       "    <tr>\n",
       "      <th>640</th>\n",
       "      <td>0.580924</td>\n",
       "      <td>0.795003</td>\n",
       "      <td>0.549798</td>\n",
       "    </tr>\n",
       "    <tr>\n",
       "      <th>642</th>\n",
       "      <td>0.737518</td>\n",
       "      <td>0.894206</td>\n",
       "      <td>0.538391</td>\n",
       "    </tr>\n",
       "    <tr>\n",
       "      <th>644</th>\n",
       "      <td>0.712936</td>\n",
       "      <td>0.765832</td>\n",
       "      <td>0.529355</td>\n",
       "    </tr>\n",
       "    <tr>\n",
       "      <th>658</th>\n",
       "      <td>0.611979</td>\n",
       "      <td>0.714286</td>\n",
       "      <td>0.556751</td>\n",
       "    </tr>\n",
       "    <tr>\n",
       "      <th>667</th>\n",
       "      <td>0.739846</td>\n",
       "      <td>0.894098</td>\n",
       "      <td>0.548263</td>\n",
       "    </tr>\n",
       "    <tr>\n",
       "      <th>...</th>\n",
       "      <td>...</td>\n",
       "      <td>...</td>\n",
       "      <td>...</td>\n",
       "    </tr>\n",
       "    <tr>\n",
       "      <th>3656</th>\n",
       "      <td>0.766953</td>\n",
       "      <td>0.959510</td>\n",
       "      <td>0.739176</td>\n",
       "    </tr>\n",
       "    <tr>\n",
       "      <th>3658</th>\n",
       "      <td>0.521680</td>\n",
       "      <td>0.837321</td>\n",
       "      <td>0.539261</td>\n",
       "    </tr>\n",
       "    <tr>\n",
       "      <th>3671</th>\n",
       "      <td>0.664165</td>\n",
       "      <td>0.945448</td>\n",
       "      <td>0.690746</td>\n",
       "    </tr>\n",
       "    <tr>\n",
       "      <th>3693</th>\n",
       "      <td>0.663417</td>\n",
       "      <td>0.714039</td>\n",
       "      <td>0.588470</td>\n",
       "    </tr>\n",
       "    <tr>\n",
       "      <th>3707</th>\n",
       "      <td>0.577769</td>\n",
       "      <td>0.673209</td>\n",
       "      <td>0.537762</td>\n",
       "    </tr>\n",
       "    <tr>\n",
       "      <th>3708</th>\n",
       "      <td>0.612442</td>\n",
       "      <td>0.839956</td>\n",
       "      <td>0.565901</td>\n",
       "    </tr>\n",
       "    <tr>\n",
       "      <th>3724</th>\n",
       "      <td>0.671252</td>\n",
       "      <td>0.937059</td>\n",
       "      <td>0.795114</td>\n",
       "    </tr>\n",
       "    <tr>\n",
       "      <th>3725</th>\n",
       "      <td>0.508355</td>\n",
       "      <td>0.860358</td>\n",
       "      <td>0.614594</td>\n",
       "    </tr>\n",
       "    <tr>\n",
       "      <th>3726</th>\n",
       "      <td>0.555513</td>\n",
       "      <td>0.899294</td>\n",
       "      <td>0.629297</td>\n",
       "    </tr>\n",
       "    <tr>\n",
       "      <th>3728</th>\n",
       "      <td>0.622640</td>\n",
       "      <td>0.912332</td>\n",
       "      <td>0.785848</td>\n",
       "    </tr>\n",
       "    <tr>\n",
       "      <th>3731</th>\n",
       "      <td>0.556280</td>\n",
       "      <td>0.841128</td>\n",
       "      <td>0.512782</td>\n",
       "    </tr>\n",
       "    <tr>\n",
       "      <th>3738</th>\n",
       "      <td>0.733011</td>\n",
       "      <td>0.936758</td>\n",
       "      <td>0.794758</td>\n",
       "    </tr>\n",
       "    <tr>\n",
       "      <th>3744</th>\n",
       "      <td>0.693384</td>\n",
       "      <td>0.921207</td>\n",
       "      <td>0.763116</td>\n",
       "    </tr>\n",
       "    <tr>\n",
       "      <th>3746</th>\n",
       "      <td>0.678717</td>\n",
       "      <td>0.901891</td>\n",
       "      <td>0.573150</td>\n",
       "    </tr>\n",
       "    <tr>\n",
       "      <th>3750</th>\n",
       "      <td>0.503503</td>\n",
       "      <td>0.764534</td>\n",
       "      <td>0.572616</td>\n",
       "    </tr>\n",
       "    <tr>\n",
       "      <th>3776</th>\n",
       "      <td>0.502494</td>\n",
       "      <td>0.740886</td>\n",
       "      <td>0.596775</td>\n",
       "    </tr>\n",
       "    <tr>\n",
       "      <th>3777</th>\n",
       "      <td>0.595573</td>\n",
       "      <td>0.767208</td>\n",
       "      <td>0.628942</td>\n",
       "    </tr>\n",
       "    <tr>\n",
       "      <th>3781</th>\n",
       "      <td>0.609343</td>\n",
       "      <td>0.883231</td>\n",
       "      <td>0.731331</td>\n",
       "    </tr>\n",
       "    <tr>\n",
       "      <th>3782</th>\n",
       "      <td>0.556884</td>\n",
       "      <td>0.832252</td>\n",
       "      <td>0.669008</td>\n",
       "    </tr>\n",
       "    <tr>\n",
       "      <th>3783</th>\n",
       "      <td>0.579650</td>\n",
       "      <td>0.862996</td>\n",
       "      <td>0.780048</td>\n",
       "    </tr>\n",
       "    <tr>\n",
       "      <th>3785</th>\n",
       "      <td>0.645974</td>\n",
       "      <td>0.845173</td>\n",
       "      <td>0.729890</td>\n",
       "    </tr>\n",
       "    <tr>\n",
       "      <th>3786</th>\n",
       "      <td>0.523786</td>\n",
       "      <td>0.814266</td>\n",
       "      <td>0.705364</td>\n",
       "    </tr>\n",
       "    <tr>\n",
       "      <th>3787</th>\n",
       "      <td>0.553880</td>\n",
       "      <td>0.871368</td>\n",
       "      <td>0.685051</td>\n",
       "    </tr>\n",
       "    <tr>\n",
       "      <th>3793</th>\n",
       "      <td>0.706111</td>\n",
       "      <td>0.943983</td>\n",
       "      <td>0.721388</td>\n",
       "    </tr>\n",
       "    <tr>\n",
       "      <th>3794</th>\n",
       "      <td>0.628854</td>\n",
       "      <td>0.820348</td>\n",
       "      <td>0.710957</td>\n",
       "    </tr>\n",
       "    <tr>\n",
       "      <th>3796</th>\n",
       "      <td>0.586104</td>\n",
       "      <td>0.881052</td>\n",
       "      <td>0.787242</td>\n",
       "    </tr>\n",
       "    <tr>\n",
       "      <th>3807</th>\n",
       "      <td>0.631098</td>\n",
       "      <td>0.846238</td>\n",
       "      <td>0.703193</td>\n",
       "    </tr>\n",
       "    <tr>\n",
       "      <th>3825</th>\n",
       "      <td>0.595029</td>\n",
       "      <td>0.911268</td>\n",
       "      <td>0.532864</td>\n",
       "    </tr>\n",
       "    <tr>\n",
       "      <th>3826</th>\n",
       "      <td>0.637286</td>\n",
       "      <td>0.935001</td>\n",
       "      <td>0.545783</td>\n",
       "    </tr>\n",
       "    <tr>\n",
       "      <th>3830</th>\n",
       "      <td>0.658908</td>\n",
       "      <td>0.882464</td>\n",
       "      <td>0.558145</td>\n",
       "    </tr>\n",
       "  </tbody>\n",
       "</table>\n",
       "<p>142 rows × 3 columns</p>\n",
       "</div>"
      ],
      "text/plain": [
       "        stv_00    car_00    lln_00\n",
       "116   0.647647  0.852382  0.530027\n",
       "204   0.713916  0.905311  0.542473\n",
       "223   0.578770  0.834166  0.506548\n",
       "244   0.716907  0.862597  0.531946\n",
       "283   0.676196  0.958672  0.569270\n",
       "308   0.679078  0.849868  0.521623\n",
       "312   0.785180  0.911754  0.544602\n",
       "366   0.691908  0.915622  0.523741\n",
       "397   0.648938  0.887468  0.508643\n",
       "400   0.715137  0.885373  0.566590\n",
       "458   0.697962  0.887252  0.543067\n",
       "459   0.705726  0.841140  0.620889\n",
       "460   0.674021  0.811682  0.522775\n",
       "467   0.695644  0.891009  0.600666\n",
       "468   0.688643  0.847394  0.588536\n",
       "478   0.782225  0.933171  0.559833\n",
       "564   0.762405  0.856087  0.562652\n",
       "613   0.552115  0.675461  0.614026\n",
       "615   0.552237  0.659763  0.516729\n",
       "624   0.736479  0.891445  0.639188\n",
       "628   0.605929  0.739064  0.609529\n",
       "629   0.580967  0.745596  0.553544\n",
       "630   0.714032  0.881364  0.536608\n",
       "631   0.617557  0.702295  0.514925\n",
       "635   0.743285  0.838497  0.500533\n",
       "640   0.580924  0.795003  0.549798\n",
       "642   0.737518  0.894206  0.538391\n",
       "644   0.712936  0.765832  0.529355\n",
       "658   0.611979  0.714286  0.556751\n",
       "667   0.739846  0.894098  0.548263\n",
       "...        ...       ...       ...\n",
       "3656  0.766953  0.959510  0.739176\n",
       "3658  0.521680  0.837321  0.539261\n",
       "3671  0.664165  0.945448  0.690746\n",
       "3693  0.663417  0.714039  0.588470\n",
       "3707  0.577769  0.673209  0.537762\n",
       "3708  0.612442  0.839956  0.565901\n",
       "3724  0.671252  0.937059  0.795114\n",
       "3725  0.508355  0.860358  0.614594\n",
       "3726  0.555513  0.899294  0.629297\n",
       "3728  0.622640  0.912332  0.785848\n",
       "3731  0.556280  0.841128  0.512782\n",
       "3738  0.733011  0.936758  0.794758\n",
       "3744  0.693384  0.921207  0.763116\n",
       "3746  0.678717  0.901891  0.573150\n",
       "3750  0.503503  0.764534  0.572616\n",
       "3776  0.502494  0.740886  0.596775\n",
       "3777  0.595573  0.767208  0.628942\n",
       "3781  0.609343  0.883231  0.731331\n",
       "3782  0.556884  0.832252  0.669008\n",
       "3783  0.579650  0.862996  0.780048\n",
       "3785  0.645974  0.845173  0.729890\n",
       "3786  0.523786  0.814266  0.705364\n",
       "3787  0.553880  0.871368  0.685051\n",
       "3793  0.706111  0.943983  0.721388\n",
       "3794  0.628854  0.820348  0.710957\n",
       "3796  0.586104  0.881052  0.787242\n",
       "3807  0.631098  0.846238  0.703193\n",
       "3825  0.595029  0.911268  0.532864\n",
       "3826  0.637286  0.935001  0.545783\n",
       "3830  0.658908  0.882464  0.558145\n",
       "\n",
       "[142 rows x 3 columns]"
      ]
     },
     "execution_count": 17,
     "metadata": {},
     "output_type": "execute_result"
    }
   ],
   "source": [
    "dataset[['stv_00','car_00','lln_00']][dataset['stv_00'] > 0.5][dataset['car_00'] > 0.5][dataset['lln_00'] > 0.5]"
   ]
  },
  {
   "cell_type": "code",
   "execution_count": 18,
   "metadata": {
    "colab": {},
    "colab_type": "code",
    "id": "Yd6AVPY6bc9g"
   },
   "outputs": [],
   "source": [
    "# Generate number of individuals in a HH\n",
    "dataset['num_indiv_HH'] = dataset['total_individuals']/dataset['total_households']"
   ]
  },
  {
   "cell_type": "code",
   "execution_count": 19,
   "metadata": {
    "colab": {},
    "colab_type": "code",
    "id": "qTQMkNmobc9j"
   },
   "outputs": [],
   "source": [
    "# Generate one feature that discriminates the HHs that has high percentage of TV than low percent of TVs\n",
    "df_TV = []\n",
    "for i,j in zip(dataset['stv_00'].values, dataset['car_00'].values):\n",
    "    if i > 0.5 and j > 0.5:\n",
    "        df_TV.append(1)\n",
    "    else:\n",
    "        df_TV.append(0)\n",
    "dataset['TV_CAR'] = df_TV"
   ]
  },
  {
   "cell_type": "code",
   "execution_count": 20,
   "metadata": {
    "colab": {},
    "colab_type": "code",
    "id": "UM5kZZsMbc9n"
   },
   "outputs": [],
   "source": [
    "# Generate one feature that discriminates the HHs that has high percentage of TV than low percent of TVs\n",
    "TV_car_ll = []\n",
    "for i,j in zip(dataset['TV_CAR'].values, dataset['lln_00'].values):\n",
    "    if i > 0.5 and j > 0.5:\n",
    "        TV_car_ll.append(1)\n",
    "    else:\n",
    "        TV_car_ll.append(0)\n",
    "dataset['TV_CAR_LL'] = TV_car_ll"
   ]
  },
  {
   "cell_type": "code",
   "execution_count": 21,
   "metadata": {
    "colab": {},
    "colab_type": "code",
    "id": "aVktLNqFbc9q"
   },
   "outputs": [],
   "source": [
    "dataset.drop(columns=['ward','stv_01', 'car_01', 'lln_01'], inplace=True)"
   ]
  },
  {
   "cell_type": "code",
   "execution_count": 22,
   "metadata": {
    "colab": {},
    "colab_type": "code",
    "id": "gALLQYh_bc9v",
    "outputId": "39e959dc-eb1b-4063-fdc6-39002ac5a35e"
   },
   "outputs": [
    {
     "data": {
      "image/png": "[encoded data removed]",
      "text/plain": [
       "<Figure size 360x360 with 1 Axes>"
      ]
     },
     "metadata": {
      "needs_background": "light"
     },
     "output_type": "display_data"
    }
   ],
   "source": [
    "import matplotlib.pyplot as plt \n",
    "import seaborn as sns\n",
    "\n",
    "sns.lmplot('stv_01', 'car_01', data = df_train, fit_reg=False);\n",
    "plt.title('stv_01 versus car_01');\n",
    "plt.show()"
   ]
  },
  {
   "cell_type": "code",
   "execution_count": 23,
   "metadata": {
    "colab": {},
    "colab_type": "code",
    "id": "JXMSQAwhbc9z",
    "outputId": "bcaf7631-414b-4427-fec7-0c55c205a83d"
   },
   "outputs": [
    {
     "data": {
      "image/png": "[encoded data removed]",
      "text/plain": [
       "<Figure size 360x360 with 1 Axes>"
      ]
     },
     "metadata": {
      "needs_background": "light"
     },
     "output_type": "display_data"
    }
   ],
   "source": [
    "sns.lmplot('car_01', 'lln_01', data = df_train, fit_reg=False);\n",
    "plt.title('car_01 versus lln_01');\n",
    "plt.show()"
   ]
  },
  {
   "cell_type": "code",
   "execution_count": 24,
   "metadata": {
    "colab": {},
    "colab_type": "code",
    "id": "wtgqQ3Frbc93",
    "outputId": "fdc1752f-da71-4a4a-cfeb-8916daa4196e"
   },
   "outputs": [
    {
     "data": {
      "image/png": "[encoded data removed]",
      "text/plain": [
       "<Figure size 360x360 with 1 Axes>"
      ]
     },
     "metadata": {
      "needs_background": "light"
     },
     "output_type": "display_data"
    }
   ],
   "source": [
    "sns.lmplot('stv_01', 'lln_01', data = df_train, fit_reg=False);\n",
    "plt.title('stv_01 versus lln_01');\n",
    "plt.show()"
   ]
  },
  {
   "cell_type": "code",
   "execution_count": 25,
   "metadata": {
    "colab": {},
    "colab_type": "code",
    "id": "i9szcUAibc96",
    "outputId": "fe876791-5a14-4d85-85f2-ca6db8d9ceed"
   },
   "outputs": [
    {
     "data": {
      "text/plain": [
       "array([1])"
      ]
     },
     "execution_count": 25,
     "metadata": {},
     "output_type": "execute_result"
    }
   ],
   "source": [
    "np.random.randint(1, 2, size=1)"
   ]
  },
  {
   "cell_type": "code",
   "execution_count": 0,
   "metadata": {
    "colab": {},
    "colab_type": "code",
    "id": "uDmU75XXbc9-"
   },
   "outputs": [],
   "source": [
    "# # in each column of dataframe\n",
    "# uniqueValues = df_train.nunique()\n",
    " \n",
    "# print('Count of unique values in each column :')\n",
    "# print(uniqueValues)"
   ]
  },
  {
   "cell_type": "code",
   "execution_count": null,
   "metadata": {},
   "outputs": [],
   "source": []
  },
  {
   "cell_type": "code",
   "execution_count": 28,
   "metadata": {
    "colab": {},
    "colab_type": "code",
    "id": "KGY8uTohbc-C"
   },
   "outputs": [
    {
     "ename": "NameError",
     "evalue": "name 'new_data' is not defined",
     "output_type": "error",
     "traceback": [
      "\u001b[0;31m---------------------------------------------------------------------------\u001b[0m",
      "\u001b[0;31mNameError\u001b[0m                                 Traceback (most recent call last)",
      "\u001b[0;32m<ipython-input-28-ff3e0ab03dc8>\u001b[0m in \u001b[0;36m<module>\u001b[0;34m()\u001b[0m\n\u001b[1;32m      1\u001b[0m \u001b[0;31m#new_data = dataset[feature_imp.tail(30)['Feature'].values]\u001b[0m\u001b[0;34m\u001b[0m\u001b[0;34m\u001b[0m\u001b[0;34m\u001b[0m\u001b[0m\n\u001b[0;32m----> 2\u001b[0;31m \u001b[0mnew_data\u001b[0m \u001b[0;34m=\u001b[0m \u001b[0mnew_data\u001b[0m\u001b[0;34m.\u001b[0m\u001b[0msample\u001b[0m\u001b[0;34m(\u001b[0m\u001b[0mfrac\u001b[0m\u001b[0;34m=\u001b[0m\u001b[0;36m1\u001b[0m\u001b[0;34m,\u001b[0m \u001b[0maxis\u001b[0m\u001b[0;34m=\u001b[0m\u001b[0;36m1\u001b[0m\u001b[0;34m)\u001b[0m\u001b[0;34m\u001b[0m\u001b[0;34m\u001b[0m\u001b[0m\n\u001b[0m\u001b[1;32m      3\u001b[0m \u001b[0;34m\u001b[0m\u001b[0m\n\u001b[1;32m      4\u001b[0m \u001b[0;31m# from sklearn.preprocessing import PolynomialFeatures\u001b[0m\u001b[0;34m\u001b[0m\u001b[0;34m\u001b[0m\u001b[0;34m\u001b[0m\u001b[0m\n\u001b[1;32m      5\u001b[0m \u001b[0;34m\u001b[0m\u001b[0m\n",
      "\u001b[0;31mNameError\u001b[0m: name 'new_data' is not defined"
     ]
    }
   ],
   "source": [
    "new_data = dataset[feature_imp.tail(30)['Feature'].values]\n",
    "new_data = new_data.sample(frac=1, axis=1)\n",
    "\n",
    "# from sklearn.preprocessing import PolynomialFeatures\n",
    "\n",
    "# poly = PolynomialFeatures(interaction_only=True)\n",
    "# poly_fea = poly.fit_transform(new_data.iloc[:,:4])\n",
    "\n",
    "# poly_fea = pd.DataFrame(poly_fea).drop(columns=[0,1,2,3,4])\n",
    "# poly_fea.columns = ['a','b','c','d','e','f']\n",
    "# for feature in  new_data.columns[:15]:\n",
    "#     new_data[feature + '_log'] = (new_data[feature]+1).transform(np.log)\n",
    "\n",
    "# new_data = pd.concat([poly_fea, new_data], axis=1, sort=True)"
   ]
  },
  {
   "cell_type": "code",
   "execution_count": 0,
   "metadata": {
    "colab": {},
    "colab_type": "code",
    "id": "oznNxcZ2bc-G",
    "outputId": "147d5ddf-14a0-4df7-9d35-7ac60e784d20"
   },
   "outputs": [
    {
     "data": {
      "text/html": [
       "<div>\n",
       "<style scoped>\n",
       "    .dataframe tbody tr th:only-of-type {\n",
       "        vertical-align: middle;\n",
       "    }\n",
       "\n",
       "    .dataframe tbody tr th {\n",
       "        vertical-align: top;\n",
       "    }\n",
       "\n",
       "    .dataframe thead th {\n",
       "        text-align: right;\n",
       "    }\n",
       "</style>\n",
       "<table border=\"1\" class=\"dataframe\">\n",
       "  <thead>\n",
       "    <tr style=\"text-align: right;\">\n",
       "      <th></th>\n",
       "      <th>lan_05</th>\n",
       "      <th>psa_01</th>\n",
       "      <th>pg_00</th>\n",
       "      <th>lan_10</th>\n",
       "      <th>pw_00</th>\n",
       "      <th>lan_03</th>\n",
       "      <th>lan_12</th>\n",
       "      <th>pg_03</th>\n",
       "      <th>lat</th>\n",
       "      <th>NL</th>\n",
       "      <th>...</th>\n",
       "      <th>psa_00</th>\n",
       "      <th>dw_04</th>\n",
       "      <th>dw_08</th>\n",
       "      <th>stv_00</th>\n",
       "      <th>lan_05_log</th>\n",
       "      <th>psa_01_log</th>\n",
       "      <th>pg_00_log</th>\n",
       "      <th>lan_10_log</th>\n",
       "      <th>pw_00_log</th>\n",
       "      <th>lan_03_log</th>\n",
       "    </tr>\n",
       "  </thead>\n",
       "  <tbody>\n",
       "    <tr>\n",
       "      <td>0</td>\n",
       "      <td>0.000564</td>\n",
       "      <td>0.607898</td>\n",
       "      <td>0.357455</td>\n",
       "      <td>0.000372</td>\n",
       "      <td>0.742692</td>\n",
       "      <td>0.050939</td>\n",
       "      <td>0.002719</td>\n",
       "      <td>0.072996</td>\n",
       "      <td>-29.682270</td>\n",
       "      <td>0.292039</td>\n",
       "      <td>...</td>\n",
       "      <td>0.260191</td>\n",
       "      <td>0.000000</td>\n",
       "      <td>0.008080</td>\n",
       "      <td>0.283468</td>\n",
       "      <td>0.000564</td>\n",
       "      <td>0.474928</td>\n",
       "      <td>0.305612</td>\n",
       "      <td>0.000372</td>\n",
       "      <td>0.555431</td>\n",
       "      <td>0.049684</td>\n",
       "    </tr>\n",
       "    <tr>\n",
       "      <td>1</td>\n",
       "      <td>0.001759</td>\n",
       "      <td>0.549788</td>\n",
       "      <td>0.698428</td>\n",
       "      <td>0.000994</td>\n",
       "      <td>0.309294</td>\n",
       "      <td>0.011249</td>\n",
       "      <td>0.002439</td>\n",
       "      <td>0.015835</td>\n",
       "      <td>-29.119311</td>\n",
       "      <td>3.207775</td>\n",
       "      <td>...</td>\n",
       "      <td>0.290228</td>\n",
       "      <td>0.002301</td>\n",
       "      <td>0.151910</td>\n",
       "      <td>0.103641</td>\n",
       "      <td>0.001757</td>\n",
       "      <td>0.438118</td>\n",
       "      <td>0.529703</td>\n",
       "      <td>0.000994</td>\n",
       "      <td>0.269488</td>\n",
       "      <td>0.011187</td>\n",
       "    </tr>\n",
       "    <tr>\n",
       "      <td>2</td>\n",
       "      <td>0.002552</td>\n",
       "      <td>0.677005</td>\n",
       "      <td>0.672452</td>\n",
       "      <td>0.000779</td>\n",
       "      <td>0.323393</td>\n",
       "      <td>0.111270</td>\n",
       "      <td>0.002509</td>\n",
       "      <td>0.167494</td>\n",
       "      <td>-29.142276</td>\n",
       "      <td>0.000000</td>\n",
       "      <td>...</td>\n",
       "      <td>0.186435</td>\n",
       "      <td>0.007735</td>\n",
       "      <td>0.129902</td>\n",
       "      <td>0.165772</td>\n",
       "      <td>0.002548</td>\n",
       "      <td>0.517009</td>\n",
       "      <td>0.514291</td>\n",
       "      <td>0.000778</td>\n",
       "      <td>0.280199</td>\n",
       "      <td>0.105503</td>\n",
       "    </tr>\n",
       "    <tr>\n",
       "      <td>3</td>\n",
       "      <td>0.002308</td>\n",
       "      <td>0.593281</td>\n",
       "      <td>0.728014</td>\n",
       "      <td>0.000000</td>\n",
       "      <td>0.677437</td>\n",
       "      <td>0.086423</td>\n",
       "      <td>0.007442</td>\n",
       "      <td>0.000956</td>\n",
       "      <td>-29.372052</td>\n",
       "      <td>2.038778</td>\n",
       "      <td>...</td>\n",
       "      <td>0.281229</td>\n",
       "      <td>0.000813</td>\n",
       "      <td>0.218786</td>\n",
       "      <td>0.087768</td>\n",
       "      <td>0.002305</td>\n",
       "      <td>0.465795</td>\n",
       "      <td>0.546973</td>\n",
       "      <td>0.000000</td>\n",
       "      <td>0.517267</td>\n",
       "      <td>0.082891</td>\n",
       "    </tr>\n",
       "    <tr>\n",
       "      <td>4</td>\n",
       "      <td>0.002613</td>\n",
       "      <td>0.517578</td>\n",
       "      <td>0.753491</td>\n",
       "      <td>0.000643</td>\n",
       "      <td>0.771106</td>\n",
       "      <td>0.121869</td>\n",
       "      <td>0.004276</td>\n",
       "      <td>0.106953</td>\n",
       "      <td>-29.409381</td>\n",
       "      <td>0.000000</td>\n",
       "      <td>...</td>\n",
       "      <td>0.196687</td>\n",
       "      <td>0.006999</td>\n",
       "      <td>0.015382</td>\n",
       "      <td>0.345975</td>\n",
       "      <td>0.002610</td>\n",
       "      <td>0.417116</td>\n",
       "      <td>0.561608</td>\n",
       "      <td>0.000643</td>\n",
       "      <td>0.571604</td>\n",
       "      <td>0.114996</td>\n",
       "    </tr>\n",
       "    <tr>\n",
       "      <td>...</td>\n",
       "      <td>...</td>\n",
       "      <td>...</td>\n",
       "      <td>...</td>\n",
       "      <td>...</td>\n",
       "      <td>...</td>\n",
       "      <td>...</td>\n",
       "      <td>...</td>\n",
       "      <td>...</td>\n",
       "      <td>...</td>\n",
       "      <td>...</td>\n",
       "      <td>...</td>\n",
       "      <td>...</td>\n",
       "      <td>...</td>\n",
       "      <td>...</td>\n",
       "      <td>...</td>\n",
       "      <td>...</td>\n",
       "      <td>...</td>\n",
       "      <td>...</td>\n",
       "      <td>...</td>\n",
       "      <td>...</td>\n",
       "      <td>...</td>\n",
       "    </tr>\n",
       "    <tr>\n",
       "      <td>3830</td>\n",
       "      <td>0.003975</td>\n",
       "      <td>0.612635</td>\n",
       "      <td>0.257872</td>\n",
       "      <td>0.003400</td>\n",
       "      <td>0.992238</td>\n",
       "      <td>0.074446</td>\n",
       "      <td>0.087869</td>\n",
       "      <td>0.619228</td>\n",
       "      <td>-33.806524</td>\n",
       "      <td>33.913055</td>\n",
       "      <td>...</td>\n",
       "      <td>0.233077</td>\n",
       "      <td>0.069741</td>\n",
       "      <td>0.002530</td>\n",
       "      <td>0.658908</td>\n",
       "      <td>0.003967</td>\n",
       "      <td>0.477870</td>\n",
       "      <td>0.229421</td>\n",
       "      <td>0.003394</td>\n",
       "      <td>0.689259</td>\n",
       "      <td>0.071805</td>\n",
       "    </tr>\n",
       "    <tr>\n",
       "      <td>3831</td>\n",
       "      <td>0.003066</td>\n",
       "      <td>0.577557</td>\n",
       "      <td>0.955210</td>\n",
       "      <td>0.001250</td>\n",
       "      <td>0.433723</td>\n",
       "      <td>0.857461</td>\n",
       "      <td>0.014547</td>\n",
       "      <td>0.000531</td>\n",
       "      <td>-33.982120</td>\n",
       "      <td>60.009486</td>\n",
       "      <td>...</td>\n",
       "      <td>0.248120</td>\n",
       "      <td>0.000554</td>\n",
       "      <td>0.416686</td>\n",
       "      <td>0.070309</td>\n",
       "      <td>0.003061</td>\n",
       "      <td>0.455877</td>\n",
       "      <td>0.670498</td>\n",
       "      <td>0.001249</td>\n",
       "      <td>0.360275</td>\n",
       "      <td>0.619210</td>\n",
       "    </tr>\n",
       "    <tr>\n",
       "      <td>3832</td>\n",
       "      <td>0.000936</td>\n",
       "      <td>0.534385</td>\n",
       "      <td>0.248422</td>\n",
       "      <td>0.000680</td>\n",
       "      <td>0.733120</td>\n",
       "      <td>0.202490</td>\n",
       "      <td>0.006981</td>\n",
       "      <td>0.010415</td>\n",
       "      <td>-34.062704</td>\n",
       "      <td>35.834860</td>\n",
       "      <td>...</td>\n",
       "      <td>0.239656</td>\n",
       "      <td>0.000371</td>\n",
       "      <td>0.070348</td>\n",
       "      <td>0.187296</td>\n",
       "      <td>0.000936</td>\n",
       "      <td>0.428130</td>\n",
       "      <td>0.221881</td>\n",
       "      <td>0.000679</td>\n",
       "      <td>0.549923</td>\n",
       "      <td>0.184395</td>\n",
       "    </tr>\n",
       "    <tr>\n",
       "      <td>3833</td>\n",
       "      <td>0.000463</td>\n",
       "      <td>0.530802</td>\n",
       "      <td>0.058357</td>\n",
       "      <td>0.000255</td>\n",
       "      <td>0.934310</td>\n",
       "      <td>0.002739</td>\n",
       "      <td>0.006659</td>\n",
       "      <td>0.003929</td>\n",
       "      <td>-34.057772</td>\n",
       "      <td>50.153301</td>\n",
       "      <td>...</td>\n",
       "      <td>0.203364</td>\n",
       "      <td>0.000939</td>\n",
       "      <td>0.001687</td>\n",
       "      <td>0.320743</td>\n",
       "      <td>0.000463</td>\n",
       "      <td>0.425792</td>\n",
       "      <td>0.056717</td>\n",
       "      <td>0.000255</td>\n",
       "      <td>0.659751</td>\n",
       "      <td>0.002735</td>\n",
       "    </tr>\n",
       "    <tr>\n",
       "      <td>3834</td>\n",
       "      <td>0.001649</td>\n",
       "      <td>0.503114</td>\n",
       "      <td>0.434617</td>\n",
       "      <td>0.001181</td>\n",
       "      <td>0.777890</td>\n",
       "      <td>0.320175</td>\n",
       "      <td>0.050048</td>\n",
       "      <td>0.078584</td>\n",
       "      <td>-33.850503</td>\n",
       "      <td>43.626138</td>\n",
       "      <td>...</td>\n",
       "      <td>0.246843</td>\n",
       "      <td>0.001674</td>\n",
       "      <td>0.150055</td>\n",
       "      <td>0.204331</td>\n",
       "      <td>0.001648</td>\n",
       "      <td>0.407539</td>\n",
       "      <td>0.360898</td>\n",
       "      <td>0.001180</td>\n",
       "      <td>0.575427</td>\n",
       "      <td>0.277764</td>\n",
       "    </tr>\n",
       "  </tbody>\n",
       "</table>\n",
       "<p>3835 rows × 36 columns</p>\n",
       "</div>"
      ],
      "text/plain": [
       "        lan_05    psa_01     pg_00    lan_10     pw_00    lan_03    lan_12  \\\n",
       "0     0.000564  0.607898  0.357455  0.000372  0.742692  0.050939  0.002719   \n",
       "1     0.001759  0.549788  0.698428  0.000994  0.309294  0.011249  0.002439   \n",
       "2     0.002552  0.677005  0.672452  0.000779  0.323393  0.111270  0.002509   \n",
       "3     0.002308  0.593281  0.728014  0.000000  0.677437  0.086423  0.007442   \n",
       "4     0.002613  0.517578  0.753491  0.000643  0.771106  0.121869  0.004276   \n",
       "...        ...       ...       ...       ...       ...       ...       ...   \n",
       "3830  0.003975  0.612635  0.257872  0.003400  0.992238  0.074446  0.087869   \n",
       "3831  0.003066  0.577557  0.955210  0.001250  0.433723  0.857461  0.014547   \n",
       "3832  0.000936  0.534385  0.248422  0.000680  0.733120  0.202490  0.006981   \n",
       "3833  0.000463  0.530802  0.058357  0.000255  0.934310  0.002739  0.006659   \n",
       "3834  0.001649  0.503114  0.434617  0.001181  0.777890  0.320175  0.050048   \n",
       "\n",
       "         pg_03        lat         NL  ...    psa_00     dw_04     dw_08  \\\n",
       "0     0.072996 -29.682270   0.292039  ...  0.260191  0.000000  0.008080   \n",
       "1     0.015835 -29.119311   3.207775  ...  0.290228  0.002301  0.151910   \n",
       "2     0.167494 -29.142276   0.000000  ...  0.186435  0.007735  0.129902   \n",
       "3     0.000956 -29.372052   2.038778  ...  0.281229  0.000813  0.218786   \n",
       "4     0.106953 -29.409381   0.000000  ...  0.196687  0.006999  0.015382   \n",
       "...        ...        ...        ...  ...       ...       ...       ...   \n",
       "3830  0.619228 -33.806524  33.913055  ...  0.233077  0.069741  0.002530   \n",
       "3831  0.000531 -33.982120  60.009486  ...  0.248120  0.000554  0.416686   \n",
       "3832  0.010415 -34.062704  35.834860  ...  0.239656  0.000371  0.070348   \n",
       "3833  0.003929 -34.057772  50.153301  ...  0.203364  0.000939  0.001687   \n",
       "3834  0.078584 -33.850503  43.626138  ...  0.246843  0.001674  0.150055   \n",
       "\n",
       "        stv_00  lan_05_log  psa_01_log  pg_00_log  lan_10_log  pw_00_log  \\\n",
       "0     0.283468    0.000564    0.474928   0.305612    0.000372   0.555431   \n",
       "1     0.103641    0.001757    0.438118   0.529703    0.000994   0.269488   \n",
       "2     0.165772    0.002548    0.517009   0.514291    0.000778   0.280199   \n",
       "3     0.087768    0.002305    0.465795   0.546973    0.000000   0.517267   \n",
       "4     0.345975    0.002610    0.417116   0.561608    0.000643   0.571604   \n",
       "...        ...         ...         ...        ...         ...        ...   \n",
       "3830  0.658908    0.003967    0.477870   0.229421    0.003394   0.689259   \n",
       "3831  0.070309    0.003061    0.455877   0.670498    0.001249   0.360275   \n",
       "3832  0.187296    0.000936    0.428130   0.221881    0.000679   0.549923   \n",
       "3833  0.320743    0.000463    0.425792   0.056717    0.000255   0.659751   \n",
       "3834  0.204331    0.001648    0.407539   0.360898    0.001180   0.575427   \n",
       "\n",
       "      lan_03_log  \n",
       "0       0.049684  \n",
       "1       0.011187  \n",
       "2       0.105503  \n",
       "3       0.082891  \n",
       "4       0.114996  \n",
       "...          ...  \n",
       "3830    0.071805  \n",
       "3831    0.619210  \n",
       "3832    0.184395  \n",
       "3833    0.002735  \n",
       "3834    0.277764  \n",
       "\n",
       "[3835 rows x 36 columns]"
      ]
     },
     "execution_count": 154,
     "metadata": {
      "tags": []
     },
     "output_type": "execute_result"
    }
   ],
   "source": [
    "new_data"
   ]
  },
  {
   "cell_type": "code",
   "execution_count": 27,
   "metadata": {
    "colab": {},
    "colab_type": "code",
    "id": "e208D3gsbc-J"
   },
   "outputs": [
    {
     "ename": "NameError",
     "evalue": "name 'new_data' is not defined",
     "output_type": "error",
     "traceback": [
      "\u001b[0;31m---------------------------------------------------------------------------\u001b[0m",
      "\u001b[0;31mNameError\u001b[0m                                 Traceback (most recent call last)",
      "\u001b[0;32m<ipython-input-27-8def7ce8e5b4>\u001b[0m in \u001b[0;36m<module>\u001b[0;34m()\u001b[0m\n\u001b[1;32m      1\u001b[0m \u001b[0;31m# dataset.drop(columns=['ward'], inplace=True)\u001b[0m\u001b[0;34m\u001b[0m\u001b[0;34m\u001b[0m\u001b[0;34m\u001b[0m\u001b[0m\n\u001b[0;32m----> 2\u001b[0;31m \u001b[0mdf_train\u001b[0m \u001b[0;34m=\u001b[0m \u001b[0mnew_data\u001b[0m\u001b[0;34m.\u001b[0m\u001b[0miloc\u001b[0m\u001b[0;34m[\u001b[0m\u001b[0;34m:\u001b[0m\u001b[0;36m2822\u001b[0m\u001b[0;34m]\u001b[0m\u001b[0;34m\u001b[0m\u001b[0;34m\u001b[0m\u001b[0m\n\u001b[0m\u001b[1;32m      3\u001b[0m \u001b[0mdf_test\u001b[0m \u001b[0;34m=\u001b[0m \u001b[0mnew_data\u001b[0m\u001b[0;34m.\u001b[0m\u001b[0miloc\u001b[0m\u001b[0;34m[\u001b[0m\u001b[0;36m2822\u001b[0m\u001b[0;34m:\u001b[0m\u001b[0;34m]\u001b[0m\u001b[0;34m\u001b[0m\u001b[0;34m\u001b[0m\u001b[0m\n\u001b[1;32m      4\u001b[0m \u001b[0mdf_test\u001b[0m\u001b[0;34m.\u001b[0m\u001b[0mreset_index\u001b[0m\u001b[0;34m(\u001b[0m\u001b[0mdrop\u001b[0m\u001b[0;34m=\u001b[0m\u001b[0;32mTrue\u001b[0m\u001b[0;34m,\u001b[0m \u001b[0minplace\u001b[0m\u001b[0;34m=\u001b[0m\u001b[0;32mTrue\u001b[0m\u001b[0;34m)\u001b[0m\u001b[0;34m\u001b[0m\u001b[0;34m\u001b[0m\u001b[0m\n",
      "\u001b[0;31mNameError\u001b[0m: name 'new_data' is not defined"
     ]
    }
   ],
   "source": [
    "# dataset.drop(columns=['ward'], inplace=True)\n",
    "df_train = new_data.iloc[:2822]\n",
    "df_test = new_data.iloc[2822:]\n",
    "df_test.reset_index(drop=True, inplace=True)"
   ]
  },
  {
   "cell_type": "code",
   "execution_count": 0,
   "metadata": {
    "colab": {},
    "colab_type": "code",
    "id": "fOD8HiZ2bc-M",
    "outputId": "d61c0346-4b1c-42d7-919b-09264b27d8e0"
   },
   "outputs": [
    {
     "name": "stdout",
     "output_type": "stream",
     "text": [
      "(2822, 36) (1013, 36)\n"
     ]
    }
   ],
   "source": [
    "print(df_train.shape, df_test.shape)"
   ]
  },
  {
   "cell_type": "code",
   "execution_count": 0,
   "metadata": {
    "colab": {},
    "colab_type": "code",
    "id": "OtEtBs1Gbc-P"
   },
   "outputs": [],
   "source": [
    "X = df_train\n",
    "y = Target\n",
    "\n",
    "X_train, X_test, y_train, y_test = train_test_split(X, y, test_size=0.2, random_state=42)"
   ]
  },
  {
   "cell_type": "code",
   "execution_count": 0,
   "metadata": {
    "colab": {},
    "colab_type": "code",
    "id": "1eqNRuw3bc-T"
   },
   "outputs": [],
   "source": [
    "train_data = lgb.Dataset(X_train,label=y_train)\n",
    "val_data = lgb.Dataset(X_test,label=y_test)"
   ]
  },
  {
   "cell_type": "code",
   "execution_count": 0,
   "metadata": {
    "colab": {},
    "colab_type": "code",
    "id": "MMjiqlBObc-W"
   },
   "outputs": [],
   "source": [
    "#setting parameters for lightgbm\n",
    "param = {'num_leaves':80, 'objective':'regression','max_depth':7,'learning_rate':0.09,'max_bin':150,\n",
    "         'min_data_in_leaf': 20}\n",
    "param['metric'] = ['rmse']"
   ]
  },
  {
   "cell_type": "code",
   "execution_count": 0,
   "metadata": {
    "colab": {},
    "colab_type": "code",
    "id": "QfZAKx5Sbc-c",
    "outputId": "bf9ce6bc-01fb-48ea-cfa1-11395aaa8048"
   },
   "outputs": [
    {
     "name": "stdout",
     "output_type": "stream",
     "text": [
      "1.3145854034008686\n",
      "3.133643180426309\n"
     ]
    }
   ],
   "source": [
    "# LightGBM model\n",
    "num_round=100\n",
    "lgbm=lgb.train(param,train_data,num_round)\n",
    "print(sqrt(mean_squared_error(y_train, lgbm.predict(X_train))))\n",
    "print(sqrt(mean_squared_error(y_test, lgbm.predict(X_test))))"
   ]
  },
  {
   "cell_type": "code",
   "execution_count": 0,
   "metadata": {
    "colab": {},
    "colab_type": "code",
    "id": "lwoKt5Wsbc-f",
    "outputId": "955b44cd-972c-483b-d27c-f2a74407bc4e"
   },
   "outputs": [
    {
     "name": "stdout",
     "output_type": "stream",
     "text": [
      "[23:41:46] WARNING: /home/conda/feedstock_root/build_artifacts/xgboost_1566327313563/work/src/objective/regression_obj.cu:152: reg:linear is now deprecated in favor of reg:squarederror.\n",
      "0.31751516283295866\n",
      "2.9598343460550556\n"
     ]
    }
   ],
   "source": [
    "model_xgb = XGBRegressor(n_estimators=1000,learning_rate=0.05,subsample = 0.5,min_child_weight=2,max_depth=5,\n",
    "                         eta =0.6, gamma=0.5, reg_lambda = 2)\n",
    "\n",
    "model_xgb.fit(X_train, y_train)\n",
    "print(sqrt(mean_squared_error(y_train, model_xgb.predict(X_train))))\n",
    "print(sqrt(mean_squared_error(y_test, model_xgb.predict(X_test))))"
   ]
  },
  {
   "cell_type": "code",
   "execution_count": 0,
   "metadata": {
    "colab": {},
    "colab_type": "code",
    "id": "on1-nPQIbc-i"
   },
   "outputs": [],
   "source": [
    "feature_imp = pd.DataFrame(sorted(zip(rf.feature_importances_, X.columns)), columns=['Value','Feature'])"
   ]
  },
  {
   "cell_type": "code",
   "execution_count": 0,
   "metadata": {
    "colab": {},
    "colab_type": "code",
    "id": "8K_Q_NSgbc-m"
   },
   "outputs": [],
   "source": []
  },
  {
   "cell_type": "code",
   "execution_count": 0,
   "metadata": {
    "colab": {},
    "colab_type": "code",
    "id": "_phLAnRQbc-o"
   },
   "outputs": [],
   "source": []
  },
  {
   "cell_type": "markdown",
   "metadata": {
    "colab_type": "text",
    "id": "PxP8T-BVbc-r"
   },
   "source": [
    "For the whole Train Data"
   ]
  },
  {
   "cell_type": "code",
   "execution_count": 0,
   "metadata": {
    "colab": {},
    "colab_type": "code",
    "id": "GwFpXauLbc-s",
    "outputId": "33108966-68b2-4adf-c97a-c641d9642adc"
   },
   "outputs": [
    {
     "name": "stdout",
     "output_type": "stream",
     "text": [
      "1.386151174925884\n"
     ]
    }
   ],
   "source": [
    "num_round=100\n",
    "train_data = lgb.Dataset(X,label=y)\n",
    "lgbm=lgb.train(param,train_data,num_round)\n",
    "print(sqrt(mean_squared_error(y, lgbm.predict(X))))"
   ]
  },
  {
   "cell_type": "code",
   "execution_count": 0,
   "metadata": {
    "colab": {},
    "colab_type": "code",
    "id": "SfkzHL2Lbc-v",
    "outputId": "3b88ab0e-41b8-42db-8165-7dac95d6f457"
   },
   "outputs": [
    {
     "name": "stdout",
     "output_type": "stream",
     "text": [
      "[01:08:14] WARNING: /home/conda/feedstock_root/build_artifacts/xgboost_1566327313563/work/src/objective/regression_obj.cu:152: reg:linear is now deprecated in favor of reg:squarederror.\n"
     ]
    },
    {
     "data": {
      "text/plain": [
       "0.31943649394688645"
      ]
     },
     "execution_count": 380,
     "metadata": {
      "tags": []
     },
     "output_type": "execute_result"
    }
   ],
   "source": [
    "model_xgb = XGBRegressor(n_estimators=1200,learning_rate=0.05,subsample = 0.5,min_child_weight=2,max_depth=5,\n",
    "                         eta =0.6, gamma=0.5, reg_lambda = 2)\n",
    "\n",
    "model_xgb.fit(X, y)\n",
    "sqrt(mean_squared_error(y, model_xgb.predict(X)))"
   ]
  },
  {
   "cell_type": "code",
   "execution_count": 0,
   "metadata": {
    "colab": {},
    "colab_type": "code",
    "id": "OVnYjWTvbc-y",
    "outputId": "831cc184-afa6-4549-dafc-8284f79989e6"
   },
   "outputs": [
    {
     "data": {
      "text/html": [
       "<div>\n",
       "<style scoped>\n",
       "    .dataframe tbody tr th:only-of-type {\n",
       "        vertical-align: middle;\n",
       "    }\n",
       "\n",
       "    .dataframe tbody tr th {\n",
       "        vertical-align: top;\n",
       "    }\n",
       "\n",
       "    .dataframe thead th {\n",
       "        text-align: right;\n",
       "    }\n",
       "</style>\n",
       "<table border=\"1\" class=\"dataframe\">\n",
       "  <thead>\n",
       "    <tr style=\"text-align: right;\">\n",
       "      <th></th>\n",
       "      <th>pred</th>\n",
       "    </tr>\n",
       "  </thead>\n",
       "  <tbody>\n",
       "    <tr>\n",
       "      <td>0</td>\n",
       "      <td>17.237827</td>\n",
       "    </tr>\n",
       "    <tr>\n",
       "      <td>1</td>\n",
       "      <td>13.745220</td>\n",
       "    </tr>\n",
       "    <tr>\n",
       "      <td>2</td>\n",
       "      <td>19.533859</td>\n",
       "    </tr>\n",
       "    <tr>\n",
       "      <td>3</td>\n",
       "      <td>14.376145</td>\n",
       "    </tr>\n",
       "    <tr>\n",
       "      <td>4</td>\n",
       "      <td>21.027617</td>\n",
       "    </tr>\n",
       "    <tr>\n",
       "      <td>...</td>\n",
       "      <td>...</td>\n",
       "    </tr>\n",
       "    <tr>\n",
       "      <td>1008</td>\n",
       "      <td>6.353291</td>\n",
       "    </tr>\n",
       "    <tr>\n",
       "      <td>1009</td>\n",
       "      <td>21.127571</td>\n",
       "    </tr>\n",
       "    <tr>\n",
       "      <td>1010</td>\n",
       "      <td>17.938892</td>\n",
       "    </tr>\n",
       "    <tr>\n",
       "      <td>1011</td>\n",
       "      <td>15.461001</td>\n",
       "    </tr>\n",
       "    <tr>\n",
       "      <td>1012</td>\n",
       "      <td>17.534782</td>\n",
       "    </tr>\n",
       "  </tbody>\n",
       "</table>\n",
       "<p>1013 rows × 1 columns</p>\n",
       "</div>"
      ],
      "text/plain": [
       "           pred\n",
       "0     17.237827\n",
       "1     13.745220\n",
       "2     19.533859\n",
       "3     14.376145\n",
       "4     21.027617\n",
       "...         ...\n",
       "1008   6.353291\n",
       "1009  21.127571\n",
       "1010  17.938892\n",
       "1011  15.461001\n",
       "1012  17.534782\n",
       "\n",
       "[1013 rows x 1 columns]"
      ]
     },
     "execution_count": 400,
     "metadata": {
      "tags": []
     },
     "output_type": "execute_result"
    }
   ],
   "source": [
    "pd.DataFrame(predictions, columns=['pred'])"
   ]
  },
  {
   "cell_type": "code",
   "execution_count": 0,
   "metadata": {
    "colab": {},
    "colab_type": "code",
    "id": "MB7k5hEubc-1"
   },
   "outputs": [],
   "source": [
    "# avg_pre = (model_xgb.predict(df_test) + lgbm.predict(df_test))/2\n",
    "predictions = model_xgb.predict(df_test)\n",
    "\n",
    "# sqrt(mean_squared_error(y_test, avg_pre))"
   ]
  },
  {
   "cell_type": "code",
   "execution_count": 0,
   "metadata": {
    "colab": {},
    "colab_type": "code",
    "id": "wzgl_uUNbc-4",
    "outputId": "e0ee060f-04d3-47dd-ec6c-dbef40d485fe"
   },
   "outputs": [
    {
     "data": {
      "text/html": [
       "<div>\n",
       "<style scoped>\n",
       "    .dataframe tbody tr th:only-of-type {\n",
       "        vertical-align: middle;\n",
       "    }\n",
       "\n",
       "    .dataframe tbody tr th {\n",
       "        vertical-align: top;\n",
       "    }\n",
       "\n",
       "    .dataframe thead th {\n",
       "        text-align: right;\n",
       "    }\n",
       "</style>\n",
       "<table border=\"1\" class=\"dataframe\">\n",
       "  <thead>\n",
       "    <tr style=\"text-align: right;\">\n",
       "      <th></th>\n",
       "      <th>ward</th>\n",
       "      <th>pred</th>\n",
       "    </tr>\n",
       "  </thead>\n",
       "  <tbody>\n",
       "    <tr>\n",
       "      <td>0</td>\n",
       "      <td>21001001: Ward 1</td>\n",
       "      <td>17.794538</td>\n",
       "    </tr>\n",
       "    <tr>\n",
       "      <td>1</td>\n",
       "      <td>21001002: Ward 2</td>\n",
       "      <td>13.605522</td>\n",
       "    </tr>\n",
       "    <tr>\n",
       "      <td>2</td>\n",
       "      <td>21001003: Ward 3</td>\n",
       "      <td>21.258151</td>\n",
       "    </tr>\n",
       "    <tr>\n",
       "      <td>3</td>\n",
       "      <td>21001004: Ward 4</td>\n",
       "      <td>16.100878</td>\n",
       "    </tr>\n",
       "    <tr>\n",
       "      <td>4</td>\n",
       "      <td>21001005: Ward 5</td>\n",
       "      <td>21.435996</td>\n",
       "    </tr>\n",
       "    <tr>\n",
       "      <td>...</td>\n",
       "      <td>...</td>\n",
       "      <td>...</td>\n",
       "    </tr>\n",
       "    <tr>\n",
       "      <td>1008</td>\n",
       "      <td>19100107: Ward 107</td>\n",
       "      <td>7.452900</td>\n",
       "    </tr>\n",
       "    <tr>\n",
       "      <td>1009</td>\n",
       "      <td>19100108: Ward 108</td>\n",
       "      <td>22.336549</td>\n",
       "    </tr>\n",
       "    <tr>\n",
       "      <td>1010</td>\n",
       "      <td>19100109: Ward 109</td>\n",
       "      <td>17.993429</td>\n",
       "    </tr>\n",
       "    <tr>\n",
       "      <td>1011</td>\n",
       "      <td>19100110: Ward 110</td>\n",
       "      <td>15.189440</td>\n",
       "    </tr>\n",
       "    <tr>\n",
       "      <td>1012</td>\n",
       "      <td>19100111: Ward 111</td>\n",
       "      <td>16.552190</td>\n",
       "    </tr>\n",
       "  </tbody>\n",
       "</table>\n",
       "<p>1013 rows × 2 columns</p>\n",
       "</div>"
      ],
      "text/plain": [
       "                    ward       pred\n",
       "0       21001001: Ward 1  17.794538\n",
       "1       21001002: Ward 2  13.605522\n",
       "2       21001003: Ward 3  21.258151\n",
       "3       21001004: Ward 4  16.100878\n",
       "4       21001005: Ward 5  21.435996\n",
       "...                  ...        ...\n",
       "1008  19100107: Ward 107   7.452900\n",
       "1009  19100108: Ward 108  22.336549\n",
       "1010  19100109: Ward 109  17.993429\n",
       "1011  19100110: Ward 110  15.189440\n",
       "1012  19100111: Ward 111  16.552190\n",
       "\n",
       "[1013 rows x 2 columns]"
      ]
     },
     "execution_count": 399,
     "metadata": {
      "tags": []
     },
     "output_type": "execute_result"
    }
   ],
   "source": [
    "submission = pd.concat([ward, pd.DataFrame(rf.predict(df_test), columns=['pred'])], axis=1, sort=False)\n",
    "submission"
   ]
  },
  {
   "cell_type": "code",
   "execution_count": 0,
   "metadata": {
    "colab": {},
    "colab_type": "code",
    "id": "yIYc4W2rbc-7"
   },
   "outputs": [],
   "source": [
    "submission.to_csv('submission.csv', index=False)"
   ]
  },
  {
   "cell_type": "code",
   "execution_count": 0,
   "metadata": {
    "colab": {},
    "colab_type": "code",
    "id": "_nFDHMdZbc--",
    "outputId": "08587181-d839-4853-a55d-85eeef9d890a"
   },
   "outputs": [
    {
     "name": "stderr",
     "output_type": "stream",
     "text": [
      "/home/mohamud/miniconda3/lib/python3.7/site-packages/ipykernel_launcher.py:3: DataConversionWarning: A column-vector y was passed when a 1d array was expected. Please change the shape of y to (n_samples,), for example using ravel().\n",
      "  This is separate from the ipykernel package so we can avoid doing imports until\n"
     ]
    },
    {
     "name": "stdout",
     "output_type": "stream",
     "text": [
      "RMSE: 1.5035149084183252\n",
      "RMSE: 3.253041441120627\n"
     ]
    }
   ],
   "source": [
    "rf = RandomForestRegressor(n_estimators=500, min_samples_split=6, max_features= 8,\n",
    "                           min_samples_leaf=3,max_depth=10, bootstrap= False)\n",
    "rf.fit(X_train, y_train)\n",
    "\n",
    "print(\"RMSE:\", sqrt(mean_squared_error(y_train, rf.predict(X_train))))\n",
    "print(\"RMSE:\", sqrt(mean_squared_error(y_test, rf.predict(X_test))))"
   ]
  },
  {
   "cell_type": "code",
   "execution_count": 0,
   "metadata": {
    "colab": {},
    "colab_type": "code",
    "id": "KiTCN87Vbc_C",
    "outputId": "8d23a33b-1f75-4d40-fdde-60d8fd34553c"
   },
   "outputs": [
    {
     "name": "stderr",
     "output_type": "stream",
     "text": [
      "/home/mohamud/miniconda3/lib/python3.7/site-packages/ipykernel_launcher.py:3: DataConversionWarning: A column-vector y was passed when a 1d array was expected. Please change the shape of y to (n_samples,), for example using ravel().\n",
      "  This is separate from the ipykernel package so we can avoid doing imports until\n"
     ]
    },
    {
     "name": "stdout",
     "output_type": "stream",
     "text": [
      "RMSE: 1.5691905812885407\n"
     ]
    }
   ],
   "source": [
    "rf = RandomForestRegressor(n_estimators=500, min_samples_split=6, max_features= 8,\n",
    "                           min_samples_leaf=3,max_depth=10, bootstrap= False)\n",
    "rf.fit(X, y)\n",
    "\n",
    "print(\"RMSE:\", sqrt(mean_squared_error(y, rf.predict(X))))"
   ]
  },
  {
   "cell_type": "code",
   "execution_count": 0,
   "metadata": {
    "colab": {},
    "colab_type": "code",
    "id": "h_ldHik5bc_H",
    "outputId": "dbd58bc1-fdd1-4954-8716-18917b7e3e12"
   },
   "outputs": [
    {
     "name": "stdout",
     "output_type": "stream",
     "text": [
      "RMSE: 2.209091926838388\n",
      "RMSE: 4.465499833702039\n"
     ]
    }
   ],
   "source": [
    "from sklearn.tree import DecisionTreeRegressor\n",
    "\n",
    "DT = DecisionTreeRegressor(min_samples_split=10, min_samples_leaf=5,max_depth=10)\n",
    "DT.fit(X_train, y_train)\n",
    "\n",
    "print(\"RMSE:\", sqrt(mean_squared_error(y_train, DT.predict(X_train))))\n",
    "print(\"RMSE:\", sqrt(mean_squared_error(y_test, DT.predict(X_test))))"
   ]
  },
  {
   "cell_type": "code",
   "execution_count": 0,
   "metadata": {
    "colab": {},
    "colab_type": "code",
    "id": "MpLoulSsbc_J"
   },
   "outputs": [],
   "source": []
  },
  {
   "cell_type": "code",
   "execution_count": 0,
   "metadata": {
    "colab": {},
    "colab_type": "code",
    "id": "4NgSh6qDbc_L"
   },
   "outputs": [],
   "source": []
  },
  {
   "cell_type": "code",
   "execution_count": 0,
   "metadata": {
    "colab": {},
    "colab_type": "code",
    "id": "NRKlyyBGbc_N"
   },
   "outputs": [],
   "source": []
  },
  {
   "cell_type": "code",
   "execution_count": 0,
   "metadata": {
    "colab": {},
    "colab_type": "code",
    "id": "WzSfqJzSbc_Q"
   },
   "outputs": [],
   "source": []
  },
  {
   "cell_type": "code",
   "execution_count": 0,
   "metadata": {
    "colab": {},
    "colab_type": "code",
    "id": "I-d92gxzbc_S"
   },
   "outputs": [],
   "source": []
  }
 ],
 "metadata": {
  "colab": {
   "name": "Kanubala_second_model .ipynb",
   "provenance": []
  },
  "kernelspec": {
   "display_name": "Python 3",
   "language": "python",
   "name": "python3"
  },
  "language_info": {
   "codemirror_mode": {
    "name": "ipython",
    "version": 3
   },
   "file_extension": ".py",
   "mimetype": "text/x-python",
   "name": "python",
   "nbconvert_exporter": "python",
   "pygments_lexer": "ipython3",
   "version": "3.7.3"
  }
 },
 "nbformat": 4,
 "nbformat_minor": 1
}
